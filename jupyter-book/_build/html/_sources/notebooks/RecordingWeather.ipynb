{
 "cells": [
  {
   "cell_type": "markdown",
   "metadata": {},
   "source": [
    "# Question 2a: CSV Solution\n"
   ]
  },
  {
   "cell_type": "markdown",
   "metadata": {},
   "source": [
    "## The Question\n",
    "\n",
    "2) (a) Let's say you're tasked with using an API to record the weather. Specifically, we want to know the current temperature at our HQ in Los Angeles each day. We want it saved as a CSV file and then loaded into a database. "
   ]
  },
  {
   "cell_type": "markdown",
   "metadata": {},
   "source": [
    "My solution to part is below.  \n",
    "\n",
    "You'll find a program that can dynamicaly request data from the openweather api.  It will append data to a csv file per hour before creatinga new one with a name containing the hour from the datetime.  \n",
    "\n",
    "When integrating into a db each file could be considered indendently if computing power is minimal.  They may also be aggregated via pyspark or pandas into larger csvs.  I would most likely write an automation script to download data, clean it to whatever schema is necessary for the workload, and then upload the data in batches to a database with the sqlalchemy library.  "
   ]
  },
  {
   "cell_type": "markdown",
   "metadata": {},
   "source": [
    "## Solution A"
   ]
  },
  {
   "cell_type": "code",
   "execution_count": 114,
   "metadata": {},
   "outputs": [],
   "source": [
    "import requests, json\n",
    "from pprint import pprint\n",
    "from pandas import json_normalize\n",
    "from flatten_json import flatten_json\n",
    "from datetime import datetime\n",
    "import os"
   ]
  },
  {
   "cell_type": "code",
   "execution_count": 22,
   "metadata": {},
   "outputs": [],
   "source": [
    "def get_key(key_path):\n",
    "    with open(key_path, \"r\") as f:\n",
    "        key = f.read()\n",
    "        key = key.rstrip('\\n')\n",
    "        pprint(key)\n",
    "    return key\n",
    "\n",
    "\n"
   ]
  },
  {
   "cell_type": "code",
   "execution_count": 9,
   "metadata": {},
   "outputs": [],
   "source": [
    "\n",
    "def make_query_string(base_url,lat,long,key):\n",
    "    lat_string = \"lat={}\".format(lat)\n",
    "    long_string = \"lon={}\".format(long)\n",
    "    appid_string = \"appid={}\".format(key)\n",
    "    query_string = \"&\".join([lat_string,long_string,appid_string])\n",
    "    query_string = \"?\".join([base_url,query_string])\n",
    "    return query_string\n",
    "\n"
   ]
  },
  {
   "cell_type": "code",
   "execution_count": 10,
   "metadata": {},
   "outputs": [],
   "source": [
    "def make_request(query_string):\n",
    "    response = requests.get(query_string)\n",
    "    return response\n",
    " \n"
   ]
  },
  {
   "cell_type": "code",
   "execution_count": 11,
   "metadata": {},
   "outputs": [],
   "source": [
    "def make_dict_from_response(response):\n",
    "    try: \n",
    "        return response.json()\n",
    "    except:\n",
    "        raise\n",
    "    "
   ]
  },
  {
   "cell_type": "code",
   "execution_count": 38,
   "metadata": {},
   "outputs": [],
   "source": [
    "def flatten_response(response_dict):\n",
    "    try:\n",
    "        return flatten_json(response_dict)\n",
    "    except:\n",
    "        raise"
   ]
  },
  {
   "cell_type": "code",
   "execution_count": 35,
   "metadata": {},
   "outputs": [],
   "source": [
    "def response_to_df(response_dict):\n",
    "    ## write a test for levels. If dict has more than one than except\n",
    "    try:\n",
    "        return json_normalize(response_dict)\n",
    "    except:\n",
    "        raise"
   ]
  },
  {
   "cell_type": "code",
   "execution_count": 74,
   "metadata": {},
   "outputs": [],
   "source": [
    "def response_to_line(response_dict):\n",
    "    for key,v in response_dict.items():\n",
    "        response_dict[key] = str(v)\n",
    "    value_line = [list(response_dict.values())]\n",
    "    \n",
    "    #pprint(keys)\n",
    "    return value_line\n",
    "\n"
   ]
  },
  {
   "cell_type": "code",
   "execution_count": 111,
   "metadata": {},
   "outputs": [],
   "source": [
    "def add_date_stamp(response_dict):\n",
    "    response_dict['timestamp'] = stamp = datetime.now().strftime(\"%Y-%m-%d:%H:%M:%S:%f\")\n",
    "    pprint(stamp)\n",
    "    return response_dict\n",
    "    "
   ]
  },
  {
   "cell_type": "code",
   "execution_count": 144,
   "metadata": {},
   "outputs": [],
   "source": [
    "def response_df_to_csv(response_df, outpath):\n",
    "    outpath = outpath + os.sep + response_df['timestamp'][0][:-13] + \".csv\"\n",
    "    #output_path='my_csv.csv'\n",
    "    response_df.to_csv(outpath, mode='a', header=not os.path.exists(outpath))\n",
    "    return outpath"
   ]
  },
  {
   "cell_type": "code",
   "execution_count": 145,
   "metadata": {},
   "outputs": [],
   "source": [
    "def main():\n",
    "    outpath = os.getcwd()\n",
    "    key_path = \"/Users/jnapolitano/Projects/pmc-submission/jupyter-book/notebooks/weather_key.txt\"\n",
    "    lat = 34.047470\n",
    "    long = -118.445950\n",
    "    key = get_key(key_path)\n",
    "    base_url = \"https://api.openweathermap.org/data/2.5/weather\"\n",
    "    query_string = make_query_string(base_url,lat,long,key)\n",
    "    pprint(query_string)\n",
    "    response = make_request(query_string=query_string)\n",
    "    response_dict = make_dict_from_response(response=response)\n",
    "    response_dict = flatten_response(response_dict)\n",
    "    response_dict = add_date_stamp(response_dict)\n",
    "    response_df = response_to_df(response_dict)\n",
    "    outfile = response_df_to_csv(response_df,outpath)\n",
    "    \n",
    "    "
   ]
  },
  {
   "cell_type": "code",
   "execution_count": 146,
   "metadata": {},
   "outputs": [
    {
     "name": "stdout",
     "output_type": "stream",
     "text": [
      "'148b18bcf42c611ed874686809a77482'\n",
      "'https://api.openweathermap.org/data/2.5/weather?lat=34.04747&lon=-118.44595&appid=148b18bcf42c611ed874686809a77482'\n",
      "'2022-05-29:21:42:22:133366'\n",
      "'/Users/jnapolitano/Projects/pmc-submission/jupyter-book/notebooks/2022-05-29:21.csv'\n"
     ]
    }
   ],
   "source": [
    "main()"
   ]
  },
  {
   "cell_type": "markdown",
   "metadata": {},
   "source": []
  }
 ],
 "metadata": {
  "kernelspec": {
   "display_name": "venv",
   "language": "python",
   "name": "venv"
  },
  "language_info": {
   "codemirror_mode": {
    "name": "ipython",
    "version": 3
   },
   "file_extension": ".py",
   "mimetype": "text/x-python",
   "name": "python",
   "nbconvert_exporter": "python",
   "pygments_lexer": "ipython3",
   "version": "3.9.12"
  },
  "orig_nbformat": 4
 },
 "nbformat": 4,
 "nbformat_minor": 2
}
