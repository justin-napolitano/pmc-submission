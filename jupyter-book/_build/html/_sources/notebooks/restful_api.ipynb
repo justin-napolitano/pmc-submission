{
 "cells": [
  {
   "cell_type": "markdown",
   "metadata": {},
   "source": [
    "# Restful Api to Upload Data to a BigTable Instance"
   ]
  },
  {
   "cell_type": "markdown",
   "metadata": {},
   "source": [
    "```Python\n",
    "from flask import Flask, request, make_response, jsonify\n",
    "import pandas as pd\n",
    "import gcsfs\n",
    "from google.cloud import bigquery\n",
    "from google.oauth2 import service_account\n",
    "import pandas_gbq\n",
    "import os\n",
    "app = Flask(__name__)\n",
    "app.config[\"DEBUG\"] = True #If the code is malformed, there will be an error shown when visit app\n",
    "@app.route(\"/weather\", methods=[\"GET\"])\n",
    "def weather_table_update():\n",
    "    \n",
    "    latitude = request.args.get('lat', None)\n",
    "    longitude = request.args.get('long', None)\n",
    "    temp = request.args.get('temp')\n",
    "    temp_max = request.args.get('temp_max')\n",
    "    temp_min = request.args.get('temp_min')\n",
    "    feels_like = request.args.get(\"feels_like\")\n",
    "    humidity = request.args.get(\"humidity\")\n",
    "    pressure = request.args.get(\"pressure\")\n",
    "    sunrise = request.args.get('sunrise', None)\n",
    "    sunset = request.args.get('sunset', None)\n",
    "    datetime = request.args.get('datetime',None)\n",
    "    timezone = request.args.get('timezone',None)\n",
    "    city_name = request.args.get('city',None)\n",
    "\n",
    "    \n",
    "    input_table = {'datetime':[datetime],'timezone': [timezone], 'city_name': [city_name], 'latitude':[latitude], 'longitude': [longitude], \"temp\": [temp],\"feels_like\": [feels_like],\"temp_max\": [temp_max], \"temp_min\": [temp_min], \"humidity\": [humidity], \"pressure\":[pressure], 'sunrise': [sunrise], 'sunset': [sunset]}\n",
    "    input_table = pd.DataFrame(input_table)\n",
    "    #input_table[\"datetime\"]= input_table[\"date_time\"].map(strdate_time_obj = datetime.strptime(date_time_str, '%d/%m/%y %H:%M:%S'))\n",
    "    input_table[\"datetime\"] = pd.to_datetime(input_table['datetime'], format=\"%Y-%m-%d %H:%M:%S:%f\")\n",
    "    input_table['latitude'] = pd.to_numeric(input_table['latitude'])\n",
    "    input_table['longitude'] = pd.to_numeric(input_table['longitude'])\n",
    "    input_table['temp'] = pd.to_numeric(input_table['temp'])\n",
    "    input_table['temp_max'] = pd.to_numeric(input_table['temp_max'])\n",
    "    input_table['temp_min'] = pd.to_numeric(input_table['temp_min'])\n",
    "    input_table['humidity'] = pd.to_numeric(input_table['humidity'])\n",
    "    input_table['feels_like'] = pd.to_numeric(input_table['feels_like'])\n",
    "    input_table['pressure'] = pd.to_numeric(input_table['pressure'])\n",
    "    input_table['sunset'] = pd.to_numeric(input_table['sunset'])\n",
    "    input_table['sunrise'] = pd.to_numeric(input_table['sunrise'])\n",
    "    input_table['timezone'] = pd.to_numeric(input_table['timezone'])\n",
    "    #input_table[\"book_author\"]= input_table[\"book_author\"].map(str)\n",
    "    \n",
    "    #Push table to Google Big Query\n",
    "    client = bigquery.Client()\n",
    "    project_id = 'pmc-submission-api'\n",
    "    table_id = 'Weather.weather_test_api'\n",
    "    pandas_gbq.to_gbq(input_table, table_id, project_id=project_id, if_exists='append')\n",
    "    \n",
    "    return \"Table weather_test_api has been Updated\"\n",
    "```"
   ]
  }
 ],
 "metadata": {
  "language_info": {
   "name": "python"
  },
  "orig_nbformat": 4
 },
 "nbformat": 4,
 "nbformat_minor": 2
}
