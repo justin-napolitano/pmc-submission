{
 "cells": [
  {
   "cell_type": "code",
   "execution_count": 25,
   "metadata": {},
   "outputs": [
    {
     "data": {
      "text/plain": [
       "PyObject <module 'sklearn.metrics' from '/Users/jnapolitano/venvs/finance/lib/python3.9/site-packages/sklearn/metrics/__init__.py'>"
      ]
     },
     "execution_count": 25,
     "metadata": {},
     "output_type": "execute_result"
    }
   ],
   "source": [
    "using Pkg\n",
    "using DataFrames\n",
    "using CSV\n",
    "using Plots\n",
    "using GLM\n",
    "using StatsBase\n",
    "using Lathe\n",
    "using MLBase\n",
    "using ClassImbalance\n",
    "using ROCAnalysis\n",
    "using PyCall\n",
    "sklearn = pyimport(\"sklearn.metrics\")"
   ]
  },
  {
   "cell_type": "code",
   "execution_count": 26,
   "metadata": {},
   "outputs": [
    {
     "data": {
      "text/plain": [
       "load_csv (generic function with 1 method)"
      ]
     },
     "execution_count": 26,
     "metadata": {},
     "output_type": "execute_result"
    }
   ],
   "source": [
    "function load_csv() \n",
    "\n",
    "    df = DataFrame(CSV.File(\"./Churn_Modelling.csv\")) \n",
    "    return df \n",
    "end"
   ]
  },
  {
   "cell_type": "markdown",
   "metadata": {},
   "source": [
    "# Data Exploration"
   ]
  },
  {
   "cell_type": "code",
   "execution_count": 27,
   "metadata": {},
   "outputs": [
    {
     "data": {
      "text/html": [
       "<table class=\"data-frame\"><thead><tr><th></th><th>RowNumber</th><th>CustomerId</th><th>Surname</th><th>CreditScore</th><th>Geography</th><th>Gender</th><th>Age</th><th>Tenure</th></tr><tr><th></th><th>Int64</th><th>Int64</th><th>String31</th><th>Int64</th><th>String7</th><th>String7</th><th>Int64</th><th>Int64</th></tr></thead><tbody><p>5 rows × 14 columns (omitted printing of 6 columns)</p><tr><th>1</th><td>1</td><td>15634602</td><td>Hargrave</td><td>619</td><td>France</td><td>Female</td><td>42</td><td>2</td></tr><tr><th>2</th><td>2</td><td>15647311</td><td>Hill</td><td>608</td><td>Spain</td><td>Female</td><td>41</td><td>1</td></tr><tr><th>3</th><td>3</td><td>15619304</td><td>Onio</td><td>502</td><td>France</td><td>Female</td><td>42</td><td>8</td></tr><tr><th>4</th><td>4</td><td>15701354</td><td>Boni</td><td>699</td><td>France</td><td>Female</td><td>39</td><td>1</td></tr><tr><th>5</th><td>5</td><td>15737888</td><td>Mitchell</td><td>850</td><td>Spain</td><td>Female</td><td>43</td><td>2</td></tr></tbody></table>"
      ],
      "text/latex": [
       "\\begin{tabular}{r|ccccccccc}\n",
       "\t& RowNumber & CustomerId & Surname & CreditScore & Geography & Gender & Age & Tenure & \\\\\n",
       "\t\\hline\n",
       "\t& Int64 & Int64 & String31 & Int64 & String7 & String7 & Int64 & Int64 & \\\\\n",
       "\t\\hline\n",
       "\t1 & 1 & 15634602 & Hargrave & 619 & France & Female & 42 & 2 & $\\dots$ \\\\\n",
       "\t2 & 2 & 15647311 & Hill & 608 & Spain & Female & 41 & 1 & $\\dots$ \\\\\n",
       "\t3 & 3 & 15619304 & Onio & 502 & France & Female & 42 & 8 & $\\dots$ \\\\\n",
       "\t4 & 4 & 15701354 & Boni & 699 & France & Female & 39 & 1 & $\\dots$ \\\\\n",
       "\t5 & 5 & 15737888 & Mitchell & 850 & Spain & Female & 43 & 2 & $\\dots$ \\\\\n",
       "\\end{tabular}\n"
      ],
      "text/plain": [
       "5×14 typename(DataFrame). Omitted printing of 8 columns\n",
       "│ Row │ RowNumber │ CustomerId │ Surname  │ CreditScore │ Geography │ Gender  │\n",
       "│     │ \u001b[90mInt64\u001b[39m     │ \u001b[90mInt64\u001b[39m      │ \u001b[90mString31\u001b[39m │ \u001b[90mInt64\u001b[39m       │ \u001b[90mString7\u001b[39m   │ \u001b[90mString7\u001b[39m │\n",
       "├─────┼───────────┼────────────┼──────────┼─────────────┼───────────┼─────────┤\n",
       "│ 1   │ 1         │ 15634602   │ Hargrave │ 619         │ France    │ Female  │\n",
       "│ 2   │ 2         │ 15647311   │ Hill     │ 608         │ Spain     │ Female  │\n",
       "│ 3   │ 3         │ 15619304   │ Onio     │ 502         │ France    │ Female  │\n",
       "│ 4   │ 4         │ 15701354   │ Boni     │ 699         │ France    │ Female  │\n",
       "│ 5   │ 5         │ 15737888   │ Mitchell │ 850         │ Spain     │ Female  │"
      ]
     },
     "execution_count": 27,
     "metadata": {},
     "output_type": "execute_result"
    }
   ],
   "source": [
    "marketing_df = load_csv()\n",
    "first(marketing_df,5)"
   ]
  },
  {
   "cell_type": "code",
   "execution_count": 28,
   "metadata": {},
   "outputs": [
    {
     "name": "stdout",
     "output_type": "stream",
     "text": [
      "(10000, 14)\n"
     ]
    },
    {
     "data": {
      "text/html": [
       "<table class=\"data-frame\"><thead><tr><th></th><th>variable</th><th>mean</th><th>min</th><th>median</th><th>max</th><th>nunique</th><th>nmissing</th><th>eltype</th></tr><tr><th></th><th>Symbol</th><th>Union…</th><th>Any</th><th>Union…</th><th>Any</th><th>Union…</th><th>Nothing</th><th>DataType</th></tr></thead><tbody><p>14 rows × 8 columns</p><tr><th>1</th><td>RowNumber</td><td>5000.5</td><td>1</td><td>5000.5</td><td>10000</td><td></td><td></td><td>Int64</td></tr><tr><th>2</th><td>CustomerId</td><td>1.56909e7</td><td>15565701</td><td>1.56907e7</td><td>15815690</td><td></td><td></td><td>Int64</td></tr><tr><th>3</th><td>Surname</td><td></td><td>Abazu</td><td></td><td>Zuyeva</td><td>2932</td><td></td><td>String31</td></tr><tr><th>4</th><td>CreditScore</td><td>650.529</td><td>350</td><td>652.0</td><td>850</td><td></td><td></td><td>Int64</td></tr><tr><th>5</th><td>Geography</td><td></td><td>France</td><td></td><td>Spain</td><td>3</td><td></td><td>String7</td></tr><tr><th>6</th><td>Gender</td><td></td><td>Female</td><td></td><td>Male</td><td>2</td><td></td><td>String7</td></tr><tr><th>7</th><td>Age</td><td>38.9218</td><td>18</td><td>37.0</td><td>92</td><td></td><td></td><td>Int64</td></tr><tr><th>8</th><td>Tenure</td><td>5.0128</td><td>0</td><td>5.0</td><td>10</td><td></td><td></td><td>Int64</td></tr><tr><th>9</th><td>Balance</td><td>76485.9</td><td>0.0</td><td>97198.5</td><td>2.50898e5</td><td></td><td></td><td>Float64</td></tr><tr><th>10</th><td>NumOfProducts</td><td>1.5302</td><td>1</td><td>1.0</td><td>4</td><td></td><td></td><td>Int64</td></tr><tr><th>11</th><td>HasCrCard</td><td>0.7055</td><td>0</td><td>1.0</td><td>1</td><td></td><td></td><td>Int64</td></tr><tr><th>12</th><td>IsActiveMember</td><td>0.5151</td><td>0</td><td>1.0</td><td>1</td><td></td><td></td><td>Int64</td></tr><tr><th>13</th><td>EstimatedSalary</td><td>1.0009e5</td><td>11.58</td><td>1.00194e5</td><td>1.99992e5</td><td></td><td></td><td>Float64</td></tr><tr><th>14</th><td>Exited</td><td>0.2037</td><td>0</td><td>0.0</td><td>1</td><td></td><td></td><td>Int64</td></tr></tbody></table>"
      ],
      "text/latex": [
       "\\begin{tabular}{r|cccccccc}\n",
       "\t& variable & mean & min & median & max & nunique & nmissing & eltype\\\\\n",
       "\t\\hline\n",
       "\t& Symbol & Union… & Any & Union… & Any & Union… & Nothing & DataType\\\\\n",
       "\t\\hline\n",
       "\t1 & RowNumber & 5000.5 & 1 & 5000.5 & 10000 &  &  & Int64 \\\\\n",
       "\t2 & CustomerId & 1.56909e7 & 15565701 & 1.56907e7 & 15815690 &  &  & Int64 \\\\\n",
       "\t3 & Surname &  & Abazu &  & Zuyeva & 2932 &  & String31 \\\\\n",
       "\t4 & CreditScore & 650.529 & 350 & 652.0 & 850 &  &  & Int64 \\\\\n",
       "\t5 & Geography &  & France &  & Spain & 3 &  & String7 \\\\\n",
       "\t6 & Gender &  & Female &  & Male & 2 &  & String7 \\\\\n",
       "\t7 & Age & 38.9218 & 18 & 37.0 & 92 &  &  & Int64 \\\\\n",
       "\t8 & Tenure & 5.0128 & 0 & 5.0 & 10 &  &  & Int64 \\\\\n",
       "\t9 & Balance & 76485.9 & 0.0 & 97198.5 & 2.50898e5 &  &  & Float64 \\\\\n",
       "\t10 & NumOfProducts & 1.5302 & 1 & 1.0 & 4 &  &  & Int64 \\\\\n",
       "\t11 & HasCrCard & 0.7055 & 0 & 1.0 & 1 &  &  & Int64 \\\\\n",
       "\t12 & IsActiveMember & 0.5151 & 0 & 1.0 & 1 &  &  & Int64 \\\\\n",
       "\t13 & EstimatedSalary & 1.0009e5 & 11.58 & 1.00194e5 & 1.99992e5 &  &  & Float64 \\\\\n",
       "\t14 & Exited & 0.2037 & 0 & 0.0 & 1 &  &  & Int64 \\\\\n",
       "\\end{tabular}\n"
      ],
      "text/plain": [
       "14×8 typename(DataFrame). Omitted printing of 3 columns\n",
       "│ Row │ variable        │ mean      │ min      │ median    │ max       │\n",
       "│     │ \u001b[90mSymbol\u001b[39m          │ \u001b[90mUnion…\u001b[39m    │ \u001b[90mAny\u001b[39m      │ \u001b[90mUnion…\u001b[39m    │ \u001b[90mAny\u001b[39m       │\n",
       "├─────┼─────────────────┼───────────┼──────────┼───────────┼───────────┤\n",
       "│ 1   │ RowNumber       │ 5000.5    │ 1        │ 5000.5    │ 10000     │\n",
       "│ 2   │ CustomerId      │ 1.56909e7 │ 15565701 │ 1.56907e7 │ 15815690  │\n",
       "│ 3   │ Surname         │           │ Abazu    │           │ Zuyeva    │\n",
       "│ 4   │ CreditScore     │ 650.529   │ 350      │ 652.0     │ 850       │\n",
       "│ 5   │ Geography       │           │ France   │           │ Spain     │\n",
       "│ 6   │ Gender          │           │ Female   │           │ Male      │\n",
       "│ 7   │ Age             │ 38.9218   │ 18       │ 37.0      │ 92        │\n",
       "│ 8   │ Tenure          │ 5.0128    │ 0        │ 5.0       │ 10        │\n",
       "│ 9   │ Balance         │ 76485.9   │ 0.0      │ 97198.5   │ 2.50898e5 │\n",
       "│ 10  │ NumOfProducts   │ 1.5302    │ 1        │ 1.0       │ 4         │\n",
       "│ 11  │ HasCrCard       │ 0.7055    │ 0        │ 1.0       │ 1         │\n",
       "│ 12  │ IsActiveMember  │ 0.5151    │ 0        │ 1.0       │ 1         │\n",
       "│ 13  │ EstimatedSalary │ 1.0009e5  │ 11.58    │ 1.00194e5 │ 1.99992e5 │\n",
       "│ 14  │ Exited          │ 0.2037    │ 0        │ 0.0       │ 1         │"
      ]
     },
     "execution_count": 28,
     "metadata": {},
     "output_type": "execute_result"
    }
   ],
   "source": [
    "println(size(marketing_df))\n",
    "describe(marketing_df)"
   ]
  },
  {
   "cell_type": "code",
   "execution_count": 29,
   "metadata": {},
   "outputs": [
    {
     "data": {
      "text/plain": [
       "14-element Vector{Symbol}:\n",
       " :RowNumber\n",
       " :CustomerId\n",
       " :Surname\n",
       " :CreditScore\n",
       " :Geography\n",
       " :Gender\n",
       " :Age\n",
       " :Tenure\n",
       " :Balance\n",
       " :NumOfProducts\n",
       " :HasCrCard\n",
       " :IsActiveMember\n",
       " :EstimatedSalary\n",
       " :Exited"
      ]
     },
     "execution_count": 29,
     "metadata": {},
     "output_type": "execute_result"
    }
   ],
   "source": [
    "# Check column names\n",
    "names(marketing_df)"
   ]
  },
  {
   "cell_type": "markdown",
   "metadata": {},
   "source": [
    "### Check Class Imbalance\n"
   ]
  },
  {
   "cell_type": "code",
   "execution_count": 30,
   "metadata": {},
   "outputs": [
    {
     "data": {
      "text/plain": [
       "Dict{Int64, Int64} with 2 entries:\n",
       "  0 => 7963\n",
       "  1 => 2037"
      ]
     },
     "execution_count": 30,
     "metadata": {},
     "output_type": "execute_result"
    }
   ],
   "source": [
    "# Count the classes\n",
    "countmap(marketing_df.Exited)"
   ]
  },
  {
   "cell_type": "markdown",
   "metadata": {},
   "source": [
    "## Data Preprocessing\n"
   ]
  },
  {
   "cell_type": "markdown",
   "metadata": {},
   "source": [
    "### One Hot Encoding"
   ]
  },
  {
   "cell_type": "code",
   "execution_count": 31,
   "metadata": {},
   "outputs": [
    {
     "data": {
      "text/html": [
       "<table class=\"data-frame\"><thead><tr><th></th><th>CreditScore</th><th>Age</th><th>Tenure</th><th>Balance</th><th>NumOfProducts</th><th>HasCrCard</th><th>IsActiveMember</th></tr><tr><th></th><th>Int64</th><th>Int64</th><th>Int64</th><th>Float64</th><th>Int64</th><th>Int64</th><th>Int64</th></tr></thead><tbody><p>10,000 rows × 13 columns (omitted printing of 6 columns)</p><tr><th>1</th><td>619</td><td>42</td><td>2</td><td>0.0</td><td>1</td><td>1</td><td>1</td></tr><tr><th>2</th><td>608</td><td>41</td><td>1</td><td>83807.9</td><td>1</td><td>0</td><td>1</td></tr><tr><th>3</th><td>502</td><td>42</td><td>8</td><td>1.59661e5</td><td>3</td><td>1</td><td>0</td></tr><tr><th>4</th><td>699</td><td>39</td><td>1</td><td>0.0</td><td>2</td><td>0</td><td>0</td></tr><tr><th>5</th><td>850</td><td>43</td><td>2</td><td>1.25511e5</td><td>1</td><td>1</td><td>1</td></tr><tr><th>6</th><td>645</td><td>44</td><td>8</td><td>1.13756e5</td><td>2</td><td>1</td><td>0</td></tr><tr><th>7</th><td>822</td><td>50</td><td>7</td><td>0.0</td><td>2</td><td>1</td><td>1</td></tr><tr><th>8</th><td>376</td><td>29</td><td>4</td><td>1.15047e5</td><td>4</td><td>1</td><td>0</td></tr><tr><th>9</th><td>501</td><td>44</td><td>4</td><td>1.42051e5</td><td>2</td><td>0</td><td>1</td></tr><tr><th>10</th><td>684</td><td>27</td><td>2</td><td>1.34604e5</td><td>1</td><td>1</td><td>1</td></tr><tr><th>11</th><td>528</td><td>31</td><td>6</td><td>1.02017e5</td><td>2</td><td>0</td><td>0</td></tr><tr><th>12</th><td>497</td><td>24</td><td>3</td><td>0.0</td><td>2</td><td>1</td><td>0</td></tr><tr><th>13</th><td>476</td><td>34</td><td>10</td><td>0.0</td><td>2</td><td>1</td><td>0</td></tr><tr><th>14</th><td>549</td><td>25</td><td>5</td><td>0.0</td><td>2</td><td>0</td><td>0</td></tr><tr><th>15</th><td>635</td><td>35</td><td>7</td><td>0.0</td><td>2</td><td>1</td><td>1</td></tr><tr><th>16</th><td>616</td><td>45</td><td>3</td><td>1.43129e5</td><td>2</td><td>0</td><td>1</td></tr><tr><th>17</th><td>653</td><td>58</td><td>1</td><td>1.32603e5</td><td>1</td><td>1</td><td>0</td></tr><tr><th>18</th><td>549</td><td>24</td><td>9</td><td>0.0</td><td>2</td><td>1</td><td>1</td></tr><tr><th>19</th><td>587</td><td>45</td><td>6</td><td>0.0</td><td>1</td><td>0</td><td>0</td></tr><tr><th>20</th><td>726</td><td>24</td><td>6</td><td>0.0</td><td>2</td><td>1</td><td>1</td></tr><tr><th>21</th><td>732</td><td>41</td><td>8</td><td>0.0</td><td>2</td><td>1</td><td>1</td></tr><tr><th>22</th><td>636</td><td>32</td><td>8</td><td>0.0</td><td>2</td><td>1</td><td>0</td></tr><tr><th>23</th><td>510</td><td>38</td><td>4</td><td>0.0</td><td>1</td><td>1</td><td>0</td></tr><tr><th>24</th><td>669</td><td>46</td><td>3</td><td>0.0</td><td>2</td><td>0</td><td>1</td></tr><tr><th>25</th><td>846</td><td>38</td><td>5</td><td>0.0</td><td>1</td><td>1</td><td>1</td></tr><tr><th>26</th><td>577</td><td>25</td><td>3</td><td>0.0</td><td>2</td><td>0</td><td>1</td></tr><tr><th>27</th><td>756</td><td>36</td><td>2</td><td>1.36816e5</td><td>1</td><td>1</td><td>1</td></tr><tr><th>28</th><td>571</td><td>44</td><td>9</td><td>0.0</td><td>2</td><td>0</td><td>0</td></tr><tr><th>29</th><td>574</td><td>43</td><td>3</td><td>1.41349e5</td><td>1</td><td>1</td><td>1</td></tr><tr><th>30</th><td>411</td><td>29</td><td>0</td><td>59697.2</td><td>2</td><td>1</td><td>1</td></tr><tr><th>&vellip;</th><td>&vellip;</td><td>&vellip;</td><td>&vellip;</td><td>&vellip;</td><td>&vellip;</td><td>&vellip;</td><td>&vellip;</td></tr></tbody></table>"
      ],
      "text/latex": [
       "\\begin{tabular}{r|cccccccc}\n",
       "\t& CreditScore & Age & Tenure & Balance & NumOfProducts & HasCrCard & IsActiveMember & \\\\\n",
       "\t\\hline\n",
       "\t& Int64 & Int64 & Int64 & Float64 & Int64 & Int64 & Int64 & \\\\\n",
       "\t\\hline\n",
       "\t1 & 619 & 42 & 2 & 0.0 & 1 & 1 & 1 & $\\dots$ \\\\\n",
       "\t2 & 608 & 41 & 1 & 83807.9 & 1 & 0 & 1 & $\\dots$ \\\\\n",
       "\t3 & 502 & 42 & 8 & 1.59661e5 & 3 & 1 & 0 & $\\dots$ \\\\\n",
       "\t4 & 699 & 39 & 1 & 0.0 & 2 & 0 & 0 & $\\dots$ \\\\\n",
       "\t5 & 850 & 43 & 2 & 1.25511e5 & 1 & 1 & 1 & $\\dots$ \\\\\n",
       "\t6 & 645 & 44 & 8 & 1.13756e5 & 2 & 1 & 0 & $\\dots$ \\\\\n",
       "\t7 & 822 & 50 & 7 & 0.0 & 2 & 1 & 1 & $\\dots$ \\\\\n",
       "\t8 & 376 & 29 & 4 & 1.15047e5 & 4 & 1 & 0 & $\\dots$ \\\\\n",
       "\t9 & 501 & 44 & 4 & 1.42051e5 & 2 & 0 & 1 & $\\dots$ \\\\\n",
       "\t10 & 684 & 27 & 2 & 1.34604e5 & 1 & 1 & 1 & $\\dots$ \\\\\n",
       "\t11 & 528 & 31 & 6 & 1.02017e5 & 2 & 0 & 0 & $\\dots$ \\\\\n",
       "\t12 & 497 & 24 & 3 & 0.0 & 2 & 1 & 0 & $\\dots$ \\\\\n",
       "\t13 & 476 & 34 & 10 & 0.0 & 2 & 1 & 0 & $\\dots$ \\\\\n",
       "\t14 & 549 & 25 & 5 & 0.0 & 2 & 0 & 0 & $\\dots$ \\\\\n",
       "\t15 & 635 & 35 & 7 & 0.0 & 2 & 1 & 1 & $\\dots$ \\\\\n",
       "\t16 & 616 & 45 & 3 & 1.43129e5 & 2 & 0 & 1 & $\\dots$ \\\\\n",
       "\t17 & 653 & 58 & 1 & 1.32603e5 & 1 & 1 & 0 & $\\dots$ \\\\\n",
       "\t18 & 549 & 24 & 9 & 0.0 & 2 & 1 & 1 & $\\dots$ \\\\\n",
       "\t19 & 587 & 45 & 6 & 0.0 & 1 & 0 & 0 & $\\dots$ \\\\\n",
       "\t20 & 726 & 24 & 6 & 0.0 & 2 & 1 & 1 & $\\dots$ \\\\\n",
       "\t21 & 732 & 41 & 8 & 0.0 & 2 & 1 & 1 & $\\dots$ \\\\\n",
       "\t22 & 636 & 32 & 8 & 0.0 & 2 & 1 & 0 & $\\dots$ \\\\\n",
       "\t23 & 510 & 38 & 4 & 0.0 & 1 & 1 & 0 & $\\dots$ \\\\\n",
       "\t24 & 669 & 46 & 3 & 0.0 & 2 & 0 & 1 & $\\dots$ \\\\\n",
       "\t25 & 846 & 38 & 5 & 0.0 & 1 & 1 & 1 & $\\dots$ \\\\\n",
       "\t26 & 577 & 25 & 3 & 0.0 & 2 & 0 & 1 & $\\dots$ \\\\\n",
       "\t27 & 756 & 36 & 2 & 1.36816e5 & 1 & 1 & 1 & $\\dots$ \\\\\n",
       "\t28 & 571 & 44 & 9 & 0.0 & 2 & 0 & 0 & $\\dots$ \\\\\n",
       "\t29 & 574 & 43 & 3 & 1.41349e5 & 1 & 1 & 1 & $\\dots$ \\\\\n",
       "\t30 & 411 & 29 & 0 & 59697.2 & 2 & 1 & 1 & $\\dots$ \\\\\n",
       "\t$\\dots$ & $\\dots$ & $\\dots$ & $\\dots$ & $\\dots$ & $\\dots$ & $\\dots$ & $\\dots$ &  \\\\\n",
       "\\end{tabular}\n"
      ],
      "text/plain": [
       "10000×13 typename(DataFrame). Omitted printing of 7 columns\n",
       "│ Row   │ CreditScore │ Age   │ Tenure │ Balance   │ NumOfProducts │ HasCrCard │\n",
       "│       │ \u001b[90mInt64\u001b[39m       │ \u001b[90mInt64\u001b[39m │ \u001b[90mInt64\u001b[39m  │ \u001b[90mFloat64\u001b[39m   │ \u001b[90mInt64\u001b[39m         │ \u001b[90mInt64\u001b[39m     │\n",
       "├───────┼─────────────┼───────┼────────┼───────────┼───────────────┼───────────┤\n",
       "│ 1     │ 619         │ 42    │ 2      │ 0.0       │ 1             │ 1         │\n",
       "│ 2     │ 608         │ 41    │ 1      │ 83807.9   │ 1             │ 0         │\n",
       "│ 3     │ 502         │ 42    │ 8      │ 1.59661e5 │ 3             │ 1         │\n",
       "│ 4     │ 699         │ 39    │ 1      │ 0.0       │ 2             │ 0         │\n",
       "│ 5     │ 850         │ 43    │ 2      │ 1.25511e5 │ 1             │ 1         │\n",
       "│ 6     │ 645         │ 44    │ 8      │ 1.13756e5 │ 2             │ 1         │\n",
       "│ 7     │ 822         │ 50    │ 7      │ 0.0       │ 2             │ 1         │\n",
       "│ 8     │ 376         │ 29    │ 4      │ 1.15047e5 │ 4             │ 1         │\n",
       "│ 9     │ 501         │ 44    │ 4      │ 1.42051e5 │ 2             │ 0         │\n",
       "│ 10    │ 684         │ 27    │ 2      │ 1.34604e5 │ 1             │ 1         │\n",
       "⋮\n",
       "│ 9990  │ 841         │ 28    │ 4      │ 0.0       │ 2             │ 1         │\n",
       "│ 9991  │ 714         │ 33    │ 3      │ 35016.6   │ 1             │ 1         │\n",
       "│ 9992  │ 597         │ 53    │ 4      │ 88381.2   │ 1             │ 1         │\n",
       "│ 9993  │ 726         │ 36    │ 2      │ 0.0       │ 1             │ 1         │\n",
       "│ 9994  │ 644         │ 28    │ 7      │ 1.5506e5  │ 1             │ 1         │\n",
       "│ 9995  │ 800         │ 29    │ 2      │ 0.0       │ 2             │ 0         │\n",
       "│ 9996  │ 771         │ 39    │ 5      │ 0.0       │ 2             │ 1         │\n",
       "│ 9997  │ 516         │ 35    │ 10     │ 57369.6   │ 1             │ 1         │\n",
       "│ 9998  │ 709         │ 36    │ 7      │ 0.0       │ 1             │ 0         │\n",
       "│ 9999  │ 772         │ 42    │ 3      │ 75075.3   │ 2             │ 1         │\n",
       "│ 10000 │ 792         │ 28    │ 4      │ 1.30143e5 │ 1             │ 1         │"
      ]
     },
     "execution_count": 31,
     "metadata": {},
     "output_type": "execute_result"
    }
   ],
   "source": [
    "# One hot encoding\n",
    "Lathe.preprocess.OneHotEncode(marketing_df,:Geography)\n",
    "Lathe.preprocess.OneHotEncode(marketing_df,:Gender)\n",
    "select!(marketing_df, Not([:RowNumber, :CustomerId,:Surname,:Geography,:Gender,:Male]))\n"
   ]
  },
  {
   "cell_type": "markdown",
   "metadata": {},
   "source": [
    "### Split Train/and Test Data"
   ]
  },
  {
   "cell_type": "code",
   "execution_count": 32,
   "metadata": {},
   "outputs": [],
   "source": [
    "# Train test split\n",
    "using Lathe.preprocess: TrainTestSplit\n",
    "train, test = TrainTestSplit(marketing_df,.75);"
   ]
  },
  {
   "cell_type": "markdown",
   "metadata": {},
   "source": [
    "## Build Model\n"
   ]
  },
  {
   "cell_type": "code",
   "execution_count": 33,
   "metadata": {},
   "outputs": [
    {
     "data": {
      "text/plain": [
       "StatsModels.TableRegressionModel{GeneralizedLinearModel{GLM.GlmResp{Vector{Float64}, Binomial{Float64}, ProbitLink}, GLM.DensePredChol{Float64, LinearAlgebra.Cholesky{Float64, Matrix{Float64}}}}, Matrix{Float64}}\n",
       "\n",
       "Exited ~ 1 + CreditScore + Age + Tenure + Balance + NumOfProducts + HasCrCard + IsActiveMember + EstimatedSalary + Female + France + Spain\n",
       "\n",
       "Coefficients:\n",
       "───────────────────────────────────────────────────────────────────────────────────────\n",
       "                        Coef.   Std. Error       z  Pr(>|z|)     Lower 95%    Upper 95%\n",
       "───────────────────────────────────────────────────────────────────────────────────────\n",
       "(Intercept)      -1.90933      0.165007     -11.57    <1e-30  -2.23274      -1.58592\n",
       "CreditScore      -0.000321917  0.000183184   -1.76    0.0789  -0.000680951   3.71172e-5\n",
       "Age               0.040893     0.00165251    24.75    <1e-99   0.0376541     0.0441318\n",
       "Tenure           -0.008864     0.00611129    -1.45    0.1469  -0.0208419     0.0031139\n",
       "Balance           1.65933e-6   3.30286e-7     5.02    <1e-06   1.01198e-6    2.30668e-6\n",
       "NumOfProducts    -0.040173     0.0309946     -1.30    0.1949  -0.100921      0.0205753\n",
       "HasCrCard        -0.00442931   0.0386394     -0.11    0.9087  -0.0801612     0.0713026\n",
       "IsActiveMember   -0.557894     0.0365213    -15.28    <1e-51  -0.629475     -0.486314\n",
       "EstimatedSalary   2.2925e-7    3.07604e-7     0.75    0.4561  -3.73644e-7    8.32143e-7\n",
       "Female            0.301642     0.0354259      8.51    <1e-16   0.232209      0.371076\n",
       "France           -0.450226     0.0446176    -10.09    <1e-23  -0.537674     -0.362777\n",
       "Spain            -0.443184     0.051707      -8.57    <1e-16  -0.544527     -0.34184\n",
       "───────────────────────────────────────────────────────────────────────────────────────"
      ]
     },
     "execution_count": 33,
     "metadata": {},
     "output_type": "execute_result"
    }
   ],
   "source": [
    "# Train logistic regression model\n",
    "fm = @formula(Exited ~ CreditScore + Age + Tenure + Balance + NumOfProducts + HasCrCard + IsActiveMember + EstimatedSalary + Female + France + Spain)\n",
    "logit = glm(fm, train, Binomial(), ProbitLink())"
   ]
  },
  {
   "cell_type": "markdown",
   "metadata": {},
   "source": [
    "## Model Predictions and Evaluation"
   ]
  },
  {
   "cell_type": "code",
   "execution_count": 34,
   "metadata": {},
   "outputs": [
    {
     "data": {
      "text/plain": [
       "2406-element Vector{Union{Missing, Float64}}:\n",
       " 0.24401107345293602\n",
       " 0.1266535868551322\n",
       " 0.031721959583257124\n",
       " 0.11357816519004983\n",
       " 0.24824114578495612\n",
       " 0.024688755265128235\n",
       " 0.14209354336141483\n",
       " 0.18528877855991494\n",
       " 0.15470097145575007\n",
       " 0.25962439112051505\n",
       " 0.15117890643161475\n",
       " 0.2110682947689441\n",
       " 0.06358192272871947\n",
       " ⋮\n",
       " 0.24899439141513482\n",
       " 0.23449577199293972\n",
       " 0.13610439167926225\n",
       " 0.1737934374110589\n",
       " 0.1341643450975004\n",
       " 0.5831068095078078\n",
       " 0.2950497674661655\n",
       " 0.04139159536998556\n",
       " 0.06795785137729822\n",
       " 0.017204995327274736\n",
       " 0.12888818685657766\n",
       " 0.15310112069144077"
      ]
     },
     "execution_count": 34,
     "metadata": {},
     "output_type": "execute_result"
    }
   ],
   "source": [
    "# Predict the target variable on test data \n",
    "prediction = predict(logit,test)"
   ]
  },
  {
   "cell_type": "code",
   "execution_count": 35,
   "metadata": {},
   "outputs": [
    {
     "data": {
      "text/plain": [
       "2406-element BitVector:\n",
       " 0\n",
       " 1\n",
       " 1\n",
       " 1\n",
       " 1\n",
       " 1\n",
       " 1\n",
       " 1\n",
       " 1\n",
       " 0\n",
       " 1\n",
       " 1\n",
       " 1\n",
       " ⋮\n",
       " 1\n",
       " 1\n",
       " 1\n",
       " 1\n",
       " 1\n",
       " 1\n",
       " 1\n",
       " 1\n",
       " 1\n",
       " 1\n",
       " 1\n",
       " 1"
      ]
     },
     "execution_count": 35,
     "metadata": {},
     "output_type": "execute_result"
    }
   ],
   "source": [
    "# Convert probability score to class\n",
    "prediction_class = [if x < 0.5 0 else 1 end for x in prediction];\n",
    "\n",
    "prediction_df = DataFrame(y_actual = test.Exited, y_predicted = prediction_class, prob_predicted = prediction);\n",
    "prediction_df.correctly_classified = prediction_df.y_actual .== prediction_df.y_predicted"
   ]
  },
  {
   "cell_type": "markdown",
   "metadata": {},
   "source": [
    "## Prediction Accuracy"
   ]
  },
  {
   "cell_type": "code",
   "execution_count": 36,
   "metadata": {},
   "outputs": [
    {
     "data": {
      "text/plain": [
       "0.8100581878636741"
      ]
     },
     "execution_count": 36,
     "metadata": {},
     "output_type": "execute_result"
    }
   ],
   "source": [
    "accuracy = mean(prediction_df.correctly_classified)"
   ]
  },
  {
   "cell_type": "markdown",
   "metadata": {},
   "source": [
    "### Confusion Matrix"
   ]
  },
  {
   "cell_type": "code",
   "execution_count": 37,
   "metadata": {},
   "outputs": [
    {
     "data": {
      "text/plain": [
       "ROCNums{Int64}\n",
       "  p = 510\n",
       "  n = 1896\n",
       "  tp = 105\n",
       "  tn = 1844\n",
       "  fp = 52\n",
       "  fn = 405\n"
      ]
     },
     "execution_count": 37,
     "metadata": {},
     "output_type": "execute_result"
    }
   ],
   "source": [
    "# confusion_matrix = confusmat(2,prediction_df.y_actual, prediction_df.y_predicted)\n",
    "confusion_matrix = MLBase.roc(prediction_df.y_actual, prediction_df.y_predicted)"
   ]
  },
  {
   "cell_type": "markdown",
   "metadata": {},
   "source": [
    "## Results\n",
    "\n",
    "The model is estimating far to many exiting cases.  About 4 times the true value. "
   ]
  },
  {
   "cell_type": "code",
   "execution_count": 38,
   "metadata": {},
   "outputs": [
    {
     "data": {
      "text/plain": [
       "([0.0, 0.0, 0.0, 0.0005274261603375527, 0.0005274261603375527, 0.0010548523206751054, 0.0010548523206751054, 0.0015822784810126582, 0.0015822784810126582, 0.0026371308016877636  …  0.8829113924050633, 0.9066455696202531, 0.9066455696202531, 0.9193037974683544, 0.9193037974683544, 0.92457805907173, 0.92457805907173, 0.9725738396624473, 0.9725738396624473, 1.0], [0.0, 0.00196078431372549, 0.00392156862745098, 0.00392156862745098, 0.00784313725490196, 0.00784313725490196, 0.01568627450980392, 0.01568627450980392, 0.03137254901960784, 0.03137254901960784  …  0.9921568627450981, 0.9921568627450981, 0.9941176470588236, 0.9941176470588236, 0.996078431372549, 0.996078431372549, 0.9980392156862745, 0.9980392156862745, 1.0, 1.0], [1.8467335270755767, 0.8467335270755767, 0.8140811888019499, 0.8092555110984978, 0.7970873802691381, 0.79684704533007, 0.7719016175181805, 0.7709263202992206, 0.7060214606993195, 0.6994801619873218  …  0.04233143871590189, 0.03786940431261241, 0.037850945580692276, 0.035665362242897694, 0.03532968973176317, 0.03416668456674327, 0.03407543014692377, 0.020932892669754958, 0.020885871157504798, 0.00597005405256463])"
      ]
     },
     "execution_count": 38,
     "metadata": {},
     "output_type": "execute_result"
    }
   ],
   "source": [
    "fpr, tpr, thresholds = sklearn.roc_curve(prediction_df.y_actual, prediction_df.prob_predicted)"
   ]
  },
  {
   "cell_type": "code",
   "execution_count": 39,
   "metadata": {},
   "outputs": [
    {
     "data": {
      "image/svg+xml": "<?xml version=\"1.0\" encoding=\"utf-8\"?>\n<svg xmlns=\"http://www.w3.org/2000/svg\" xmlns:xlink=\"http://www.w3.org/1999/xlink\" width=\"600\" height=\"400\" viewBox=\"0 0 2400 1600\">\n<defs>\n  <clipPath id=\"clip360\">\n    <rect x=\"0\" y=\"0\" width=\"2400\" height=\"1600\"/>\n  </clipPath>\n</defs>\n<path clip-path=\"url(#clip360)\" d=\"\nM0 1600 L2400 1600 L2400 0 L0 0  Z\n  \" fill=\"#ffffff\" fill-rule=\"evenodd\" fill-opacity=\"1\"/>\n<defs>\n  <clipPath id=\"clip361\">\n    <rect x=\"480\" y=\"0\" width=\"1681\" height=\"1600\"/>\n  </clipPath>\n</defs>\n<path clip-path=\"url(#clip360)\" d=\"\nM186.274 1486.45 L2352.76 1486.45 L2352.76 123.472 L186.274 123.472  Z\n  \" fill=\"#ffffff\" fill-rule=\"evenodd\" fill-opacity=\"1\"/>\n<defs>\n  <clipPath id=\"clip362\">\n    <rect x=\"186\" y=\"123\" width=\"2167\" height=\"1364\"/>\n  </clipPath>\n</defs>\n<polyline clip-path=\"url(#clip362)\" style=\"stroke:#000000; stroke-linecap:butt; stroke-linejoin:round; stroke-width:2; stroke-opacity:0.1; fill:none\" points=\"\n  247.59,1486.45 247.59,123.472 \n  \"/>\n<polyline clip-path=\"url(#clip362)\" style=\"stroke:#000000; stroke-linecap:butt; stroke-linejoin:round; stroke-width:2; stroke-opacity:0.1; fill:none\" points=\"\n  758.552,1486.45 758.552,123.472 \n  \"/>\n<polyline clip-path=\"url(#clip362)\" style=\"stroke:#000000; stroke-linecap:butt; stroke-linejoin:round; stroke-width:2; stroke-opacity:0.1; fill:none\" points=\"\n  1269.51,1486.45 1269.51,123.472 \n  \"/>\n<polyline clip-path=\"url(#clip362)\" style=\"stroke:#000000; stroke-linecap:butt; stroke-linejoin:round; stroke-width:2; stroke-opacity:0.1; fill:none\" points=\"\n  1780.48,1486.45 1780.48,123.472 \n  \"/>\n<polyline clip-path=\"url(#clip362)\" style=\"stroke:#000000; stroke-linecap:butt; stroke-linejoin:round; stroke-width:2; stroke-opacity:0.1; fill:none\" points=\"\n  2291.44,1486.45 2291.44,123.472 \n  \"/>\n<polyline clip-path=\"url(#clip360)\" style=\"stroke:#000000; stroke-linecap:butt; stroke-linejoin:round; stroke-width:4; stroke-opacity:1; fill:none\" points=\"\n  186.274,1486.45 2352.76,1486.45 \n  \"/>\n<polyline clip-path=\"url(#clip360)\" style=\"stroke:#000000; stroke-linecap:butt; stroke-linejoin:round; stroke-width:4; stroke-opacity:1; fill:none\" points=\"\n  247.59,1486.45 247.59,1467.55 \n  \"/>\n<polyline clip-path=\"url(#clip360)\" style=\"stroke:#000000; stroke-linecap:butt; stroke-linejoin:round; stroke-width:4; stroke-opacity:1; fill:none\" points=\"\n  758.552,1486.45 758.552,1467.55 \n  \"/>\n<polyline clip-path=\"url(#clip360)\" style=\"stroke:#000000; stroke-linecap:butt; stroke-linejoin:round; stroke-width:4; stroke-opacity:1; fill:none\" points=\"\n  1269.51,1486.45 1269.51,1467.55 \n  \"/>\n<polyline clip-path=\"url(#clip360)\" style=\"stroke:#000000; stroke-linecap:butt; stroke-linejoin:round; stroke-width:4; stroke-opacity:1; fill:none\" points=\"\n  1780.48,1486.45 1780.48,1467.55 \n  \"/>\n<polyline clip-path=\"url(#clip360)\" style=\"stroke:#000000; stroke-linecap:butt; stroke-linejoin:round; stroke-width:4; stroke-opacity:1; fill:none\" points=\"\n  2291.44,1486.45 2291.44,1467.55 \n  \"/>\n<path clip-path=\"url(#clip360)\" d=\"M209.893 1517.37 Q206.282 1517.37 204.453 1520.93 Q202.648 1524.47 202.648 1531.6 Q202.648 1538.71 204.453 1542.27 Q206.282 1545.82 209.893 1545.82 Q213.527 1545.82 215.333 1542.27 Q217.161 1538.71 217.161 1531.6 Q217.161 1524.47 215.333 1520.93 Q213.527 1517.37 209.893 1517.37 M209.893 1513.66 Q215.703 1513.66 218.759 1518.27 Q221.837 1522.85 221.837 1531.6 Q221.837 1540.33 218.759 1544.94 Q215.703 1549.52 209.893 1549.52 Q204.083 1549.52 201.004 1544.94 Q197.949 1540.33 197.949 1531.6 Q197.949 1522.85 201.004 1518.27 Q204.083 1513.66 209.893 1513.66 Z\" fill=\"#000000\" fill-rule=\"evenodd\" fill-opacity=\"1\" /><path clip-path=\"url(#clip360)\" d=\"M230.055 1542.97 L234.939 1542.97 L234.939 1548.85 L230.055 1548.85 L230.055 1542.97 Z\" fill=\"#000000\" fill-rule=\"evenodd\" fill-opacity=\"1\" /><path clip-path=\"url(#clip360)\" d=\"M255.124 1517.37 Q251.513 1517.37 249.684 1520.93 Q247.879 1524.47 247.879 1531.6 Q247.879 1538.71 249.684 1542.27 Q251.513 1545.82 255.124 1545.82 Q258.758 1545.82 260.564 1542.27 Q262.393 1538.71 262.393 1531.6 Q262.393 1524.47 260.564 1520.93 Q258.758 1517.37 255.124 1517.37 M255.124 1513.66 Q260.934 1513.66 263.99 1518.27 Q267.069 1522.85 267.069 1531.6 Q267.069 1540.33 263.99 1544.94 Q260.934 1549.52 255.124 1549.52 Q249.314 1549.52 246.235 1544.94 Q243.18 1540.33 243.18 1531.6 Q243.18 1522.85 246.235 1518.27 Q249.314 1513.66 255.124 1513.66 Z\" fill=\"#000000\" fill-rule=\"evenodd\" fill-opacity=\"1\" /><path clip-path=\"url(#clip360)\" d=\"M285.286 1517.37 Q281.675 1517.37 279.846 1520.93 Q278.041 1524.47 278.041 1531.6 Q278.041 1538.71 279.846 1542.27 Q281.675 1545.82 285.286 1545.82 Q288.92 1545.82 290.726 1542.27 Q292.555 1538.71 292.555 1531.6 Q292.555 1524.47 290.726 1520.93 Q288.92 1517.37 285.286 1517.37 M285.286 1513.66 Q291.096 1513.66 294.152 1518.27 Q297.23 1522.85 297.23 1531.6 Q297.23 1540.33 294.152 1544.94 Q291.096 1549.52 285.286 1549.52 Q279.476 1549.52 276.397 1544.94 Q273.342 1540.33 273.342 1531.6 Q273.342 1522.85 276.397 1518.27 Q279.476 1513.66 285.286 1513.66 Z\" fill=\"#000000\" fill-rule=\"evenodd\" fill-opacity=\"1\" /><path clip-path=\"url(#clip360)\" d=\"M721.353 1517.37 Q717.742 1517.37 715.914 1520.93 Q714.108 1524.47 714.108 1531.6 Q714.108 1538.71 715.914 1542.27 Q717.742 1545.82 721.353 1545.82 Q724.988 1545.82 726.793 1542.27 Q728.622 1538.71 728.622 1531.6 Q728.622 1524.47 726.793 1520.93 Q724.988 1517.37 721.353 1517.37 M721.353 1513.66 Q727.164 1513.66 730.219 1518.27 Q733.298 1522.85 733.298 1531.6 Q733.298 1540.33 730.219 1544.94 Q727.164 1549.52 721.353 1549.52 Q715.543 1549.52 712.465 1544.94 Q709.409 1540.33 709.409 1531.6 Q709.409 1522.85 712.465 1518.27 Q715.543 1513.66 721.353 1513.66 Z\" fill=\"#000000\" fill-rule=\"evenodd\" fill-opacity=\"1\" /><path clip-path=\"url(#clip360)\" d=\"M741.515 1542.97 L746.4 1542.97 L746.4 1548.85 L741.515 1548.85 L741.515 1542.97 Z\" fill=\"#000000\" fill-rule=\"evenodd\" fill-opacity=\"1\" /><path clip-path=\"url(#clip360)\" d=\"M760.612 1544.91 L776.932 1544.91 L776.932 1548.85 L754.987 1548.85 L754.987 1544.91 Q757.649 1542.16 762.233 1537.53 Q766.839 1532.88 768.02 1531.53 Q770.265 1529.01 771.145 1527.27 Q772.048 1525.51 772.048 1523.82 Q772.048 1521.07 770.103 1519.33 Q768.182 1517.6 765.08 1517.6 Q762.881 1517.6 760.427 1518.36 Q757.997 1519.13 755.219 1520.68 L755.219 1515.95 Q758.043 1514.82 760.497 1514.24 Q762.95 1513.66 764.987 1513.66 Q770.358 1513.66 773.552 1516.35 Q776.747 1519.03 776.747 1523.52 Q776.747 1525.65 775.936 1527.57 Q775.149 1529.47 773.043 1532.07 Q772.464 1532.74 769.362 1535.95 Q766.261 1539.15 760.612 1544.91 Z\" fill=\"#000000\" fill-rule=\"evenodd\" fill-opacity=\"1\" /><path clip-path=\"url(#clip360)\" d=\"M786.793 1514.29 L805.149 1514.29 L805.149 1518.22 L791.075 1518.22 L791.075 1526.7 Q792.094 1526.35 793.112 1526.19 Q794.131 1526 795.149 1526 Q800.936 1526 804.316 1529.17 Q807.695 1532.34 807.695 1537.76 Q807.695 1543.34 804.223 1546.44 Q800.751 1549.52 794.432 1549.52 Q792.256 1549.52 789.987 1549.15 Q787.742 1548.78 785.335 1548.04 L785.335 1543.34 Q787.418 1544.47 789.64 1545.03 Q791.862 1545.58 794.339 1545.58 Q798.344 1545.58 800.682 1543.48 Q803.02 1541.37 803.02 1537.76 Q803.02 1534.15 800.682 1532.04 Q798.344 1529.94 794.339 1529.94 Q792.464 1529.94 790.589 1530.35 Q788.737 1530.77 786.793 1531.65 L786.793 1514.29 Z\" fill=\"#000000\" fill-rule=\"evenodd\" fill-opacity=\"1\" /><path clip-path=\"url(#clip360)\" d=\"M1231.82 1517.37 Q1228.21 1517.37 1226.38 1520.93 Q1224.57 1524.47 1224.57 1531.6 Q1224.57 1538.71 1226.38 1542.27 Q1228.21 1545.82 1231.82 1545.82 Q1235.45 1545.82 1237.26 1542.27 Q1239.09 1538.71 1239.09 1531.6 Q1239.09 1524.47 1237.26 1520.93 Q1235.45 1517.37 1231.82 1517.37 M1231.82 1513.66 Q1237.63 1513.66 1240.68 1518.27 Q1243.76 1522.85 1243.76 1531.6 Q1243.76 1540.33 1240.68 1544.94 Q1237.63 1549.52 1231.82 1549.52 Q1226.01 1549.52 1222.93 1544.94 Q1219.87 1540.33 1219.87 1531.6 Q1219.87 1522.85 1222.93 1518.27 Q1226.01 1513.66 1231.82 1513.66 Z\" fill=\"#000000\" fill-rule=\"evenodd\" fill-opacity=\"1\" /><path clip-path=\"url(#clip360)\" d=\"M1251.98 1542.97 L1256.86 1542.97 L1256.86 1548.85 L1251.98 1548.85 L1251.98 1542.97 Z\" fill=\"#000000\" fill-rule=\"evenodd\" fill-opacity=\"1\" /><path clip-path=\"url(#clip360)\" d=\"M1267.1 1514.29 L1285.45 1514.29 L1285.45 1518.22 L1271.38 1518.22 L1271.38 1526.7 Q1272.4 1526.35 1273.42 1526.19 Q1274.43 1526 1275.45 1526 Q1281.24 1526 1284.62 1529.17 Q1288 1532.34 1288 1537.76 Q1288 1543.34 1284.53 1546.44 Q1281.05 1549.52 1274.73 1549.52 Q1272.56 1549.52 1270.29 1549.15 Q1268.05 1548.78 1265.64 1548.04 L1265.64 1543.34 Q1267.72 1544.47 1269.94 1545.03 Q1272.17 1545.58 1274.64 1545.58 Q1278.65 1545.58 1280.98 1543.48 Q1283.32 1541.37 1283.32 1537.76 Q1283.32 1534.15 1280.98 1532.04 Q1278.65 1529.94 1274.64 1529.94 Q1272.77 1529.94 1270.89 1530.35 Q1269.04 1530.77 1267.1 1531.65 L1267.1 1514.29 Z\" fill=\"#000000\" fill-rule=\"evenodd\" fill-opacity=\"1\" /><path clip-path=\"url(#clip360)\" d=\"M1307.21 1517.37 Q1303.6 1517.37 1301.77 1520.93 Q1299.97 1524.47 1299.97 1531.6 Q1299.97 1538.71 1301.77 1542.27 Q1303.6 1545.82 1307.21 1545.82 Q1310.85 1545.82 1312.65 1542.27 Q1314.48 1538.71 1314.48 1531.6 Q1314.48 1524.47 1312.65 1520.93 Q1310.85 1517.37 1307.21 1517.37 M1307.21 1513.66 Q1313.02 1513.66 1316.08 1518.27 Q1319.16 1522.85 1319.16 1531.6 Q1319.16 1540.33 1316.08 1544.94 Q1313.02 1549.52 1307.21 1549.52 Q1301.4 1549.52 1298.32 1544.94 Q1295.27 1540.33 1295.27 1531.6 Q1295.27 1522.85 1298.32 1518.27 Q1301.4 1513.66 1307.21 1513.66 Z\" fill=\"#000000\" fill-rule=\"evenodd\" fill-opacity=\"1\" /><path clip-path=\"url(#clip360)\" d=\"M1743.28 1517.37 Q1739.67 1517.37 1737.84 1520.93 Q1736.03 1524.47 1736.03 1531.6 Q1736.03 1538.71 1737.84 1542.27 Q1739.67 1545.82 1743.28 1545.82 Q1746.91 1545.82 1748.72 1542.27 Q1750.55 1538.71 1750.55 1531.6 Q1750.55 1524.47 1748.72 1520.93 Q1746.91 1517.37 1743.28 1517.37 M1743.28 1513.66 Q1749.09 1513.66 1752.14 1518.27 Q1755.22 1522.85 1755.22 1531.6 Q1755.22 1540.33 1752.14 1544.94 Q1749.09 1549.52 1743.28 1549.52 Q1737.47 1549.52 1734.39 1544.94 Q1731.33 1540.33 1731.33 1531.6 Q1731.33 1522.85 1734.39 1518.27 Q1737.47 1513.66 1743.28 1513.66 Z\" fill=\"#000000\" fill-rule=\"evenodd\" fill-opacity=\"1\" /><path clip-path=\"url(#clip360)\" d=\"M1763.44 1542.97 L1768.32 1542.97 L1768.32 1548.85 L1763.44 1548.85 L1763.44 1542.97 Z\" fill=\"#000000\" fill-rule=\"evenodd\" fill-opacity=\"1\" /><path clip-path=\"url(#clip360)\" d=\"M1777.33 1514.29 L1799.55 1514.29 L1799.55 1516.28 L1787.01 1548.85 L1782.12 1548.85 L1793.93 1518.22 L1777.33 1518.22 L1777.33 1514.29 Z\" fill=\"#000000\" fill-rule=\"evenodd\" fill-opacity=\"1\" /><path clip-path=\"url(#clip360)\" d=\"M1808.72 1514.29 L1827.07 1514.29 L1827.07 1518.22 L1813 1518.22 L1813 1526.7 Q1814.02 1526.35 1815.04 1526.19 Q1816.06 1526 1817.07 1526 Q1822.86 1526 1826.24 1529.17 Q1829.62 1532.34 1829.62 1537.76 Q1829.62 1543.34 1826.15 1546.44 Q1822.68 1549.52 1816.36 1549.52 Q1814.18 1549.52 1811.91 1549.15 Q1809.67 1548.78 1807.26 1548.04 L1807.26 1543.34 Q1809.34 1544.47 1811.57 1545.03 Q1813.79 1545.58 1816.26 1545.58 Q1820.27 1545.58 1822.61 1543.48 Q1824.95 1541.37 1824.95 1537.76 Q1824.95 1534.15 1822.61 1532.04 Q1820.27 1529.94 1816.26 1529.94 Q1814.39 1529.94 1812.51 1530.35 Q1810.66 1530.77 1808.72 1531.65 L1808.72 1514.29 Z\" fill=\"#000000\" fill-rule=\"evenodd\" fill-opacity=\"1\" /><path clip-path=\"url(#clip360)\" d=\"M2243.51 1544.91 L2251.15 1544.91 L2251.15 1518.55 L2242.84 1520.21 L2242.84 1515.95 L2251.1 1514.29 L2255.78 1514.29 L2255.78 1544.91 L2263.42 1544.91 L2263.42 1548.85 L2243.51 1548.85 L2243.51 1544.91 Z\" fill=\"#000000\" fill-rule=\"evenodd\" fill-opacity=\"1\" /><path clip-path=\"url(#clip360)\" d=\"M2272.86 1542.97 L2277.75 1542.97 L2277.75 1548.85 L2272.86 1548.85 L2272.86 1542.97 Z\" fill=\"#000000\" fill-rule=\"evenodd\" fill-opacity=\"1\" /><path clip-path=\"url(#clip360)\" d=\"M2297.93 1517.37 Q2294.32 1517.37 2292.49 1520.93 Q2290.69 1524.47 2290.69 1531.6 Q2290.69 1538.71 2292.49 1542.27 Q2294.32 1545.82 2297.93 1545.82 Q2301.57 1545.82 2303.37 1542.27 Q2305.2 1538.71 2305.2 1531.6 Q2305.2 1524.47 2303.37 1520.93 Q2301.57 1517.37 2297.93 1517.37 M2297.93 1513.66 Q2303.74 1513.66 2306.8 1518.27 Q2309.88 1522.85 2309.88 1531.6 Q2309.88 1540.33 2306.8 1544.94 Q2303.74 1549.52 2297.93 1549.52 Q2292.12 1549.52 2289.04 1544.94 Q2285.99 1540.33 2285.99 1531.6 Q2285.99 1522.85 2289.04 1518.27 Q2292.12 1513.66 2297.93 1513.66 Z\" fill=\"#000000\" fill-rule=\"evenodd\" fill-opacity=\"1\" /><path clip-path=\"url(#clip360)\" d=\"M2328.1 1517.37 Q2324.48 1517.37 2322.66 1520.93 Q2320.85 1524.47 2320.85 1531.6 Q2320.85 1538.71 2322.66 1542.27 Q2324.48 1545.82 2328.1 1545.82 Q2331.73 1545.82 2333.54 1542.27 Q2335.36 1538.71 2335.36 1531.6 Q2335.36 1524.47 2333.54 1520.93 Q2331.73 1517.37 2328.1 1517.37 M2328.1 1513.66 Q2333.91 1513.66 2336.96 1518.27 Q2340.04 1522.85 2340.04 1531.6 Q2340.04 1540.33 2336.96 1544.94 Q2333.91 1549.52 2328.1 1549.52 Q2322.29 1549.52 2319.21 1544.94 Q2316.15 1540.33 2316.15 1531.6 Q2316.15 1522.85 2319.21 1518.27 Q2322.29 1513.66 2328.1 1513.66 Z\" fill=\"#000000\" fill-rule=\"evenodd\" fill-opacity=\"1\" /><polyline clip-path=\"url(#clip362)\" style=\"stroke:#000000; stroke-linecap:butt; stroke-linejoin:round; stroke-width:2; stroke-opacity:0.1; fill:none\" points=\"\n  186.274,1447.87 2352.76,1447.87 \n  \"/>\n<polyline clip-path=\"url(#clip362)\" style=\"stroke:#000000; stroke-linecap:butt; stroke-linejoin:round; stroke-width:2; stroke-opacity:0.1; fill:none\" points=\"\n  186.274,1126.42 2352.76,1126.42 \n  \"/>\n<polyline clip-path=\"url(#clip362)\" style=\"stroke:#000000; stroke-linecap:butt; stroke-linejoin:round; stroke-width:2; stroke-opacity:0.1; fill:none\" points=\"\n  186.274,804.96 2352.76,804.96 \n  \"/>\n<polyline clip-path=\"url(#clip362)\" style=\"stroke:#000000; stroke-linecap:butt; stroke-linejoin:round; stroke-width:2; stroke-opacity:0.1; fill:none\" points=\"\n  186.274,483.503 2352.76,483.503 \n  \"/>\n<polyline clip-path=\"url(#clip362)\" style=\"stroke:#000000; stroke-linecap:butt; stroke-linejoin:round; stroke-width:2; stroke-opacity:0.1; fill:none\" points=\"\n  186.274,162.047 2352.76,162.047 \n  \"/>\n<polyline clip-path=\"url(#clip360)\" style=\"stroke:#000000; stroke-linecap:butt; stroke-linejoin:round; stroke-width:4; stroke-opacity:1; fill:none\" points=\"\n  186.274,1486.45 186.274,123.472 \n  \"/>\n<polyline clip-path=\"url(#clip360)\" style=\"stroke:#000000; stroke-linecap:butt; stroke-linejoin:round; stroke-width:4; stroke-opacity:1; fill:none\" points=\"\n  186.274,1447.87 205.172,1447.87 \n  \"/>\n<polyline clip-path=\"url(#clip360)\" style=\"stroke:#000000; stroke-linecap:butt; stroke-linejoin:round; stroke-width:4; stroke-opacity:1; fill:none\" points=\"\n  186.274,1126.42 205.172,1126.42 \n  \"/>\n<polyline clip-path=\"url(#clip360)\" style=\"stroke:#000000; stroke-linecap:butt; stroke-linejoin:round; stroke-width:4; stroke-opacity:1; fill:none\" points=\"\n  186.274,804.96 205.172,804.96 \n  \"/>\n<polyline clip-path=\"url(#clip360)\" style=\"stroke:#000000; stroke-linecap:butt; stroke-linejoin:round; stroke-width:4; stroke-opacity:1; fill:none\" points=\"\n  186.274,483.503 205.172,483.503 \n  \"/>\n<polyline clip-path=\"url(#clip360)\" style=\"stroke:#000000; stroke-linecap:butt; stroke-linejoin:round; stroke-width:4; stroke-opacity:1; fill:none\" points=\"\n  186.274,162.047 205.172,162.047 \n  \"/>\n<path clip-path=\"url(#clip360)\" d=\"M62.9365 1433.67 Q59.3254 1433.67 57.4967 1437.24 Q55.6912 1440.78 55.6912 1447.91 Q55.6912 1455.01 57.4967 1458.58 Q59.3254 1462.12 62.9365 1462.12 Q66.5707 1462.12 68.3763 1458.58 Q70.205 1455.01 70.205 1447.91 Q70.205 1440.78 68.3763 1437.24 Q66.5707 1433.67 62.9365 1433.67 M62.9365 1429.97 Q68.7467 1429.97 71.8022 1434.57 Q74.8809 1439.16 74.8809 1447.91 Q74.8809 1456.63 71.8022 1461.24 Q68.7467 1465.82 62.9365 1465.82 Q57.1264 1465.82 54.0477 1461.24 Q50.9921 1456.63 50.9921 1447.91 Q50.9921 1439.16 54.0477 1434.57 Q57.1264 1429.97 62.9365 1429.97 Z\" fill=\"#000000\" fill-rule=\"evenodd\" fill-opacity=\"1\" /><path clip-path=\"url(#clip360)\" d=\"M83.0984 1459.27 L87.9827 1459.27 L87.9827 1465.15 L83.0984 1465.15 L83.0984 1459.27 Z\" fill=\"#000000\" fill-rule=\"evenodd\" fill-opacity=\"1\" /><path clip-path=\"url(#clip360)\" d=\"M108.168 1433.67 Q104.557 1433.67 102.728 1437.24 Q100.922 1440.78 100.922 1447.91 Q100.922 1455.01 102.728 1458.58 Q104.557 1462.12 108.168 1462.12 Q111.802 1462.12 113.608 1458.58 Q115.436 1455.01 115.436 1447.91 Q115.436 1440.78 113.608 1437.24 Q111.802 1433.67 108.168 1433.67 M108.168 1429.97 Q113.978 1429.97 117.033 1434.57 Q120.112 1439.16 120.112 1447.91 Q120.112 1456.63 117.033 1461.24 Q113.978 1465.82 108.168 1465.82 Q102.358 1465.82 99.2789 1461.24 Q96.2234 1456.63 96.2234 1447.91 Q96.2234 1439.16 99.2789 1434.57 Q102.358 1429.97 108.168 1429.97 Z\" fill=\"#000000\" fill-rule=\"evenodd\" fill-opacity=\"1\" /><path clip-path=\"url(#clip360)\" d=\"M138.33 1433.67 Q134.719 1433.67 132.89 1437.24 Q131.084 1440.78 131.084 1447.91 Q131.084 1455.01 132.89 1458.58 Q134.719 1462.12 138.33 1462.12 Q141.964 1462.12 143.769 1458.58 Q145.598 1455.01 145.598 1447.91 Q145.598 1440.78 143.769 1437.24 Q141.964 1433.67 138.33 1433.67 M138.33 1429.97 Q144.14 1429.97 147.195 1434.57 Q150.274 1439.16 150.274 1447.91 Q150.274 1456.63 147.195 1461.24 Q144.14 1465.82 138.33 1465.82 Q132.519 1465.82 129.441 1461.24 Q126.385 1456.63 126.385 1447.91 Q126.385 1439.16 129.441 1434.57 Q132.519 1429.97 138.33 1429.97 Z\" fill=\"#000000\" fill-rule=\"evenodd\" fill-opacity=\"1\" /><path clip-path=\"url(#clip360)\" d=\"M63.9319 1112.22 Q60.3208 1112.22 58.4921 1115.78 Q56.6865 1119.32 56.6865 1126.45 Q56.6865 1133.56 58.4921 1137.12 Q60.3208 1140.66 63.9319 1140.66 Q67.5661 1140.66 69.3717 1137.12 Q71.2004 1133.56 71.2004 1126.45 Q71.2004 1119.32 69.3717 1115.78 Q67.5661 1112.22 63.9319 1112.22 M63.9319 1108.51 Q69.742 1108.51 72.7976 1113.12 Q75.8763 1117.7 75.8763 1126.45 Q75.8763 1135.18 72.7976 1139.78 Q69.742 1144.37 63.9319 1144.37 Q58.1217 1144.37 55.043 1139.78 Q51.9875 1135.18 51.9875 1126.45 Q51.9875 1117.7 55.043 1113.12 Q58.1217 1108.51 63.9319 1108.51 Z\" fill=\"#000000\" fill-rule=\"evenodd\" fill-opacity=\"1\" /><path clip-path=\"url(#clip360)\" d=\"M84.0938 1137.82 L88.978 1137.82 L88.978 1143.7 L84.0938 1143.7 L84.0938 1137.82 Z\" fill=\"#000000\" fill-rule=\"evenodd\" fill-opacity=\"1\" /><path clip-path=\"url(#clip360)\" d=\"M103.191 1139.76 L119.51 1139.76 L119.51 1143.7 L97.566 1143.7 L97.566 1139.76 Q100.228 1137.01 104.811 1132.38 Q109.418 1127.72 110.598 1126.38 Q112.844 1123.86 113.723 1122.12 Q114.626 1120.36 114.626 1118.67 Q114.626 1115.92 112.682 1114.18 Q110.76 1112.45 107.658 1112.45 Q105.459 1112.45 103.006 1113.21 Q100.575 1113.97 97.7974 1115.53 L97.7974 1110.8 Q100.621 1109.67 103.075 1109.09 Q105.529 1108.51 107.566 1108.51 Q112.936 1108.51 116.131 1111.2 Q119.325 1113.88 119.325 1118.37 Q119.325 1120.5 118.515 1122.42 Q117.728 1124.32 115.621 1126.91 Q115.043 1127.59 111.941 1130.8 Q108.839 1134 103.191 1139.76 Z\" fill=\"#000000\" fill-rule=\"evenodd\" fill-opacity=\"1\" /><path clip-path=\"url(#clip360)\" d=\"M129.371 1109.14 L147.728 1109.14 L147.728 1113.07 L133.654 1113.07 L133.654 1121.54 Q134.672 1121.2 135.691 1121.03 Q136.709 1120.85 137.728 1120.85 Q143.515 1120.85 146.894 1124.02 Q150.274 1127.19 150.274 1132.61 Q150.274 1138.19 146.802 1141.29 Q143.33 1144.37 137.01 1144.37 Q134.834 1144.37 132.566 1144 Q130.32 1143.63 127.913 1142.89 L127.913 1138.19 Q129.996 1139.32 132.219 1139.88 Q134.441 1140.43 136.918 1140.43 Q140.922 1140.43 143.26 1138.33 Q145.598 1136.22 145.598 1132.61 Q145.598 1129 143.26 1126.89 Q140.922 1124.78 136.918 1124.78 Q135.043 1124.78 133.168 1125.2 Q131.316 1125.62 129.371 1126.5 L129.371 1109.14 Z\" fill=\"#000000\" fill-rule=\"evenodd\" fill-opacity=\"1\" /><path clip-path=\"url(#clip360)\" d=\"M62.9365 790.759 Q59.3254 790.759 57.4967 794.323 Q55.6912 797.865 55.6912 804.995 Q55.6912 812.101 57.4967 815.666 Q59.3254 819.208 62.9365 819.208 Q66.5707 819.208 68.3763 815.666 Q70.205 812.101 70.205 804.995 Q70.205 797.865 68.3763 794.323 Q66.5707 790.759 62.9365 790.759 M62.9365 787.055 Q68.7467 787.055 71.8022 791.661 Q74.8809 796.245 74.8809 804.995 Q74.8809 813.722 71.8022 818.328 Q68.7467 822.911 62.9365 822.911 Q57.1264 822.911 54.0477 818.328 Q50.9921 813.722 50.9921 804.995 Q50.9921 796.245 54.0477 791.661 Q57.1264 787.055 62.9365 787.055 Z\" fill=\"#000000\" fill-rule=\"evenodd\" fill-opacity=\"1\" /><path clip-path=\"url(#clip360)\" d=\"M83.0984 816.36 L87.9827 816.36 L87.9827 822.24 L83.0984 822.24 L83.0984 816.36 Z\" fill=\"#000000\" fill-rule=\"evenodd\" fill-opacity=\"1\" /><path clip-path=\"url(#clip360)\" d=\"M98.2141 787.68 L116.57 787.68 L116.57 791.615 L102.496 791.615 L102.496 800.087 Q103.515 799.74 104.534 799.578 Q105.552 799.393 106.571 799.393 Q112.358 799.393 115.737 802.564 Q119.117 805.735 119.117 811.152 Q119.117 816.731 115.645 819.833 Q112.172 822.911 105.853 822.911 Q103.677 822.911 101.409 822.541 Q99.1632 822.171 96.7558 821.43 L96.7558 816.731 Q98.8391 817.865 101.061 818.421 Q103.284 818.976 105.76 818.976 Q109.765 818.976 112.103 816.87 Q114.441 814.763 114.441 811.152 Q114.441 807.541 112.103 805.435 Q109.765 803.328 105.76 803.328 Q103.885 803.328 102.01 803.745 Q100.159 804.161 98.2141 805.041 L98.2141 787.68 Z\" fill=\"#000000\" fill-rule=\"evenodd\" fill-opacity=\"1\" /><path clip-path=\"url(#clip360)\" d=\"M138.33 790.759 Q134.719 790.759 132.89 794.323 Q131.084 797.865 131.084 804.995 Q131.084 812.101 132.89 815.666 Q134.719 819.208 138.33 819.208 Q141.964 819.208 143.769 815.666 Q145.598 812.101 145.598 804.995 Q145.598 797.865 143.769 794.323 Q141.964 790.759 138.33 790.759 M138.33 787.055 Q144.14 787.055 147.195 791.661 Q150.274 796.245 150.274 804.995 Q150.274 813.722 147.195 818.328 Q144.14 822.911 138.33 822.911 Q132.519 822.911 129.441 818.328 Q126.385 813.722 126.385 804.995 Q126.385 796.245 129.441 791.661 Q132.519 787.055 138.33 787.055 Z\" fill=\"#000000\" fill-rule=\"evenodd\" fill-opacity=\"1\" /><path clip-path=\"url(#clip360)\" d=\"M63.9319 469.302 Q60.3208 469.302 58.4921 472.867 Q56.6865 476.409 56.6865 483.538 Q56.6865 490.645 58.4921 494.209 Q60.3208 497.751 63.9319 497.751 Q67.5661 497.751 69.3717 494.209 Q71.2004 490.645 71.2004 483.538 Q71.2004 476.409 69.3717 472.867 Q67.5661 469.302 63.9319 469.302 M63.9319 465.598 Q69.742 465.598 72.7976 470.205 Q75.8763 474.788 75.8763 483.538 Q75.8763 492.265 72.7976 496.871 Q69.742 501.455 63.9319 501.455 Q58.1217 501.455 55.043 496.871 Q51.9875 492.265 51.9875 483.538 Q51.9875 474.788 55.043 470.205 Q58.1217 465.598 63.9319 465.598 Z\" fill=\"#000000\" fill-rule=\"evenodd\" fill-opacity=\"1\" /><path clip-path=\"url(#clip360)\" d=\"M84.0938 494.904 L88.978 494.904 L88.978 500.783 L84.0938 500.783 L84.0938 494.904 Z\" fill=\"#000000\" fill-rule=\"evenodd\" fill-opacity=\"1\" /><path clip-path=\"url(#clip360)\" d=\"M97.9826 466.223 L120.205 466.223 L120.205 468.214 L107.658 500.783 L102.774 500.783 L114.58 470.159 L97.9826 470.159 L97.9826 466.223 Z\" fill=\"#000000\" fill-rule=\"evenodd\" fill-opacity=\"1\" /><path clip-path=\"url(#clip360)\" d=\"M129.371 466.223 L147.728 466.223 L147.728 470.159 L133.654 470.159 L133.654 478.631 Q134.672 478.284 135.691 478.122 Q136.709 477.936 137.728 477.936 Q143.515 477.936 146.894 481.108 Q150.274 484.279 150.274 489.696 Q150.274 495.274 146.802 498.376 Q143.33 501.455 137.01 501.455 Q134.834 501.455 132.566 501.084 Q130.32 500.714 127.913 499.973 L127.913 495.274 Q129.996 496.408 132.219 496.964 Q134.441 497.52 136.918 497.52 Q140.922 497.52 143.26 495.413 Q145.598 493.307 145.598 489.696 Q145.598 486.084 143.26 483.978 Q140.922 481.872 136.918 481.872 Q135.043 481.872 133.168 482.288 Q131.316 482.705 129.371 483.584 L129.371 466.223 Z\" fill=\"#000000\" fill-rule=\"evenodd\" fill-opacity=\"1\" /><path clip-path=\"url(#clip360)\" d=\"M53.7467 175.392 L61.3856 175.392 L61.3856 149.026 L53.0754 150.693 L53.0754 146.434 L61.3393 144.767 L66.0152 144.767 L66.0152 175.392 L73.654 175.392 L73.654 179.327 L53.7467 179.327 L53.7467 175.392 Z\" fill=\"#000000\" fill-rule=\"evenodd\" fill-opacity=\"1\" /><path clip-path=\"url(#clip360)\" d=\"M83.0984 173.447 L87.9827 173.447 L87.9827 179.327 L83.0984 179.327 L83.0984 173.447 Z\" fill=\"#000000\" fill-rule=\"evenodd\" fill-opacity=\"1\" /><path clip-path=\"url(#clip360)\" d=\"M108.168 147.846 Q104.557 147.846 102.728 151.41 Q100.922 154.952 100.922 162.082 Q100.922 169.188 102.728 172.753 Q104.557 176.295 108.168 176.295 Q111.802 176.295 113.608 172.753 Q115.436 169.188 115.436 162.082 Q115.436 154.952 113.608 151.41 Q111.802 147.846 108.168 147.846 M108.168 144.142 Q113.978 144.142 117.033 148.748 Q120.112 153.332 120.112 162.082 Q120.112 170.808 117.033 175.415 Q113.978 179.998 108.168 179.998 Q102.358 179.998 99.2789 175.415 Q96.2234 170.808 96.2234 162.082 Q96.2234 153.332 99.2789 148.748 Q102.358 144.142 108.168 144.142 Z\" fill=\"#000000\" fill-rule=\"evenodd\" fill-opacity=\"1\" /><path clip-path=\"url(#clip360)\" d=\"M138.33 147.846 Q134.719 147.846 132.89 151.41 Q131.084 154.952 131.084 162.082 Q131.084 169.188 132.89 172.753 Q134.719 176.295 138.33 176.295 Q141.964 176.295 143.769 172.753 Q145.598 169.188 145.598 162.082 Q145.598 154.952 143.769 151.41 Q141.964 147.846 138.33 147.846 M138.33 144.142 Q144.14 144.142 147.195 148.748 Q150.274 153.332 150.274 162.082 Q150.274 170.808 147.195 175.415 Q144.14 179.998 138.33 179.998 Q132.519 179.998 129.441 175.415 Q126.385 170.808 126.385 162.082 Q126.385 153.332 129.441 148.748 Q132.519 144.142 138.33 144.142 Z\" fill=\"#000000\" fill-rule=\"evenodd\" fill-opacity=\"1\" /><path clip-path=\"url(#clip360)\" d=\"M1084.63 44.2197 Q1087.26 45.1109 1089.74 48.0275 Q1092.25 50.9442 1094.76 56.0483 L1103.06 72.576 L1094.27 72.576 L1086.54 57.061 Q1083.54 50.9847 1080.7 48.9997 Q1077.91 47.0148 1073.05 47.0148 L1064.13 47.0148 L1064.13 72.576 L1055.95 72.576 L1055.95 12.096 L1074.42 12.096 Q1084.79 12.096 1089.9 16.4305 Q1095 20.7649 1095 29.5149 Q1095 35.2267 1092.33 38.994 Q1089.7 42.7613 1084.63 44.2197 M1064.13 18.8205 L1064.13 40.2903 L1074.42 40.2903 Q1080.34 40.2903 1083.34 37.5762 Q1086.37 34.8216 1086.37 29.5149 Q1086.37 24.2082 1083.34 21.5346 Q1080.34 18.8205 1074.42 18.8205 L1064.13 18.8205 Z\" fill=\"#000000\" fill-rule=\"evenodd\" fill-opacity=\"1\" /><path clip-path=\"url(#clip360)\" d=\"M1138.14 17.6457 Q1129.23 17.6457 1123.97 24.2892 Q1118.74 30.9327 1118.74 42.3968 Q1118.74 53.8203 1123.97 60.4638 Q1129.23 67.1073 1138.14 67.1073 Q1147.06 67.1073 1152.24 60.4638 Q1157.47 53.8203 1157.47 42.3968 Q1157.47 30.9327 1152.24 24.2892 Q1147.06 17.6457 1138.14 17.6457 M1138.14 11.0023 Q1150.86 11.0023 1158.48 19.5497 Q1166.1 28.0566 1166.1 42.3968 Q1166.1 56.6965 1158.48 65.2439 Q1150.86 73.7508 1138.14 73.7508 Q1125.38 73.7508 1117.73 65.2439 Q1110.11 56.737 1110.11 42.3968 Q1110.11 28.0566 1117.73 19.5497 Q1125.38 11.0023 1138.14 11.0023 Z\" fill=\"#000000\" fill-rule=\"evenodd\" fill-opacity=\"1\" /><path clip-path=\"url(#clip360)\" d=\"M1224.19 16.7545 L1224.19 25.383 Q1220.05 21.5346 1215.35 19.6307 Q1210.7 17.7268 1205.43 17.7268 Q1195.06 17.7268 1189.55 24.0867 Q1184.04 30.4061 1184.04 42.3968 Q1184.04 54.3469 1189.55 60.7069 Q1195.06 67.0263 1205.43 67.0263 Q1210.7 67.0263 1215.35 65.1223 Q1220.05 63.2184 1224.19 59.3701 L1224.19 67.9175 Q1219.89 70.8341 1215.07 72.2924 Q1210.29 73.7508 1204.94 73.7508 Q1191.21 73.7508 1183.31 65.3654 Q1175.41 56.9395 1175.41 42.3968 Q1175.41 27.8135 1183.31 19.4281 Q1191.21 11.0023 1204.94 11.0023 Q1210.37 11.0023 1215.15 12.4606 Q1219.97 13.8784 1224.19 16.7545 Z\" fill=\"#000000\" fill-rule=\"evenodd\" fill-opacity=\"1\" /><path clip-path=\"url(#clip360)\" d=\"M1295.52 28.9478 L1295.52 35.9153 Q1292.36 34.1734 1289.16 33.3227 Q1286 32.4315 1282.76 32.4315 Q1275.51 32.4315 1271.5 37.0496 Q1267.49 41.6271 1267.49 49.9314 Q1267.49 58.2358 1271.5 62.8538 Q1275.51 67.4314 1282.76 67.4314 Q1286 67.4314 1289.16 66.5807 Q1292.36 65.6895 1295.52 63.9476 L1295.52 70.8341 Q1292.4 72.2924 1289.04 73.0216 Q1285.72 73.7508 1281.95 73.7508 Q1271.7 73.7508 1265.67 67.3098 Q1259.63 60.8689 1259.63 49.9314 Q1259.63 38.832 1265.71 32.472 Q1271.82 26.1121 1282.44 26.1121 Q1285.88 26.1121 1289.16 26.8413 Q1292.44 27.5299 1295.52 28.9478 Z\" fill=\"#000000\" fill-rule=\"evenodd\" fill-opacity=\"1\" /><path clip-path=\"url(#clip360)\" d=\"M1307.71 54.671 L1307.71 27.2059 L1315.17 27.2059 L1315.17 54.3874 Q1315.17 60.8284 1317.68 64.0691 Q1320.19 67.2693 1325.21 67.2693 Q1331.25 67.2693 1334.73 63.421 Q1338.26 59.5726 1338.26 52.9291 L1338.26 27.2059 L1345.71 27.2059 L1345.71 72.576 L1338.26 72.576 L1338.26 65.6084 Q1335.54 69.7404 1331.94 71.7658 Q1328.37 73.7508 1323.64 73.7508 Q1315.82 73.7508 1311.77 68.8897 Q1307.71 64.0286 1307.71 54.671 M1326.47 26.1121 L1326.47 26.1121 Z\" fill=\"#000000\" fill-rule=\"evenodd\" fill-opacity=\"1\" /><path clip-path=\"url(#clip360)\" d=\"M1387.36 34.1734 Q1386.1 33.4443 1384.6 33.1202 Q1383.14 32.7556 1381.36 32.7556 Q1375.04 32.7556 1371.64 36.8875 Q1368.28 40.9789 1368.28 48.6757 L1368.28 72.576 L1360.78 72.576 L1360.78 27.2059 L1368.28 27.2059 L1368.28 34.2544 Q1370.63 30.1225 1374.39 28.1376 Q1378.16 26.1121 1383.55 26.1121 Q1384.32 26.1121 1385.25 26.2337 Q1386.18 26.3147 1387.32 26.5172 L1387.36 34.1734 Z\" fill=\"#000000\" fill-rule=\"evenodd\" fill-opacity=\"1\" /><path clip-path=\"url(#clip360)\" d=\"M1389.83 27.2059 L1397.73 27.2059 L1411.9 65.2844 L1426.08 27.2059 L1433.98 27.2059 L1416.97 72.576 L1406.84 72.576 L1389.83 27.2059 Z\" fill=\"#000000\" fill-rule=\"evenodd\" fill-opacity=\"1\" /><path clip-path=\"url(#clip360)\" d=\"M1483.08 48.0275 L1483.08 51.6733 L1448.81 51.6733 Q1449.29 59.3701 1453.43 63.421 Q1457.6 67.4314 1465.01 67.4314 Q1469.31 67.4314 1473.32 66.3781 Q1477.37 65.3249 1481.34 63.2184 L1481.34 70.267 Q1477.33 71.9684 1473.11 72.8596 Q1468.9 73.7508 1464.57 73.7508 Q1453.71 73.7508 1447.35 67.4314 Q1441.03 61.1119 1441.03 50.3365 Q1441.03 39.1965 1447.03 32.6746 Q1453.06 26.1121 1463.27 26.1121 Q1472.42 26.1121 1477.73 32.0264 Q1483.08 37.9003 1483.08 48.0275 M1475.62 45.84 Q1475.54 39.7232 1472.18 36.0774 Q1468.86 32.4315 1463.35 32.4315 Q1457.11 32.4315 1453.34 35.9558 Q1449.62 39.4801 1449.05 45.8805 L1475.62 45.84 Z\" fill=\"#000000\" fill-rule=\"evenodd\" fill-opacity=\"1\" /><polyline clip-path=\"url(#clip362)\" style=\"stroke:#009af9; stroke-linecap:butt; stroke-linejoin:round; stroke-width:4; stroke-opacity:1; fill:none\" points=\"\n  247.59,1447.87 247.59,1445.35 247.59,1442.83 248.668,1442.83 248.668,1437.79 249.745,1437.79 249.745,1427.7 250.823,1427.7 250.823,1407.53 252.979,1407.53 \n  252.979,1392.41 254.057,1392.41 254.057,1387.36 256.213,1387.36 256.213,1377.28 258.369,1377.28 258.369,1374.76 260.525,1374.76 260.525,1341.98 261.603,1341.98 \n  261.603,1339.46 262.681,1339.46 262.681,1321.81 264.837,1321.81 264.837,1316.77 265.915,1316.77 265.915,1314.25 266.993,1314.25 266.993,1306.68 268.071,1306.68 \n  268.071,1301.64 269.149,1301.64 269.149,1299.12 270.227,1299.12 270.227,1296.6 271.305,1296.6 271.305,1294.08 273.461,1294.08 273.461,1291.56 275.617,1291.56 \n  275.617,1289.04 278.851,1289.04 278.851,1271.39 282.085,1271.39 282.085,1266.34 283.163,1266.34 283.163,1233.57 284.241,1233.57 284.241,1228.53 285.319,1228.53 \n  285.319,1226.01 291.787,1226.01 291.787,1210.88 293.943,1210.88 293.943,1205.84 295.021,1205.84 295.021,1203.31 296.099,1203.31 296.099,1200.79 297.177,1200.79 \n  297.177,1198.27 298.255,1198.27 298.255,1193.23 301.489,1193.23 301.489,1183.14 305.8,1183.14 305.8,1178.1 307.956,1178.1 307.956,1175.58 310.112,1175.58 \n  310.112,1173.06 311.19,1173.06 311.19,1170.54 316.58,1170.54 316.58,1168.02 317.658,1168.02 317.658,1162.97 319.814,1162.97 319.814,1152.89 321.97,1152.89 \n  321.97,1147.85 323.048,1147.85 323.048,1145.33 324.126,1145.33 324.126,1142.8 325.204,1142.8 325.204,1140.28 328.438,1140.28 328.438,1137.76 332.75,1137.76 \n  332.75,1132.72 335.984,1132.72 335.984,1130.2 337.062,1130.2 337.062,1127.68 338.14,1127.68 338.14,1125.16 339.218,1125.16 339.218,1122.63 340.296,1122.63 \n  340.296,1115.07 341.374,1115.07 341.374,1107.51 344.608,1107.51 344.608,1104.99 345.686,1104.99 345.686,1099.94 346.764,1099.94 346.764,1097.42 347.842,1097.42 \n  347.842,1094.9 353.232,1094.9 353.232,1092.38 357.544,1092.38 357.544,1089.86 360.777,1089.86 360.777,1077.25 365.089,1077.25 365.089,1069.69 367.245,1069.69 \n  367.245,1064.65 369.401,1064.65 369.401,1054.56 373.713,1054.56 373.713,1052.04 375.869,1052.04 375.869,1047 378.025,1047 378.025,1044.48 379.103,1044.48 \n  379.103,1041.96 380.181,1041.96 380.181,1039.43 385.571,1039.43 385.571,1036.91 386.649,1036.91 386.649,1034.39 388.805,1034.39 388.805,1031.87 395.273,1031.87 \n  395.273,1029.35 397.429,1029.35 397.429,1026.83 398.507,1026.83 398.507,1019.26 399.585,1019.26 399.585,1016.74 401.741,1016.74 401.741,1009.18 403.897,1009.18 \n  403.897,1006.66 404.975,1006.66 404.975,999.095 410.365,999.095 410.365,989.01 414.676,989.01 414.676,983.967 415.754,983.967 415.754,981.446 421.144,981.446 \n  421.144,973.882 422.222,973.882 422.222,971.361 423.3,971.361 423.3,968.84 424.378,968.84 424.378,963.797 425.456,963.797 425.456,961.276 428.69,961.276 \n  428.69,951.191 429.768,951.191 429.768,946.149 430.846,946.149 430.846,943.628 433.002,943.628 433.002,941.106 438.392,941.106 438.392,936.064 439.47,936.064 \n  439.47,928.5 442.704,928.5 442.704,920.936 443.782,920.936 443.782,918.415 445.938,918.415 445.938,913.373 450.25,913.373 450.25,898.245 457.796,898.245 \n  457.796,895.724 458.874,895.724 458.874,883.118 470.731,883.118 470.731,878.076 473.965,878.076 473.965,875.554 476.121,875.554 476.121,870.512 478.277,870.512 \n  478.277,867.991 480.433,867.991 480.433,862.948 487.979,862.948 487.979,860.427 509.539,860.427 509.539,857.906 511.695,857.906 511.695,855.385 513.851,855.385 \n  513.851,850.342 518.163,850.342 518.163,847.821 520.319,847.821 520.319,845.3 525.708,845.3 525.708,835.215 530.02,835.215 530.02,832.694 533.254,832.694 \n  533.254,827.651 539.722,827.651 539.722,825.13 542.956,825.13 542.956,822.609 547.268,822.609 547.268,817.566 551.58,817.566 551.58,815.045 553.736,815.045 \n  553.736,812.524 558.048,812.524 558.048,810.002 560.204,810.002 560.204,807.481 561.282,807.481 561.282,804.96 577.452,804.96 577.452,802.439 580.685,802.439 \n  580.685,799.918 587.153,799.918 587.153,797.396 590.387,797.396 590.387,787.311 593.621,787.311 593.621,777.226 595.777,777.226 595.777,772.184 596.855,772.184 \n  596.855,769.663 600.089,769.663 600.089,767.142 605.479,767.142 605.479,764.62 608.713,764.62 608.713,762.099 613.025,762.099 613.025,759.578 614.103,759.578 \n  614.103,757.057 618.415,757.057 618.415,752.014 621.649,752.014 621.649,746.972 623.805,746.972 623.805,744.451 628.117,744.451 628.117,741.929 634.584,741.929 \n  634.584,736.887 638.896,736.887 638.896,734.366 639.974,734.366 639.974,731.844 643.208,731.844 643.208,729.323 647.52,729.323 647.52,726.802 648.598,726.802 \n  648.598,724.281 651.832,724.281 651.832,721.759 662.612,721.759 662.612,719.238 668.002,719.238 668.002,716.717 671.236,716.717 671.236,714.196 673.392,714.196 \n  673.392,711.675 674.47,711.675 674.47,709.153 677.704,709.153 677.704,706.632 679.86,706.632 679.86,704.111 684.172,704.111 684.172,701.59 689.561,701.59 \n  689.561,696.547 700.341,696.547 700.341,694.026 704.653,694.026 704.653,688.984 705.731,688.984 705.731,683.941 707.887,683.941 707.887,681.42 710.043,681.42 \n  710.043,678.899 730.525,678.899 730.525,673.856 732.681,673.856 732.681,671.335 734.837,671.335 734.837,668.814 736.993,668.814 736.993,666.292 745.616,666.292 \n  745.616,663.771 748.85,663.771 748.85,661.25 749.928,661.25 749.928,656.208 760.708,656.208 760.708,653.686 763.942,653.686 763.942,648.644 767.176,648.644 \n  767.176,646.123 779.034,646.123 779.034,643.601 780.112,643.601 780.112,641.08 782.268,641.08 782.268,638.559 785.502,638.559 785.502,636.038 790.892,636.038 \n  790.892,633.517 793.048,633.517 793.048,630.995 799.515,630.995 799.515,625.953 802.749,625.953 802.749,623.432 803.827,623.432 803.827,620.91 805.983,620.91 \n  805.983,618.389 808.139,618.389 808.139,615.868 811.373,615.868 811.373,613.347 816.763,613.347 816.763,610.825 818.919,610.825 818.919,608.304 821.075,608.304 \n  821.075,605.783 825.387,605.783 825.387,603.262 829.699,603.262 829.699,598.219 838.323,598.219 838.323,595.698 839.401,595.698 839.401,593.177 843.713,593.177 \n  843.713,590.656 852.337,590.656 852.337,580.571 864.194,580.571 864.194,578.049 866.35,578.049 866.35,573.007 878.208,573.007 878.208,570.486 882.52,570.486 \n  882.52,567.965 897.612,567.965 897.612,562.922 900.846,562.922 900.846,560.401 904.08,560.401 904.08,557.88 909.469,557.88 909.469,555.358 911.625,555.358 \n  911.625,552.837 914.859,552.837 914.859,550.316 922.405,550.316 922.405,547.795 923.483,547.795 923.483,542.752 924.561,542.752 924.561,540.231 928.873,540.231 \n  928.873,537.71 929.951,537.71 929.951,535.189 940.731,535.189 940.731,532.667 943.965,532.667 943.965,530.146 948.277,530.146 948.277,522.582 954.745,522.582 \n  954.745,520.061 963.369,520.061 963.369,517.54 965.524,517.54 965.524,515.019 967.68,515.019 967.68,512.498 974.148,512.498 974.148,507.455 975.226,507.455 \n  975.226,504.934 978.46,504.934 978.46,499.891 1003.25,499.891 1003.25,497.37 1005.41,497.37 1005.41,494.849 1009.72,494.849 1009.72,492.328 1010.8,492.328 \n  1010.8,489.807 1011.88,489.807 1011.88,484.764 1015.11,484.764 1015.11,477.2 1016.19,477.2 1016.19,474.679 1018.35,474.679 1018.35,472.158 1021.58,472.158 \n  1021.58,469.637 1036.67,469.637 1036.67,467.115 1042.06,467.115 1042.06,462.073 1046.37,462.073 1046.37,459.552 1052.84,459.552 1052.84,457.031 1063.62,457.031 \n  1063.62,454.509 1064.7,454.509 1064.7,451.988 1088.41,451.988 1088.41,449.467 1098.12,449.467 1098.12,446.946 1102.43,446.946 1102.43,444.424 1121.83,444.424 \n  1121.83,441.903 1122.91,441.903 1122.91,439.382 1125.07,439.382 1125.07,434.34 1140.16,434.34 1140.16,429.297 1159.56,429.297 1159.56,426.776 1161.72,426.776 \n  1161.72,424.255 1173.57,424.255 1173.57,421.733 1177.89,421.733 1177.89,419.212 1184.35,419.212 1184.35,416.691 1185.43,416.691 1185.43,414.17 1186.51,414.17 \n  1186.51,411.648 1189.74,411.648 1189.74,409.127 1190.82,409.127 1190.82,406.606 1192.98,406.606 1192.98,404.085 1196.21,404.085 1196.21,401.564 1203.76,401.564 \n  1203.76,399.042 1221.01,399.042 1221.01,396.521 1230.71,396.521 1230.71,394 1239.33,394 1239.33,391.479 1241.49,391.479 1241.49,388.957 1245.8,388.957 \n  1245.8,383.915 1251.19,383.915 1251.19,378.873 1253.35,378.873 1253.35,376.351 1256.58,376.351 1256.58,373.83 1275.98,373.83 1275.98,371.309 1281.37,371.309 \n  1281.37,368.788 1301.85,368.788 1301.85,366.266 1304.01,366.266 1304.01,363.745 1309.4,363.745 1309.4,361.224 1311.56,361.224 1311.56,356.181 1312.63,356.181 \n  1312.63,353.66 1324.49,353.66 1324.49,351.139 1328.8,351.139 1328.8,348.618 1339.58,348.618 1339.58,346.097 1354.68,346.097 1354.68,343.575 1358.99,343.575 \n  1358.99,341.054 1362.22,341.054 1362.22,338.533 1373,338.533 1373,336.012 1385.94,336.012 1385.94,333.49 1388.09,333.49 1388.09,330.969 1392.4,330.969 \n  1392.4,328.448 1398.87,328.448 1398.87,325.927 1401.03,325.927 1401.03,323.405 1409.65,323.405 1409.65,320.884 1413.96,320.884 1413.96,318.363 1415.04,318.363 \n  1415.04,313.321 1417.2,313.321 1417.2,310.799 1419.35,310.799 1419.35,308.278 1420.43,308.278 1420.43,305.757 1430.13,305.757 1430.13,303.236 1434.45,303.236 \n  1434.45,300.714 1436.6,300.714 1436.6,298.193 1443.07,298.193 1443.07,295.672 1447.38,295.672 1447.38,293.151 1449.54,293.151 1449.54,290.63 1456.01,290.63 \n  1456.01,288.108 1463.55,288.108 1463.55,285.587 1471.1,285.587 1471.1,283.066 1480.8,283.066 1480.8,280.545 1485.11,280.545 1485.11,278.023 1487.27,278.023 \n  1487.27,275.502 1510.98,275.502 1510.98,272.981 1514.22,272.981 1514.22,270.46 1525,270.46 1525,267.938 1531.46,267.938 1531.46,265.417 1540.09,265.417 \n  1540.09,262.896 1563.8,262.896 1563.8,260.375 1568.12,260.375 1568.12,257.854 1571.35,257.854 1571.35,255.332 1575.66,255.332 1575.66,252.811 1595.07,252.811 \n  1595.07,247.769 1604.77,247.769 1604.77,245.247 1605.84,245.247 1605.84,242.726 1634.95,242.726 1634.95,240.205 1656.51,240.205 1656.51,237.684 1660.82,237.684 \n  1660.82,235.163 1664.06,235.163 1664.06,232.641 1671.6,232.641 1671.6,230.12 1675.91,230.12 1675.91,227.599 1681.3,227.599 1681.3,225.078 1713.64,225.078 \n  1713.64,222.556 1737.36,222.556 1737.36,220.035 1770.78,220.035 1770.78,217.514 1791.26,217.514 1791.26,214.993 1816.05,214.993 1816.05,212.471 1830.06,212.471 \n  1830.06,209.95 1855.94,209.95 1855.94,207.429 1871.03,207.429 1871.03,204.908 1899.06,204.908 1899.06,202.387 1901.21,202.387 1901.21,199.865 1905.52,199.865 \n  1905.52,197.344 1920.62,197.344 1920.62,194.823 1934.63,194.823 1934.63,192.302 1952.95,192.302 1952.95,189.78 1958.34,189.78 1958.34,187.259 1974.51,187.259 \n  1974.51,184.738 1995,184.738 1995,182.217 2014.4,182.217 2014.4,179.696 2030.57,179.696 2030.57,177.174 2033.8,177.174 2033.8,174.653 2052.13,174.653 \n  2052.13,172.132 2100.64,172.132 2100.64,169.611 2126.51,169.611 2126.51,167.089 2137.29,167.089 2137.29,164.568 2235.39,164.568 2235.39,162.047 2291.44,162.047 \n  \n  \"/>\n<path clip-path=\"url(#clip360)\" d=\"\nM1987.39 272.585 L2280.54 272.585 L2280.54 168.905 L1987.39 168.905  Z\n  \" fill=\"#ffffff\" fill-rule=\"evenodd\" fill-opacity=\"1\"/>\n<polyline clip-path=\"url(#clip360)\" style=\"stroke:#000000; stroke-linecap:butt; stroke-linejoin:round; stroke-width:4; stroke-opacity:1; fill:none\" points=\"\n  1987.39,272.585 2280.54,272.585 2280.54,168.905 1987.39,168.905 1987.39,272.585 \n  \"/>\n<polyline clip-path=\"url(#clip360)\" style=\"stroke:#009af9; stroke-linecap:butt; stroke-linejoin:round; stroke-width:4; stroke-opacity:1; fill:none\" points=\"\n  2011.46,220.745 2155.89,220.745 \n  \"/>\n<path clip-path=\"url(#clip360)\" d=\"M2193.81 240.432 Q2192 245.062 2190.29 246.474 Q2188.58 247.886 2185.71 247.886 L2182.3 247.886 L2182.3 244.321 L2184.8 244.321 Q2186.56 244.321 2187.53 243.488 Q2188.51 242.654 2189.69 239.552 L2190.45 237.608 L2179.97 212.099 L2184.48 212.099 L2192.58 232.377 L2200.68 212.099 L2205.2 212.099 L2193.81 240.432 Z\" fill=\"#000000\" fill-rule=\"evenodd\" fill-opacity=\"1\" /><path clip-path=\"url(#clip360)\" d=\"M2212.49 234.089 L2220.13 234.089 L2220.13 207.724 L2211.82 209.391 L2211.82 205.131 L2220.08 203.465 L2224.76 203.465 L2224.76 234.089 L2232.4 234.089 L2232.4 238.025 L2212.49 238.025 L2212.49 234.089 Z\" fill=\"#000000\" fill-rule=\"evenodd\" fill-opacity=\"1\" /></svg>\n"
     },
     "execution_count": 39,
     "metadata": {},
     "output_type": "execute_result"
    }
   ],
   "source": [
    "# Plot ROC curve\n",
    "plot(fpr, tpr)\n",
    "title!(\"ROC curve\")"
   ]
  },
  {
   "cell_type": "markdown",
   "metadata": {},
   "source": [
    "## The Class Imbalance Problem\n"
   ]
  },
  {
   "cell_type": "code",
   "execution_count": 40,
   "metadata": {},
   "outputs": [
    {
     "data": {
      "text/plain": [
       "Dict{Int64, Int64} with 2 entries:\n",
       "  0 => 7963\n",
       "  1 => 2037"
      ]
     },
     "execution_count": 40,
     "metadata": {},
     "output_type": "execute_result"
    }
   ],
   "source": [
    "# Count the classes\n",
    "countmap(marketing_df.Exited)"
   ]
  },
  {
   "cell_type": "markdown",
   "metadata": {},
   "source": [
    "### Smote to fix imbalance"
   ]
  },
  {
   "cell_type": "code",
   "execution_count": 41,
   "metadata": {},
   "outputs": [
    {
     "data": {
      "text/plain": [
       "Dict{Int64, Int64} with 2 entries:\n",
       "  0 => 6111\n",
       "  1 => 6111"
      ]
     },
     "execution_count": 41,
     "metadata": {},
     "output_type": "execute_result"
    }
   ],
   "source": [
    "X2, y2 =smote(marketing_df[!,[:CreditScore,:Age ,:Tenure, :Balance, :NumOfProducts, :HasCrCard, :IsActiveMember, :EstimatedSalary, :Female , :France, :Spain]], marketing_df.Exited, k = 5, pct_under = 150, pct_over = 200)\n",
    "df_balanced = X2\n",
    "df_balanced.Exited = y2;\n",
    "\n",
    "df = df_balanced;\n",
    "\n",
    "# Count the classes\n",
    "countmap(df.Exited)"
   ]
  },
  {
   "cell_type": "markdown",
   "metadata": {},
   "source": [
    "## Retest"
   ]
  },
  {
   "cell_type": "code",
   "execution_count": 42,
   "metadata": {},
   "outputs": [
    {
     "name": "stdout",
     "output_type": "stream",
     "text": [
      "Accuracy of the model is : 0.7169563791407019"
     ]
    },
    {
     "data": {
      "text/plain": [
       "ROCNums{Int64}\n",
       "  p = 1550\n",
       "  n = 1499\n",
       "  tp = 1091\n",
       "  tn = 1095\n",
       "  fp = 404\n",
       "  fn = 459\n"
      ]
     },
     "execution_count": 42,
     "metadata": {},
     "output_type": "execute_result"
    }
   ],
   "source": [
    "# Train test split\n",
    "train, test = TrainTestSplit(df,.75);\n",
    "\n",
    "# Model Building\n",
    "fm = @formula(Exited ~ CreditScore + Age + Tenure + Balance + NumOfProducts + HasCrCard + IsActiveMember + EstimatedSalary + Female + France + Spain)\n",
    "logit = glm(fm, train, Binomial(), ProbitLink())\n",
    "\n",
    "# Predict the target variable on test data \n",
    "prediction = predict(logit,test)\n",
    "\n",
    "# Convert probability score to class\n",
    "prediction_class = [if x < 0.5 0 else 1 end for x in prediction];\n",
    "\n",
    "prediction_df = DataFrame(y_actual = test.Exited, y_predicted = prediction_class, prob_predicted = prediction);\n",
    "prediction_df.correctly_classified = prediction_df.y_actual .== prediction_df.y_predicted\n",
    "\n",
    "\n",
    "# Accuracy Score\n",
    "accuracy = mean(prediction_df.correctly_classified)\n",
    "print(\"Accuracy of the model is : \",accuracy)\n",
    "\n",
    "# Confusion Matrix\n",
    "confusion_matrix = MLBase.roc(prediction_df.y_actual, prediction_df.y_predicted)"
   ]
  },
  {
   "cell_type": "code",
   "execution_count": 43,
   "metadata": {},
   "outputs": [
    {
     "data": {
      "text/plain": [
       "([0.0, 0.0, 0.0, 0.00066711140760507, 0.00066711140760507, 0.00133422281521014, 0.00133422281521014, 0.0020013342228152103, 0.0020013342228152103, 0.00266844563042028  …  0.9846564376250834, 0.9893262174783188, 0.9893262174783188, 0.9913275517011341, 0.9913275517011341, 0.9973315543695798, 0.9986657771847899, 0.9993328885923949, 0.9993328885923949, 1.0], [0.0, 0.0006451612903225806, 0.0025806451612903226, 0.0025806451612903226, 0.005161290322580645, 0.005161290322580645, 0.007741935483870968, 0.007741935483870968, 0.00903225806451613, 0.00903225806451613  …  0.9980645161290322, 0.9980645161290322, 0.9987096774193548, 0.9987096774193548, 0.9993548387096775, 0.9993548387096775, 0.9993548387096775, 0.9993548387096775, 1.0, 1.0], [1.9907624292252022, 0.9907624292252022, 0.983731024429679, 0.97951657298985, 0.9730082291507035, 0.9713532719467679, 0.9629327481173712, 0.9604203755106321, 0.9593444340323958, 0.9584649467140461  …  0.06923199350115271, 0.06553287523911823, 0.06469253560487893, 0.058594401854125504, 0.057872556108602216, 0.034170953161915506, 0.03357051125028141, 0.03297342671224324, 0.030937011626933943, 0.023743078872535135])"
      ]
     },
     "execution_count": 43,
     "metadata": {},
     "output_type": "execute_result"
    }
   ],
   "source": [
    "fpr, tpr, thresholds = sklearn.roc_curve(prediction_df.y_actual, prediction_df.prob_predicted)\n",
    "# Plot ROC curve\n"
   ]
  },
  {
   "cell_type": "code",
   "execution_count": 44,
   "metadata": {},
   "outputs": [
    {
     "data": {
      "image/svg+xml": "<?xml version=\"1.0\" encoding=\"utf-8\"?>\n<svg xmlns=\"http://www.w3.org/2000/svg\" xmlns:xlink=\"http://www.w3.org/1999/xlink\" width=\"600\" height=\"400\" viewBox=\"0 0 2400 1600\">\n<defs>\n  <clipPath id=\"clip400\">\n    <rect x=\"0\" y=\"0\" width=\"2400\" height=\"1600\"/>\n  </clipPath>\n</defs>\n<path clip-path=\"url(#clip400)\" d=\"\nM0 1600 L2400 1600 L2400 0 L0 0  Z\n  \" fill=\"#ffffff\" fill-rule=\"evenodd\" fill-opacity=\"1\"/>\n<defs>\n  <clipPath id=\"clip401\">\n    <rect x=\"480\" y=\"0\" width=\"1681\" height=\"1600\"/>\n  </clipPath>\n</defs>\n<path clip-path=\"url(#clip400)\" d=\"\nM186.274 1486.45 L2352.76 1486.45 L2352.76 123.472 L186.274 123.472  Z\n  \" fill=\"#ffffff\" fill-rule=\"evenodd\" fill-opacity=\"1\"/>\n<defs>\n  <clipPath id=\"clip402\">\n    <rect x=\"186\" y=\"123\" width=\"2167\" height=\"1364\"/>\n  </clipPath>\n</defs>\n<polyline clip-path=\"url(#clip402)\" style=\"stroke:#000000; stroke-linecap:butt; stroke-linejoin:round; stroke-width:2; stroke-opacity:0.1; fill:none\" points=\"\n  247.59,1486.45 247.59,123.472 \n  \"/>\n<polyline clip-path=\"url(#clip402)\" style=\"stroke:#000000; stroke-linecap:butt; stroke-linejoin:round; stroke-width:2; stroke-opacity:0.1; fill:none\" points=\"\n  758.552,1486.45 758.552,123.472 \n  \"/>\n<polyline clip-path=\"url(#clip402)\" style=\"stroke:#000000; stroke-linecap:butt; stroke-linejoin:round; stroke-width:2; stroke-opacity:0.1; fill:none\" points=\"\n  1269.51,1486.45 1269.51,123.472 \n  \"/>\n<polyline clip-path=\"url(#clip402)\" style=\"stroke:#000000; stroke-linecap:butt; stroke-linejoin:round; stroke-width:2; stroke-opacity:0.1; fill:none\" points=\"\n  1780.48,1486.45 1780.48,123.472 \n  \"/>\n<polyline clip-path=\"url(#clip402)\" style=\"stroke:#000000; stroke-linecap:butt; stroke-linejoin:round; stroke-width:2; stroke-opacity:0.1; fill:none\" points=\"\n  2291.44,1486.45 2291.44,123.472 \n  \"/>\n<polyline clip-path=\"url(#clip400)\" style=\"stroke:#000000; stroke-linecap:butt; stroke-linejoin:round; stroke-width:4; stroke-opacity:1; fill:none\" points=\"\n  186.274,1486.45 2352.76,1486.45 \n  \"/>\n<polyline clip-path=\"url(#clip400)\" style=\"stroke:#000000; stroke-linecap:butt; stroke-linejoin:round; stroke-width:4; stroke-opacity:1; fill:none\" points=\"\n  247.59,1486.45 247.59,1467.55 \n  \"/>\n<polyline clip-path=\"url(#clip400)\" style=\"stroke:#000000; stroke-linecap:butt; stroke-linejoin:round; stroke-width:4; stroke-opacity:1; fill:none\" points=\"\n  758.552,1486.45 758.552,1467.55 \n  \"/>\n<polyline clip-path=\"url(#clip400)\" style=\"stroke:#000000; stroke-linecap:butt; stroke-linejoin:round; stroke-width:4; stroke-opacity:1; fill:none\" points=\"\n  1269.51,1486.45 1269.51,1467.55 \n  \"/>\n<polyline clip-path=\"url(#clip400)\" style=\"stroke:#000000; stroke-linecap:butt; stroke-linejoin:round; stroke-width:4; stroke-opacity:1; fill:none\" points=\"\n  1780.48,1486.45 1780.48,1467.55 \n  \"/>\n<polyline clip-path=\"url(#clip400)\" style=\"stroke:#000000; stroke-linecap:butt; stroke-linejoin:round; stroke-width:4; stroke-opacity:1; fill:none\" points=\"\n  2291.44,1486.45 2291.44,1467.55 \n  \"/>\n<path clip-path=\"url(#clip400)\" d=\"M209.893 1517.37 Q206.282 1517.37 204.453 1520.93 Q202.648 1524.47 202.648 1531.6 Q202.648 1538.71 204.453 1542.27 Q206.282 1545.82 209.893 1545.82 Q213.527 1545.82 215.333 1542.27 Q217.161 1538.71 217.161 1531.6 Q217.161 1524.47 215.333 1520.93 Q213.527 1517.37 209.893 1517.37 M209.893 1513.66 Q215.703 1513.66 218.759 1518.27 Q221.837 1522.85 221.837 1531.6 Q221.837 1540.33 218.759 1544.94 Q215.703 1549.52 209.893 1549.52 Q204.083 1549.52 201.004 1544.94 Q197.949 1540.33 197.949 1531.6 Q197.949 1522.85 201.004 1518.27 Q204.083 1513.66 209.893 1513.66 Z\" fill=\"#000000\" fill-rule=\"evenodd\" fill-opacity=\"1\" /><path clip-path=\"url(#clip400)\" d=\"M230.055 1542.97 L234.939 1542.97 L234.939 1548.85 L230.055 1548.85 L230.055 1542.97 Z\" fill=\"#000000\" fill-rule=\"evenodd\" fill-opacity=\"1\" /><path clip-path=\"url(#clip400)\" d=\"M255.124 1517.37 Q251.513 1517.37 249.684 1520.93 Q247.879 1524.47 247.879 1531.6 Q247.879 1538.71 249.684 1542.27 Q251.513 1545.82 255.124 1545.82 Q258.758 1545.82 260.564 1542.27 Q262.393 1538.71 262.393 1531.6 Q262.393 1524.47 260.564 1520.93 Q258.758 1517.37 255.124 1517.37 M255.124 1513.66 Q260.934 1513.66 263.99 1518.27 Q267.069 1522.85 267.069 1531.6 Q267.069 1540.33 263.99 1544.94 Q260.934 1549.52 255.124 1549.52 Q249.314 1549.52 246.235 1544.94 Q243.18 1540.33 243.18 1531.6 Q243.18 1522.85 246.235 1518.27 Q249.314 1513.66 255.124 1513.66 Z\" fill=\"#000000\" fill-rule=\"evenodd\" fill-opacity=\"1\" /><path clip-path=\"url(#clip400)\" d=\"M285.286 1517.37 Q281.675 1517.37 279.846 1520.93 Q278.041 1524.47 278.041 1531.6 Q278.041 1538.71 279.846 1542.27 Q281.675 1545.82 285.286 1545.82 Q288.92 1545.82 290.726 1542.27 Q292.555 1538.71 292.555 1531.6 Q292.555 1524.47 290.726 1520.93 Q288.92 1517.37 285.286 1517.37 M285.286 1513.66 Q291.096 1513.66 294.152 1518.27 Q297.23 1522.85 297.23 1531.6 Q297.23 1540.33 294.152 1544.94 Q291.096 1549.52 285.286 1549.52 Q279.476 1549.52 276.397 1544.94 Q273.342 1540.33 273.342 1531.6 Q273.342 1522.85 276.397 1518.27 Q279.476 1513.66 285.286 1513.66 Z\" fill=\"#000000\" fill-rule=\"evenodd\" fill-opacity=\"1\" /><path clip-path=\"url(#clip400)\" d=\"M721.353 1517.37 Q717.742 1517.37 715.914 1520.93 Q714.108 1524.47 714.108 1531.6 Q714.108 1538.71 715.914 1542.27 Q717.742 1545.82 721.353 1545.82 Q724.988 1545.82 726.793 1542.27 Q728.622 1538.71 728.622 1531.6 Q728.622 1524.47 726.793 1520.93 Q724.988 1517.37 721.353 1517.37 M721.353 1513.66 Q727.164 1513.66 730.219 1518.27 Q733.298 1522.85 733.298 1531.6 Q733.298 1540.33 730.219 1544.94 Q727.164 1549.52 721.353 1549.52 Q715.543 1549.52 712.465 1544.94 Q709.409 1540.33 709.409 1531.6 Q709.409 1522.85 712.465 1518.27 Q715.543 1513.66 721.353 1513.66 Z\" fill=\"#000000\" fill-rule=\"evenodd\" fill-opacity=\"1\" /><path clip-path=\"url(#clip400)\" d=\"M741.515 1542.97 L746.4 1542.97 L746.4 1548.85 L741.515 1548.85 L741.515 1542.97 Z\" fill=\"#000000\" fill-rule=\"evenodd\" fill-opacity=\"1\" /><path clip-path=\"url(#clip400)\" d=\"M760.612 1544.91 L776.932 1544.91 L776.932 1548.85 L754.987 1548.85 L754.987 1544.91 Q757.649 1542.16 762.233 1537.53 Q766.839 1532.88 768.02 1531.53 Q770.265 1529.01 771.145 1527.27 Q772.048 1525.51 772.048 1523.82 Q772.048 1521.07 770.103 1519.33 Q768.182 1517.6 765.08 1517.6 Q762.881 1517.6 760.427 1518.36 Q757.997 1519.13 755.219 1520.68 L755.219 1515.95 Q758.043 1514.82 760.497 1514.24 Q762.95 1513.66 764.987 1513.66 Q770.358 1513.66 773.552 1516.35 Q776.747 1519.03 776.747 1523.52 Q776.747 1525.65 775.936 1527.57 Q775.149 1529.47 773.043 1532.07 Q772.464 1532.74 769.362 1535.95 Q766.261 1539.15 760.612 1544.91 Z\" fill=\"#000000\" fill-rule=\"evenodd\" fill-opacity=\"1\" /><path clip-path=\"url(#clip400)\" d=\"M786.793 1514.29 L805.149 1514.29 L805.149 1518.22 L791.075 1518.22 L791.075 1526.7 Q792.094 1526.35 793.112 1526.19 Q794.131 1526 795.149 1526 Q800.936 1526 804.316 1529.17 Q807.695 1532.34 807.695 1537.76 Q807.695 1543.34 804.223 1546.44 Q800.751 1549.52 794.432 1549.52 Q792.256 1549.52 789.987 1549.15 Q787.742 1548.78 785.335 1548.04 L785.335 1543.34 Q787.418 1544.47 789.64 1545.03 Q791.862 1545.58 794.339 1545.58 Q798.344 1545.58 800.682 1543.48 Q803.02 1541.37 803.02 1537.76 Q803.02 1534.15 800.682 1532.04 Q798.344 1529.94 794.339 1529.94 Q792.464 1529.94 790.589 1530.35 Q788.737 1530.77 786.793 1531.65 L786.793 1514.29 Z\" fill=\"#000000\" fill-rule=\"evenodd\" fill-opacity=\"1\" /><path clip-path=\"url(#clip400)\" d=\"M1231.82 1517.37 Q1228.21 1517.37 1226.38 1520.93 Q1224.57 1524.47 1224.57 1531.6 Q1224.57 1538.71 1226.38 1542.27 Q1228.21 1545.82 1231.82 1545.82 Q1235.45 1545.82 1237.26 1542.27 Q1239.09 1538.71 1239.09 1531.6 Q1239.09 1524.47 1237.26 1520.93 Q1235.45 1517.37 1231.82 1517.37 M1231.82 1513.66 Q1237.63 1513.66 1240.68 1518.27 Q1243.76 1522.85 1243.76 1531.6 Q1243.76 1540.33 1240.68 1544.94 Q1237.63 1549.52 1231.82 1549.52 Q1226.01 1549.52 1222.93 1544.94 Q1219.87 1540.33 1219.87 1531.6 Q1219.87 1522.85 1222.93 1518.27 Q1226.01 1513.66 1231.82 1513.66 Z\" fill=\"#000000\" fill-rule=\"evenodd\" fill-opacity=\"1\" /><path clip-path=\"url(#clip400)\" d=\"M1251.98 1542.97 L1256.86 1542.97 L1256.86 1548.85 L1251.98 1548.85 L1251.98 1542.97 Z\" fill=\"#000000\" fill-rule=\"evenodd\" fill-opacity=\"1\" /><path clip-path=\"url(#clip400)\" d=\"M1267.1 1514.29 L1285.45 1514.29 L1285.45 1518.22 L1271.38 1518.22 L1271.38 1526.7 Q1272.4 1526.35 1273.42 1526.19 Q1274.43 1526 1275.45 1526 Q1281.24 1526 1284.62 1529.17 Q1288 1532.34 1288 1537.76 Q1288 1543.34 1284.53 1546.44 Q1281.05 1549.52 1274.73 1549.52 Q1272.56 1549.52 1270.29 1549.15 Q1268.05 1548.78 1265.64 1548.04 L1265.64 1543.34 Q1267.72 1544.47 1269.94 1545.03 Q1272.17 1545.58 1274.64 1545.58 Q1278.65 1545.58 1280.98 1543.48 Q1283.32 1541.37 1283.32 1537.76 Q1283.32 1534.15 1280.98 1532.04 Q1278.65 1529.94 1274.64 1529.94 Q1272.77 1529.94 1270.89 1530.35 Q1269.04 1530.77 1267.1 1531.65 L1267.1 1514.29 Z\" fill=\"#000000\" fill-rule=\"evenodd\" fill-opacity=\"1\" /><path clip-path=\"url(#clip400)\" d=\"M1307.21 1517.37 Q1303.6 1517.37 1301.77 1520.93 Q1299.97 1524.47 1299.97 1531.6 Q1299.97 1538.71 1301.77 1542.27 Q1303.6 1545.82 1307.21 1545.82 Q1310.85 1545.82 1312.65 1542.27 Q1314.48 1538.71 1314.48 1531.6 Q1314.48 1524.47 1312.65 1520.93 Q1310.85 1517.37 1307.21 1517.37 M1307.21 1513.66 Q1313.02 1513.66 1316.08 1518.27 Q1319.16 1522.85 1319.16 1531.6 Q1319.16 1540.33 1316.08 1544.94 Q1313.02 1549.52 1307.21 1549.52 Q1301.4 1549.52 1298.32 1544.94 Q1295.27 1540.33 1295.27 1531.6 Q1295.27 1522.85 1298.32 1518.27 Q1301.4 1513.66 1307.21 1513.66 Z\" fill=\"#000000\" fill-rule=\"evenodd\" fill-opacity=\"1\" /><path clip-path=\"url(#clip400)\" d=\"M1743.28 1517.37 Q1739.67 1517.37 1737.84 1520.93 Q1736.03 1524.47 1736.03 1531.6 Q1736.03 1538.71 1737.84 1542.27 Q1739.67 1545.82 1743.28 1545.82 Q1746.91 1545.82 1748.72 1542.27 Q1750.55 1538.71 1750.55 1531.6 Q1750.55 1524.47 1748.72 1520.93 Q1746.91 1517.37 1743.28 1517.37 M1743.28 1513.66 Q1749.09 1513.66 1752.14 1518.27 Q1755.22 1522.85 1755.22 1531.6 Q1755.22 1540.33 1752.14 1544.94 Q1749.09 1549.52 1743.28 1549.52 Q1737.47 1549.52 1734.39 1544.94 Q1731.33 1540.33 1731.33 1531.6 Q1731.33 1522.85 1734.39 1518.27 Q1737.47 1513.66 1743.28 1513.66 Z\" fill=\"#000000\" fill-rule=\"evenodd\" fill-opacity=\"1\" /><path clip-path=\"url(#clip400)\" d=\"M1763.44 1542.97 L1768.32 1542.97 L1768.32 1548.85 L1763.44 1548.85 L1763.44 1542.97 Z\" fill=\"#000000\" fill-rule=\"evenodd\" fill-opacity=\"1\" /><path clip-path=\"url(#clip400)\" d=\"M1777.33 1514.29 L1799.55 1514.29 L1799.55 1516.28 L1787.01 1548.85 L1782.12 1548.85 L1793.93 1518.22 L1777.33 1518.22 L1777.33 1514.29 Z\" fill=\"#000000\" fill-rule=\"evenodd\" fill-opacity=\"1\" /><path clip-path=\"url(#clip400)\" d=\"M1808.72 1514.29 L1827.07 1514.29 L1827.07 1518.22 L1813 1518.22 L1813 1526.7 Q1814.02 1526.35 1815.04 1526.19 Q1816.06 1526 1817.07 1526 Q1822.86 1526 1826.24 1529.17 Q1829.62 1532.34 1829.62 1537.76 Q1829.62 1543.34 1826.15 1546.44 Q1822.68 1549.52 1816.36 1549.52 Q1814.18 1549.52 1811.91 1549.15 Q1809.67 1548.78 1807.26 1548.04 L1807.26 1543.34 Q1809.34 1544.47 1811.57 1545.03 Q1813.79 1545.58 1816.26 1545.58 Q1820.27 1545.58 1822.61 1543.48 Q1824.95 1541.37 1824.95 1537.76 Q1824.95 1534.15 1822.61 1532.04 Q1820.27 1529.94 1816.26 1529.94 Q1814.39 1529.94 1812.51 1530.35 Q1810.66 1530.77 1808.72 1531.65 L1808.72 1514.29 Z\" fill=\"#000000\" fill-rule=\"evenodd\" fill-opacity=\"1\" /><path clip-path=\"url(#clip400)\" d=\"M2243.51 1544.91 L2251.15 1544.91 L2251.15 1518.55 L2242.84 1520.21 L2242.84 1515.95 L2251.1 1514.29 L2255.78 1514.29 L2255.78 1544.91 L2263.42 1544.91 L2263.42 1548.85 L2243.51 1548.85 L2243.51 1544.91 Z\" fill=\"#000000\" fill-rule=\"evenodd\" fill-opacity=\"1\" /><path clip-path=\"url(#clip400)\" d=\"M2272.86 1542.97 L2277.75 1542.97 L2277.75 1548.85 L2272.86 1548.85 L2272.86 1542.97 Z\" fill=\"#000000\" fill-rule=\"evenodd\" fill-opacity=\"1\" /><path clip-path=\"url(#clip400)\" d=\"M2297.93 1517.37 Q2294.32 1517.37 2292.49 1520.93 Q2290.69 1524.47 2290.69 1531.6 Q2290.69 1538.71 2292.49 1542.27 Q2294.32 1545.82 2297.93 1545.82 Q2301.57 1545.82 2303.37 1542.27 Q2305.2 1538.71 2305.2 1531.6 Q2305.2 1524.47 2303.37 1520.93 Q2301.57 1517.37 2297.93 1517.37 M2297.93 1513.66 Q2303.74 1513.66 2306.8 1518.27 Q2309.88 1522.85 2309.88 1531.6 Q2309.88 1540.33 2306.8 1544.94 Q2303.74 1549.52 2297.93 1549.52 Q2292.12 1549.52 2289.04 1544.94 Q2285.99 1540.33 2285.99 1531.6 Q2285.99 1522.85 2289.04 1518.27 Q2292.12 1513.66 2297.93 1513.66 Z\" fill=\"#000000\" fill-rule=\"evenodd\" fill-opacity=\"1\" /><path clip-path=\"url(#clip400)\" d=\"M2328.1 1517.37 Q2324.48 1517.37 2322.66 1520.93 Q2320.85 1524.47 2320.85 1531.6 Q2320.85 1538.71 2322.66 1542.27 Q2324.48 1545.82 2328.1 1545.82 Q2331.73 1545.82 2333.54 1542.27 Q2335.36 1538.71 2335.36 1531.6 Q2335.36 1524.47 2333.54 1520.93 Q2331.73 1517.37 2328.1 1517.37 M2328.1 1513.66 Q2333.91 1513.66 2336.96 1518.27 Q2340.04 1522.85 2340.04 1531.6 Q2340.04 1540.33 2336.96 1544.94 Q2333.91 1549.52 2328.1 1549.52 Q2322.29 1549.52 2319.21 1544.94 Q2316.15 1540.33 2316.15 1531.6 Q2316.15 1522.85 2319.21 1518.27 Q2322.29 1513.66 2328.1 1513.66 Z\" fill=\"#000000\" fill-rule=\"evenodd\" fill-opacity=\"1\" /><polyline clip-path=\"url(#clip402)\" style=\"stroke:#000000; stroke-linecap:butt; stroke-linejoin:round; stroke-width:2; stroke-opacity:0.1; fill:none\" points=\"\n  186.274,1447.87 2352.76,1447.87 \n  \"/>\n<polyline clip-path=\"url(#clip402)\" style=\"stroke:#000000; stroke-linecap:butt; stroke-linejoin:round; stroke-width:2; stroke-opacity:0.1; fill:none\" points=\"\n  186.274,1126.42 2352.76,1126.42 \n  \"/>\n<polyline clip-path=\"url(#clip402)\" style=\"stroke:#000000; stroke-linecap:butt; stroke-linejoin:round; stroke-width:2; stroke-opacity:0.1; fill:none\" points=\"\n  186.274,804.96 2352.76,804.96 \n  \"/>\n<polyline clip-path=\"url(#clip402)\" style=\"stroke:#000000; stroke-linecap:butt; stroke-linejoin:round; stroke-width:2; stroke-opacity:0.1; fill:none\" points=\"\n  186.274,483.503 2352.76,483.503 \n  \"/>\n<polyline clip-path=\"url(#clip402)\" style=\"stroke:#000000; stroke-linecap:butt; stroke-linejoin:round; stroke-width:2; stroke-opacity:0.1; fill:none\" points=\"\n  186.274,162.047 2352.76,162.047 \n  \"/>\n<polyline clip-path=\"url(#clip400)\" style=\"stroke:#000000; stroke-linecap:butt; stroke-linejoin:round; stroke-width:4; stroke-opacity:1; fill:none\" points=\"\n  186.274,1486.45 186.274,123.472 \n  \"/>\n<polyline clip-path=\"url(#clip400)\" style=\"stroke:#000000; stroke-linecap:butt; stroke-linejoin:round; stroke-width:4; stroke-opacity:1; fill:none\" points=\"\n  186.274,1447.87 205.172,1447.87 \n  \"/>\n<polyline clip-path=\"url(#clip400)\" style=\"stroke:#000000; stroke-linecap:butt; stroke-linejoin:round; stroke-width:4; stroke-opacity:1; fill:none\" points=\"\n  186.274,1126.42 205.172,1126.42 \n  \"/>\n<polyline clip-path=\"url(#clip400)\" style=\"stroke:#000000; stroke-linecap:butt; stroke-linejoin:round; stroke-width:4; stroke-opacity:1; fill:none\" points=\"\n  186.274,804.96 205.172,804.96 \n  \"/>\n<polyline clip-path=\"url(#clip400)\" style=\"stroke:#000000; stroke-linecap:butt; stroke-linejoin:round; stroke-width:4; stroke-opacity:1; fill:none\" points=\"\n  186.274,483.503 205.172,483.503 \n  \"/>\n<polyline clip-path=\"url(#clip400)\" style=\"stroke:#000000; stroke-linecap:butt; stroke-linejoin:round; stroke-width:4; stroke-opacity:1; fill:none\" points=\"\n  186.274,162.047 205.172,162.047 \n  \"/>\n<path clip-path=\"url(#clip400)\" d=\"M62.9365 1433.67 Q59.3254 1433.67 57.4967 1437.24 Q55.6912 1440.78 55.6912 1447.91 Q55.6912 1455.01 57.4967 1458.58 Q59.3254 1462.12 62.9365 1462.12 Q66.5707 1462.12 68.3763 1458.58 Q70.205 1455.01 70.205 1447.91 Q70.205 1440.78 68.3763 1437.24 Q66.5707 1433.67 62.9365 1433.67 M62.9365 1429.97 Q68.7467 1429.97 71.8022 1434.57 Q74.8809 1439.16 74.8809 1447.91 Q74.8809 1456.63 71.8022 1461.24 Q68.7467 1465.82 62.9365 1465.82 Q57.1264 1465.82 54.0477 1461.24 Q50.9921 1456.63 50.9921 1447.91 Q50.9921 1439.16 54.0477 1434.57 Q57.1264 1429.97 62.9365 1429.97 Z\" fill=\"#000000\" fill-rule=\"evenodd\" fill-opacity=\"1\" /><path clip-path=\"url(#clip400)\" d=\"M83.0984 1459.27 L87.9827 1459.27 L87.9827 1465.15 L83.0984 1465.15 L83.0984 1459.27 Z\" fill=\"#000000\" fill-rule=\"evenodd\" fill-opacity=\"1\" /><path clip-path=\"url(#clip400)\" d=\"M108.168 1433.67 Q104.557 1433.67 102.728 1437.24 Q100.922 1440.78 100.922 1447.91 Q100.922 1455.01 102.728 1458.58 Q104.557 1462.12 108.168 1462.12 Q111.802 1462.12 113.608 1458.58 Q115.436 1455.01 115.436 1447.91 Q115.436 1440.78 113.608 1437.24 Q111.802 1433.67 108.168 1433.67 M108.168 1429.97 Q113.978 1429.97 117.033 1434.57 Q120.112 1439.16 120.112 1447.91 Q120.112 1456.63 117.033 1461.24 Q113.978 1465.82 108.168 1465.82 Q102.358 1465.82 99.2789 1461.24 Q96.2234 1456.63 96.2234 1447.91 Q96.2234 1439.16 99.2789 1434.57 Q102.358 1429.97 108.168 1429.97 Z\" fill=\"#000000\" fill-rule=\"evenodd\" fill-opacity=\"1\" /><path clip-path=\"url(#clip400)\" d=\"M138.33 1433.67 Q134.719 1433.67 132.89 1437.24 Q131.084 1440.78 131.084 1447.91 Q131.084 1455.01 132.89 1458.58 Q134.719 1462.12 138.33 1462.12 Q141.964 1462.12 143.769 1458.58 Q145.598 1455.01 145.598 1447.91 Q145.598 1440.78 143.769 1437.24 Q141.964 1433.67 138.33 1433.67 M138.33 1429.97 Q144.14 1429.97 147.195 1434.57 Q150.274 1439.16 150.274 1447.91 Q150.274 1456.63 147.195 1461.24 Q144.14 1465.82 138.33 1465.82 Q132.519 1465.82 129.441 1461.24 Q126.385 1456.63 126.385 1447.91 Q126.385 1439.16 129.441 1434.57 Q132.519 1429.97 138.33 1429.97 Z\" fill=\"#000000\" fill-rule=\"evenodd\" fill-opacity=\"1\" /><path clip-path=\"url(#clip400)\" d=\"M63.9319 1112.22 Q60.3208 1112.22 58.4921 1115.78 Q56.6865 1119.32 56.6865 1126.45 Q56.6865 1133.56 58.4921 1137.12 Q60.3208 1140.66 63.9319 1140.66 Q67.5661 1140.66 69.3717 1137.12 Q71.2004 1133.56 71.2004 1126.45 Q71.2004 1119.32 69.3717 1115.78 Q67.5661 1112.22 63.9319 1112.22 M63.9319 1108.51 Q69.742 1108.51 72.7976 1113.12 Q75.8763 1117.7 75.8763 1126.45 Q75.8763 1135.18 72.7976 1139.78 Q69.742 1144.37 63.9319 1144.37 Q58.1217 1144.37 55.043 1139.78 Q51.9875 1135.18 51.9875 1126.45 Q51.9875 1117.7 55.043 1113.12 Q58.1217 1108.51 63.9319 1108.51 Z\" fill=\"#000000\" fill-rule=\"evenodd\" fill-opacity=\"1\" /><path clip-path=\"url(#clip400)\" d=\"M84.0938 1137.82 L88.978 1137.82 L88.978 1143.7 L84.0938 1143.7 L84.0938 1137.82 Z\" fill=\"#000000\" fill-rule=\"evenodd\" fill-opacity=\"1\" /><path clip-path=\"url(#clip400)\" d=\"M103.191 1139.76 L119.51 1139.76 L119.51 1143.7 L97.566 1143.7 L97.566 1139.76 Q100.228 1137.01 104.811 1132.38 Q109.418 1127.72 110.598 1126.38 Q112.844 1123.86 113.723 1122.12 Q114.626 1120.36 114.626 1118.67 Q114.626 1115.92 112.682 1114.18 Q110.76 1112.45 107.658 1112.45 Q105.459 1112.45 103.006 1113.21 Q100.575 1113.97 97.7974 1115.53 L97.7974 1110.8 Q100.621 1109.67 103.075 1109.09 Q105.529 1108.51 107.566 1108.51 Q112.936 1108.51 116.131 1111.2 Q119.325 1113.88 119.325 1118.37 Q119.325 1120.5 118.515 1122.42 Q117.728 1124.32 115.621 1126.91 Q115.043 1127.59 111.941 1130.8 Q108.839 1134 103.191 1139.76 Z\" fill=\"#000000\" fill-rule=\"evenodd\" fill-opacity=\"1\" /><path clip-path=\"url(#clip400)\" d=\"M129.371 1109.14 L147.728 1109.14 L147.728 1113.07 L133.654 1113.07 L133.654 1121.54 Q134.672 1121.2 135.691 1121.03 Q136.709 1120.85 137.728 1120.85 Q143.515 1120.85 146.894 1124.02 Q150.274 1127.19 150.274 1132.61 Q150.274 1138.19 146.802 1141.29 Q143.33 1144.37 137.01 1144.37 Q134.834 1144.37 132.566 1144 Q130.32 1143.63 127.913 1142.89 L127.913 1138.19 Q129.996 1139.32 132.219 1139.88 Q134.441 1140.43 136.918 1140.43 Q140.922 1140.43 143.26 1138.33 Q145.598 1136.22 145.598 1132.61 Q145.598 1129 143.26 1126.89 Q140.922 1124.78 136.918 1124.78 Q135.043 1124.78 133.168 1125.2 Q131.316 1125.62 129.371 1126.5 L129.371 1109.14 Z\" fill=\"#000000\" fill-rule=\"evenodd\" fill-opacity=\"1\" /><path clip-path=\"url(#clip400)\" d=\"M62.9365 790.759 Q59.3254 790.759 57.4967 794.323 Q55.6912 797.865 55.6912 804.995 Q55.6912 812.101 57.4967 815.666 Q59.3254 819.208 62.9365 819.208 Q66.5707 819.208 68.3763 815.666 Q70.205 812.101 70.205 804.995 Q70.205 797.865 68.3763 794.323 Q66.5707 790.759 62.9365 790.759 M62.9365 787.055 Q68.7467 787.055 71.8022 791.661 Q74.8809 796.245 74.8809 804.995 Q74.8809 813.722 71.8022 818.328 Q68.7467 822.911 62.9365 822.911 Q57.1264 822.911 54.0477 818.328 Q50.9921 813.722 50.9921 804.995 Q50.9921 796.245 54.0477 791.661 Q57.1264 787.055 62.9365 787.055 Z\" fill=\"#000000\" fill-rule=\"evenodd\" fill-opacity=\"1\" /><path clip-path=\"url(#clip400)\" d=\"M83.0984 816.36 L87.9827 816.36 L87.9827 822.24 L83.0984 822.24 L83.0984 816.36 Z\" fill=\"#000000\" fill-rule=\"evenodd\" fill-opacity=\"1\" /><path clip-path=\"url(#clip400)\" d=\"M98.2141 787.68 L116.57 787.68 L116.57 791.615 L102.496 791.615 L102.496 800.087 Q103.515 799.74 104.534 799.578 Q105.552 799.393 106.571 799.393 Q112.358 799.393 115.737 802.564 Q119.117 805.735 119.117 811.152 Q119.117 816.731 115.645 819.833 Q112.172 822.911 105.853 822.911 Q103.677 822.911 101.409 822.541 Q99.1632 822.171 96.7558 821.43 L96.7558 816.731 Q98.8391 817.865 101.061 818.421 Q103.284 818.976 105.76 818.976 Q109.765 818.976 112.103 816.87 Q114.441 814.763 114.441 811.152 Q114.441 807.541 112.103 805.435 Q109.765 803.328 105.76 803.328 Q103.885 803.328 102.01 803.745 Q100.159 804.161 98.2141 805.041 L98.2141 787.68 Z\" fill=\"#000000\" fill-rule=\"evenodd\" fill-opacity=\"1\" /><path clip-path=\"url(#clip400)\" d=\"M138.33 790.759 Q134.719 790.759 132.89 794.323 Q131.084 797.865 131.084 804.995 Q131.084 812.101 132.89 815.666 Q134.719 819.208 138.33 819.208 Q141.964 819.208 143.769 815.666 Q145.598 812.101 145.598 804.995 Q145.598 797.865 143.769 794.323 Q141.964 790.759 138.33 790.759 M138.33 787.055 Q144.14 787.055 147.195 791.661 Q150.274 796.245 150.274 804.995 Q150.274 813.722 147.195 818.328 Q144.14 822.911 138.33 822.911 Q132.519 822.911 129.441 818.328 Q126.385 813.722 126.385 804.995 Q126.385 796.245 129.441 791.661 Q132.519 787.055 138.33 787.055 Z\" fill=\"#000000\" fill-rule=\"evenodd\" fill-opacity=\"1\" /><path clip-path=\"url(#clip400)\" d=\"M63.9319 469.302 Q60.3208 469.302 58.4921 472.867 Q56.6865 476.409 56.6865 483.538 Q56.6865 490.645 58.4921 494.209 Q60.3208 497.751 63.9319 497.751 Q67.5661 497.751 69.3717 494.209 Q71.2004 490.645 71.2004 483.538 Q71.2004 476.409 69.3717 472.867 Q67.5661 469.302 63.9319 469.302 M63.9319 465.598 Q69.742 465.598 72.7976 470.205 Q75.8763 474.788 75.8763 483.538 Q75.8763 492.265 72.7976 496.871 Q69.742 501.455 63.9319 501.455 Q58.1217 501.455 55.043 496.871 Q51.9875 492.265 51.9875 483.538 Q51.9875 474.788 55.043 470.205 Q58.1217 465.598 63.9319 465.598 Z\" fill=\"#000000\" fill-rule=\"evenodd\" fill-opacity=\"1\" /><path clip-path=\"url(#clip400)\" d=\"M84.0938 494.904 L88.978 494.904 L88.978 500.783 L84.0938 500.783 L84.0938 494.904 Z\" fill=\"#000000\" fill-rule=\"evenodd\" fill-opacity=\"1\" /><path clip-path=\"url(#clip400)\" d=\"M97.9826 466.223 L120.205 466.223 L120.205 468.214 L107.658 500.783 L102.774 500.783 L114.58 470.159 L97.9826 470.159 L97.9826 466.223 Z\" fill=\"#000000\" fill-rule=\"evenodd\" fill-opacity=\"1\" /><path clip-path=\"url(#clip400)\" d=\"M129.371 466.223 L147.728 466.223 L147.728 470.159 L133.654 470.159 L133.654 478.631 Q134.672 478.284 135.691 478.122 Q136.709 477.936 137.728 477.936 Q143.515 477.936 146.894 481.108 Q150.274 484.279 150.274 489.696 Q150.274 495.274 146.802 498.376 Q143.33 501.455 137.01 501.455 Q134.834 501.455 132.566 501.084 Q130.32 500.714 127.913 499.973 L127.913 495.274 Q129.996 496.408 132.219 496.964 Q134.441 497.52 136.918 497.52 Q140.922 497.52 143.26 495.413 Q145.598 493.307 145.598 489.696 Q145.598 486.084 143.26 483.978 Q140.922 481.872 136.918 481.872 Q135.043 481.872 133.168 482.288 Q131.316 482.705 129.371 483.584 L129.371 466.223 Z\" fill=\"#000000\" fill-rule=\"evenodd\" fill-opacity=\"1\" /><path clip-path=\"url(#clip400)\" d=\"M53.7467 175.392 L61.3856 175.392 L61.3856 149.026 L53.0754 150.693 L53.0754 146.434 L61.3393 144.767 L66.0152 144.767 L66.0152 175.392 L73.654 175.392 L73.654 179.327 L53.7467 179.327 L53.7467 175.392 Z\" fill=\"#000000\" fill-rule=\"evenodd\" fill-opacity=\"1\" /><path clip-path=\"url(#clip400)\" d=\"M83.0984 173.447 L87.9827 173.447 L87.9827 179.327 L83.0984 179.327 L83.0984 173.447 Z\" fill=\"#000000\" fill-rule=\"evenodd\" fill-opacity=\"1\" /><path clip-path=\"url(#clip400)\" d=\"M108.168 147.846 Q104.557 147.846 102.728 151.41 Q100.922 154.952 100.922 162.082 Q100.922 169.188 102.728 172.753 Q104.557 176.295 108.168 176.295 Q111.802 176.295 113.608 172.753 Q115.436 169.188 115.436 162.082 Q115.436 154.952 113.608 151.41 Q111.802 147.846 108.168 147.846 M108.168 144.142 Q113.978 144.142 117.033 148.748 Q120.112 153.332 120.112 162.082 Q120.112 170.808 117.033 175.415 Q113.978 179.998 108.168 179.998 Q102.358 179.998 99.2789 175.415 Q96.2234 170.808 96.2234 162.082 Q96.2234 153.332 99.2789 148.748 Q102.358 144.142 108.168 144.142 Z\" fill=\"#000000\" fill-rule=\"evenodd\" fill-opacity=\"1\" /><path clip-path=\"url(#clip400)\" d=\"M138.33 147.846 Q134.719 147.846 132.89 151.41 Q131.084 154.952 131.084 162.082 Q131.084 169.188 132.89 172.753 Q134.719 176.295 138.33 176.295 Q141.964 176.295 143.769 172.753 Q145.598 169.188 145.598 162.082 Q145.598 154.952 143.769 151.41 Q141.964 147.846 138.33 147.846 M138.33 144.142 Q144.14 144.142 147.195 148.748 Q150.274 153.332 150.274 162.082 Q150.274 170.808 147.195 175.415 Q144.14 179.998 138.33 179.998 Q132.519 179.998 129.441 175.415 Q126.385 170.808 126.385 162.082 Q126.385 153.332 129.441 148.748 Q132.519 144.142 138.33 144.142 Z\" fill=\"#000000\" fill-rule=\"evenodd\" fill-opacity=\"1\" /><path clip-path=\"url(#clip400)\" d=\"M1084.63 44.2197 Q1087.26 45.1109 1089.74 48.0275 Q1092.25 50.9442 1094.76 56.0483 L1103.06 72.576 L1094.27 72.576 L1086.54 57.061 Q1083.54 50.9847 1080.7 48.9997 Q1077.91 47.0148 1073.05 47.0148 L1064.13 47.0148 L1064.13 72.576 L1055.95 72.576 L1055.95 12.096 L1074.42 12.096 Q1084.79 12.096 1089.9 16.4305 Q1095 20.7649 1095 29.5149 Q1095 35.2267 1092.33 38.994 Q1089.7 42.7613 1084.63 44.2197 M1064.13 18.8205 L1064.13 40.2903 L1074.42 40.2903 Q1080.34 40.2903 1083.34 37.5762 Q1086.37 34.8216 1086.37 29.5149 Q1086.37 24.2082 1083.34 21.5346 Q1080.34 18.8205 1074.42 18.8205 L1064.13 18.8205 Z\" fill=\"#000000\" fill-rule=\"evenodd\" fill-opacity=\"1\" /><path clip-path=\"url(#clip400)\" d=\"M1138.14 17.6457 Q1129.23 17.6457 1123.97 24.2892 Q1118.74 30.9327 1118.74 42.3968 Q1118.74 53.8203 1123.97 60.4638 Q1129.23 67.1073 1138.14 67.1073 Q1147.06 67.1073 1152.24 60.4638 Q1157.47 53.8203 1157.47 42.3968 Q1157.47 30.9327 1152.24 24.2892 Q1147.06 17.6457 1138.14 17.6457 M1138.14 11.0023 Q1150.86 11.0023 1158.48 19.5497 Q1166.1 28.0566 1166.1 42.3968 Q1166.1 56.6965 1158.48 65.2439 Q1150.86 73.7508 1138.14 73.7508 Q1125.38 73.7508 1117.73 65.2439 Q1110.11 56.737 1110.11 42.3968 Q1110.11 28.0566 1117.73 19.5497 Q1125.38 11.0023 1138.14 11.0023 Z\" fill=\"#000000\" fill-rule=\"evenodd\" fill-opacity=\"1\" /><path clip-path=\"url(#clip400)\" d=\"M1224.19 16.7545 L1224.19 25.383 Q1220.05 21.5346 1215.35 19.6307 Q1210.7 17.7268 1205.43 17.7268 Q1195.06 17.7268 1189.55 24.0867 Q1184.04 30.4061 1184.04 42.3968 Q1184.04 54.3469 1189.55 60.7069 Q1195.06 67.0263 1205.43 67.0263 Q1210.7 67.0263 1215.35 65.1223 Q1220.05 63.2184 1224.19 59.3701 L1224.19 67.9175 Q1219.89 70.8341 1215.07 72.2924 Q1210.29 73.7508 1204.94 73.7508 Q1191.21 73.7508 1183.31 65.3654 Q1175.41 56.9395 1175.41 42.3968 Q1175.41 27.8135 1183.31 19.4281 Q1191.21 11.0023 1204.94 11.0023 Q1210.37 11.0023 1215.15 12.4606 Q1219.97 13.8784 1224.19 16.7545 Z\" fill=\"#000000\" fill-rule=\"evenodd\" fill-opacity=\"1\" /><path clip-path=\"url(#clip400)\" d=\"M1295.52 28.9478 L1295.52 35.9153 Q1292.36 34.1734 1289.16 33.3227 Q1286 32.4315 1282.76 32.4315 Q1275.51 32.4315 1271.5 37.0496 Q1267.49 41.6271 1267.49 49.9314 Q1267.49 58.2358 1271.5 62.8538 Q1275.51 67.4314 1282.76 67.4314 Q1286 67.4314 1289.16 66.5807 Q1292.36 65.6895 1295.52 63.9476 L1295.52 70.8341 Q1292.4 72.2924 1289.04 73.0216 Q1285.72 73.7508 1281.95 73.7508 Q1271.7 73.7508 1265.67 67.3098 Q1259.63 60.8689 1259.63 49.9314 Q1259.63 38.832 1265.71 32.472 Q1271.82 26.1121 1282.44 26.1121 Q1285.88 26.1121 1289.16 26.8413 Q1292.44 27.5299 1295.52 28.9478 Z\" fill=\"#000000\" fill-rule=\"evenodd\" fill-opacity=\"1\" /><path clip-path=\"url(#clip400)\" d=\"M1307.71 54.671 L1307.71 27.2059 L1315.17 27.2059 L1315.17 54.3874 Q1315.17 60.8284 1317.68 64.0691 Q1320.19 67.2693 1325.21 67.2693 Q1331.25 67.2693 1334.73 63.421 Q1338.26 59.5726 1338.26 52.9291 L1338.26 27.2059 L1345.71 27.2059 L1345.71 72.576 L1338.26 72.576 L1338.26 65.6084 Q1335.54 69.7404 1331.94 71.7658 Q1328.37 73.7508 1323.64 73.7508 Q1315.82 73.7508 1311.77 68.8897 Q1307.71 64.0286 1307.71 54.671 M1326.47 26.1121 L1326.47 26.1121 Z\" fill=\"#000000\" fill-rule=\"evenodd\" fill-opacity=\"1\" /><path clip-path=\"url(#clip400)\" d=\"M1387.36 34.1734 Q1386.1 33.4443 1384.6 33.1202 Q1383.14 32.7556 1381.36 32.7556 Q1375.04 32.7556 1371.64 36.8875 Q1368.28 40.9789 1368.28 48.6757 L1368.28 72.576 L1360.78 72.576 L1360.78 27.2059 L1368.28 27.2059 L1368.28 34.2544 Q1370.63 30.1225 1374.39 28.1376 Q1378.16 26.1121 1383.55 26.1121 Q1384.32 26.1121 1385.25 26.2337 Q1386.18 26.3147 1387.32 26.5172 L1387.36 34.1734 Z\" fill=\"#000000\" fill-rule=\"evenodd\" fill-opacity=\"1\" /><path clip-path=\"url(#clip400)\" d=\"M1389.83 27.2059 L1397.73 27.2059 L1411.9 65.2844 L1426.08 27.2059 L1433.98 27.2059 L1416.97 72.576 L1406.84 72.576 L1389.83 27.2059 Z\" fill=\"#000000\" fill-rule=\"evenodd\" fill-opacity=\"1\" /><path clip-path=\"url(#clip400)\" d=\"M1483.08 48.0275 L1483.08 51.6733 L1448.81 51.6733 Q1449.29 59.3701 1453.43 63.421 Q1457.6 67.4314 1465.01 67.4314 Q1469.31 67.4314 1473.32 66.3781 Q1477.37 65.3249 1481.34 63.2184 L1481.34 70.267 Q1477.33 71.9684 1473.11 72.8596 Q1468.9 73.7508 1464.57 73.7508 Q1453.71 73.7508 1447.35 67.4314 Q1441.03 61.1119 1441.03 50.3365 Q1441.03 39.1965 1447.03 32.6746 Q1453.06 26.1121 1463.27 26.1121 Q1472.42 26.1121 1477.73 32.0264 Q1483.08 37.9003 1483.08 48.0275 M1475.62 45.84 Q1475.54 39.7232 1472.18 36.0774 Q1468.86 32.4315 1463.35 32.4315 Q1457.11 32.4315 1453.34 35.9558 Q1449.62 39.4801 1449.05 45.8805 L1475.62 45.84 Z\" fill=\"#000000\" fill-rule=\"evenodd\" fill-opacity=\"1\" /><polyline clip-path=\"url(#clip402)\" style=\"stroke:#009af9; stroke-linecap:butt; stroke-linejoin:round; stroke-width:4; stroke-opacity:1; fill:none\" points=\"\n  247.59,1447.87 247.59,1447.04 247.59,1444.55 248.953,1444.55 248.953,1441.24 250.316,1441.24 250.316,1437.92 251.68,1437.92 251.68,1436.26 253.043,1436.26 \n  253.043,1434.6 254.407,1434.6 254.407,1427.96 255.77,1427.96 255.77,1423.82 257.134,1423.82 257.134,1422.99 258.497,1422.99 258.497,1422.16 263.951,1422.16 \n  263.951,1420.5 265.315,1420.5 265.315,1419.67 266.678,1419.67 266.678,1415.52 268.042,1415.52 268.042,1414.69 269.405,1414.69 269.405,1410.54 270.769,1410.54 \n  270.769,1403.91 273.496,1403.91 273.496,1390.63 274.859,1390.63 274.859,1383.17 277.586,1383.17 277.586,1356.62 278.949,1356.62 278.949,1350.81 283.04,1350.81 \n  283.04,1349.98 284.403,1349.98 284.403,1348.33 285.767,1348.33 285.767,1328.42 287.13,1328.42 291.221,1328.42 291.221,1326.76 293.948,1326.76 295.311,1326.76 \n  295.311,1325.93 296.675,1325.93 296.675,1323.44 298.038,1323.44 298.038,1311.82 299.402,1311.82 299.402,1310.99 302.129,1310.99 302.129,1306.02 303.492,1306.02 \n  303.492,1300.21 304.856,1300.21 304.856,1292.74 306.219,1292.74 306.219,1290.26 307.582,1290.26 307.582,1286.11 308.946,1286.11 308.946,1276.15 310.309,1276.15 \n  310.309,1274.49 311.673,1274.49 311.673,1272.83 313.036,1272.83 313.036,1269.52 315.763,1269.52 315.763,1268.69 317.127,1268.69 317.127,1265.37 318.49,1265.37 \n  318.49,1259.56 319.854,1259.56 319.854,1252.1 321.217,1252.1 321.217,1251.27 322.581,1251.27 322.581,1249.61 323.944,1249.61 323.944,1246.29 325.308,1246.29 \n  325.308,1240.48 326.671,1240.48 326.671,1238.82 328.035,1238.82 328.035,1237.99 330.762,1237.99 330.762,1206.47 332.125,1206.47 332.125,1205.64 333.489,1205.64 \n  333.489,1200.66 337.579,1200.66 337.579,1199.83 340.306,1199.83 340.306,1176.61 341.669,1176.61 341.669,1174.95 343.033,1174.95 345.76,1174.95 345.76,1174.12 \n  347.123,1174.12 347.123,1173.29 349.85,1173.29 349.85,1166.65 351.214,1166.65 351.214,1164.16 353.941,1164.16 353.941,1163.33 356.668,1163.33 356.668,1159.18 \n  358.031,1159.18 358.031,1157.53 359.395,1157.53 359.395,1156.7 360.758,1156.7 360.758,1151.72 363.485,1151.72 363.485,1143.42 366.212,1143.42 366.212,1139.27 \n  367.575,1139.27 367.575,1136.79 370.302,1136.79 370.302,1134.3 371.666,1134.3 371.666,1130.15 373.029,1130.15 373.029,1121.02 374.393,1121.02 374.393,1119.37 \n  375.756,1119.37 375.756,1111.9 377.12,1111.9 377.12,1097.8 378.483,1097.8 378.483,1093.65 379.847,1093.65 379.847,1092.82 381.21,1092.82 381.21,1084.52 \n  382.574,1084.52 382.574,1080.38 383.937,1080.38 383.937,1075.4 388.028,1075.4 388.028,1067.1 389.391,1067.1 389.391,1066.27 390.755,1066.27 390.755,1062.13 \n  392.118,1062.13 392.118,1058.81 393.481,1058.81 393.481,1057.98 394.845,1057.98 394.845,1057.15 396.208,1057.15 396.208,1056.32 397.572,1056.32 397.572,1049.68 \n  398.935,1049.68 398.935,1047.19 400.299,1047.19 400.299,1043.05 401.662,1043.05 401.662,1041.39 404.389,1041.39 404.389,1031.43 405.753,1031.43 405.753,1027.28 \n  407.116,1027.28 407.116,1024.79 408.48,1024.79 408.48,1019.82 409.843,1019.82 409.843,1018.16 411.207,1018.16 411.207,1017.33 412.57,1017.33 412.57,1014.01 \n  416.661,1014.01 416.661,1012.35 418.024,1012.35 418.024,1011.52 419.388,1011.52 419.388,1010.69 420.751,1010.69 420.751,1008.2 422.114,1008.2 422.114,998.249 \n  424.841,998.249 424.841,997.419 426.205,997.419 426.205,995.76 427.568,995.76 427.568,994.93 430.295,994.93 430.295,988.294 431.659,988.294 431.659,982.487 \n  433.022,982.487 433.022,981.657 437.113,981.657 437.113,980.828 438.476,980.828 438.476,979.998 441.203,979.998 441.203,971.703 443.93,971.703 443.93,965.896 \n  445.294,965.896 445.294,964.237 446.657,964.237 446.657,962.577 448.021,962.577 448.021,961.748 449.384,961.748 449.384,960.089 452.111,960.089 452.111,957.6 \n  454.838,957.6 454.838,955.111 456.201,955.111 456.201,950.134 457.565,950.134 457.565,948.475 458.928,948.475 458.928,945.986 460.292,945.986 460.292,943.497 \n  461.655,943.497 461.655,939.35 463.019,939.35 463.019,935.202 465.746,935.202 465.746,932.713 467.109,932.713 467.109,930.224 468.473,930.224 468.473,929.395 \n  471.2,929.395 471.2,928.565 472.563,928.565 472.563,927.736 473.927,927.736 473.927,923.588 475.29,923.588 475.29,919.44 476.654,919.44 476.654,906.997 \n  479.38,906.997 479.38,906.167 480.744,906.167 480.744,896.212 482.107,896.212 482.107,893.723 483.471,893.723 483.471,891.235 484.834,891.235 484.834,881.28 \n  486.198,881.28 486.198,875.473 487.561,875.473 487.561,871.325 488.925,871.325 488.925,870.496 490.288,870.496 490.288,868.837 491.652,868.837 491.652,865.518 \n  493.015,865.518 493.015,863.859 495.742,863.859 495.742,863.03 497.106,863.03 497.106,861.37 498.469,861.37 498.469,860.541 499.833,860.541 499.833,859.711 \n  501.196,859.711 501.196,849.757 505.287,849.757 505.287,843.12 508.013,843.12 508.013,839.802 510.74,839.802 510.74,838.972 512.104,838.972 512.104,838.143 \n  514.831,838.143 514.831,835.654 516.194,835.654 516.194,834.824 521.648,834.824 521.648,832.336 524.375,832.336 524.375,827.358 525.739,827.358 525.739,825.699 \n  527.102,825.699 527.102,824.87 528.466,824.87 528.466,820.722 529.829,820.722 529.829,817.403 532.556,817.403 535.283,817.403 535.283,816.574 536.646,816.574 \n  536.646,814.085 540.737,814.085 540.737,809.937 543.464,809.937 543.464,807.449 544.827,807.449 544.827,806.619 546.191,806.619 546.191,804.96 547.554,804.96 \n  547.554,804.13 550.281,804.13 550.281,799.153 551.645,799.153 551.645,798.323 553.008,798.323 555.735,798.323 558.462,798.323 558.462,796.664 559.826,796.664 \n  559.826,792.517 561.189,792.517 561.189,790.857 562.553,790.857 562.553,790.028 563.916,790.028 563.916,782.562 565.279,782.562 565.279,780.903 566.643,780.903 \n  566.643,780.073 568.006,780.073 568.006,779.243 570.733,779.243 570.733,775.925 574.824,775.925 574.824,775.096 576.187,775.096 576.187,773.437 577.551,773.437 \n  577.551,772.607 580.278,772.607 580.278,769.289 581.641,769.289 581.641,767.63 583.005,767.63 583.005,766.8 584.368,766.8 584.368,765.141 585.732,765.141 \n  585.732,764.311 588.459,764.311 588.459,760.163 589.822,760.163 589.822,757.675 593.912,757.675 593.912,754.357 596.639,754.357 596.639,753.527 598.003,753.527 \n  598.003,751.868 599.366,751.868 599.366,741.913 600.73,741.913 600.73,736.936 602.093,736.936 602.093,731.129 603.457,731.129 603.457,728.64 606.184,728.64 \n  606.184,727.81 608.911,727.81 608.911,725.322 610.274,725.322 610.274,722.833 611.638,722.833 611.638,716.197 613.001,716.197 613.001,711.219 614.365,711.219 \n  614.365,709.56 615.728,709.56 615.728,707.071 617.092,707.071 617.092,702.923 618.455,702.923 618.455,701.264 619.819,701.264 619.819,697.117 621.182,697.117 \n  621.182,693.798 622.545,693.798 622.545,690.48 623.909,690.48 623.909,688.821 626.636,688.821 626.636,686.332 629.363,686.332 630.726,686.332 630.726,685.503 \n  632.09,685.503 632.09,677.207 634.817,677.207 634.817,676.377 636.18,676.377 636.18,671.4 637.544,671.4 637.544,670.57 638.907,670.57 638.907,669.741 \n  640.271,669.741 640.271,668.911 641.634,668.911 641.634,666.423 644.361,666.423 644.361,665.593 645.725,665.593 645.725,663.934 648.452,663.934 648.452,658.957 \n  652.542,658.957 652.542,658.127 653.905,658.127 653.905,657.297 655.269,657.297 655.269,655.638 656.632,655.638 656.632,654.809 659.359,654.809 659.359,653.979 \n  660.723,653.979 660.723,653.15 662.086,653.15 662.086,648.172 663.45,648.172 663.45,646.513 664.813,646.513 664.813,644.024 667.54,644.024 667.54,643.195 \n  668.904,643.195 668.904,637.388 670.267,637.388 674.358,637.388 674.358,635.729 675.721,635.729 675.721,633.24 679.811,633.24 679.811,632.41 681.175,632.41 \n  681.175,631.581 682.538,631.581 682.538,629.922 683.902,629.922 686.629,629.922 687.992,629.922 687.992,628.263 689.356,628.263 689.356,626.603 690.719,626.603 \n  690.719,625.774 693.446,625.774 693.446,624.115 696.173,624.115 696.173,621.626 698.9,621.626 698.9,620.797 700.264,620.797 700.264,619.967 701.627,619.967 \n  701.627,619.137 704.354,619.137 704.354,618.308 707.081,618.308 707.081,616.649 709.808,616.649 709.808,615.819 711.171,615.819 711.171,614.99 712.535,614.99 \n  712.535,613.33 713.898,613.33 713.898,610.012 715.262,610.012 715.262,608.353 717.989,608.353 717.989,606.694 720.716,606.694 720.716,603.376 724.806,603.376 \n  724.806,600.887 727.533,600.887 727.533,596.739 728.897,596.739 728.897,595.91 730.26,595.91 730.26,595.08 731.624,595.08 731.624,594.25 732.987,594.25 \n  732.987,590.103 735.714,590.103 735.714,586.784 739.804,586.784 739.804,583.466 741.168,583.466 741.168,582.637 742.531,582.637 742.531,581.807 746.622,581.807 \n  746.622,576.83 747.985,576.83 747.985,576 749.349,576 749.349,575.17 750.712,575.17 750.712,574.341 752.076,574.341 752.076,573.511 754.803,573.511 \n  754.803,571.852 757.53,571.852 761.62,571.852 761.62,570.193 762.984,570.193 762.984,565.216 765.71,565.216 765.71,564.386 767.074,564.386 767.074,563.557 \n  771.164,563.557 771.164,561.897 773.891,561.897 773.891,560.238 775.255,560.238 775.255,559.409 776.618,559.409 776.618,556.92 777.982,556.92 777.982,556.09 \n  779.345,556.09 779.345,553.602 782.072,553.602 782.072,552.772 784.799,552.772 784.799,551.943 786.163,551.943 786.163,551.113 788.89,551.113 788.89,549.454 \n  790.253,549.454 790.253,548.624 792.98,548.624 792.98,544.477 795.707,544.477 795.707,543.647 798.434,543.647 798.434,540.329 801.161,540.329 801.161,539.499 \n  803.888,539.499 803.888,537.84 805.251,537.84 807.978,537.84 807.978,536.181 809.342,536.181 809.342,534.522 810.705,534.522 810.705,532.863 814.796,532.863 \n  814.796,530.374 816.159,530.374 816.159,526.226 817.523,526.226 817.523,525.397 818.886,525.397 818.886,523.737 821.613,523.737 821.613,522.908 824.34,522.908 \n  828.43,522.908 831.157,522.908 832.521,522.908 832.521,522.078 835.248,522.078 835.248,521.249 837.975,521.249 837.975,519.59 839.338,519.59 839.338,518.76 \n  850.246,518.76 850.246,517.93 852.973,517.93 855.7,517.93 855.7,512.123 857.063,512.123 857.063,511.294 858.427,511.294 858.427,507.146 859.79,507.146 \n  859.79,505.487 865.244,505.487 866.608,505.487 866.608,502.998 870.698,502.998 870.698,497.191 876.152,497.191 876.152,495.532 877.516,495.532 877.516,494.703 \n  881.606,494.703 881.606,493.043 884.333,493.043 884.333,492.214 885.696,492.214 885.696,488.896 888.423,488.896 888.423,484.748 896.604,484.748 896.604,477.282 \n  897.968,477.282 897.968,475.623 899.331,475.623 899.331,474.793 902.058,474.793 906.149,474.793 912.966,474.793 912.966,473.963 914.329,473.963 914.329,472.304 \n  915.693,472.304 915.693,469.816 919.783,469.816 919.783,468.156 921.147,468.156 921.147,467.327 923.874,467.327 923.874,463.179 925.237,463.179 925.237,462.35 \n  926.601,462.35 926.601,461.52 927.964,461.52 930.691,461.52 936.145,461.52 936.145,460.69 948.416,460.69 948.416,459.861 951.143,459.861 951.143,459.031 \n  953.87,459.031 959.324,459.031 959.324,458.202 962.051,458.202 962.051,457.372 964.778,457.372 964.778,456.543 966.141,456.543 966.141,455.713 967.505,455.713 \n  967.505,454.883 968.868,454.883 968.868,454.054 972.959,454.054 972.959,453.224 975.686,453.224 975.686,452.395 979.776,452.395 982.503,452.395 982.503,451.565 \n  985.23,451.565 989.321,451.565 989.321,447.417 990.684,447.417 993.411,447.417 997.501,447.417 997.501,445.758 998.865,445.758 998.865,443.27 1000.23,443.27 \n  1000.23,442.44 1001.59,442.44 1004.32,442.44 1005.68,442.44 1005.68,440.781 1007.05,440.781 1007.05,439.951 1011.14,439.951 1011.14,439.122 1012.5,439.122 \n  1012.5,436.633 1015.23,436.633 1015.23,434.974 1017.95,434.974 1017.95,431.656 1020.68,431.656 1020.68,429.167 1023.41,429.167 1023.41,428.337 1026.13,428.337 \n  1026.13,425.849 1027.5,425.849 1027.5,425.019 1028.86,425.019 1028.86,421.701 1030.22,421.701 1030.22,420.042 1035.68,420.042 1035.68,419.212 1037.04,419.212 \n  1037.04,418.383 1039.77,418.383 1039.77,417.553 1041.13,417.553 1041.13,415.894 1043.86,415.894 1043.86,414.235 1046.59,414.235 1046.59,413.405 1049.31,413.405 \n  1049.31,410.916 1050.68,410.916 1050.68,409.257 1052.04,409.257 1052.04,408.428 1053.4,408.428 1053.4,406.769 1054.77,406.769 1054.77,405.939 1057.49,405.939 \n  1057.49,403.45 1060.22,403.45 1061.58,403.45 1061.58,401.791 1062.95,401.791 1062.95,400.962 1064.31,400.962 1064.31,398.473 1067.04,398.473 1067.04,397.643 \n  1068.4,397.643 1068.4,396.814 1069.77,396.814 1069.77,395.155 1071.13,395.155 1071.13,394.325 1072.49,394.325 1072.49,393.496 1075.22,393.496 1077.95,393.496 \n  1077.95,392.666 1080.67,392.666 1084.76,392.666 1084.76,391.836 1090.22,391.836 1090.22,391.007 1092.94,391.007 1092.94,390.177 1097.04,390.177 1097.04,388.518 \n  1098.4,388.518 1101.13,388.518 1106.58,388.518 1106.58,387.689 1112.03,387.689 1114.76,387.689 1114.76,386.03 1116.12,386.03 1116.12,385.2 1118.85,385.2 \n  1118.85,384.37 1122.94,384.37 1122.94,381.882 1125.67,381.882 1125.67,381.052 1135.21,381.052 1135.21,380.223 1137.94,380.223 1137.94,379.393 1140.67,379.393 \n  1140.67,378.563 1144.76,378.563 1144.76,375.245 1148.85,375.245 1151.57,375.245 1151.57,374.416 1155.66,374.416 1155.66,372.756 1162.48,372.756 1162.48,371.927 \n  1163.85,371.927 1163.85,371.097 1173.39,371.097 1173.39,370.268 1176.12,370.268 1176.12,369.438 1182.93,369.438 1182.93,367.779 1185.66,367.779 1185.66,366.95 \n  1187.02,366.95 1187.02,366.12 1189.75,366.12 1189.75,365.29 1195.21,365.29 1197.93,365.29 1197.93,364.461 1199.3,364.461 1199.3,363.631 1200.66,363.631 \n  1200.66,361.972 1202.02,361.972 1202.02,361.143 1203.39,361.143 1206.11,361.143 1206.11,360.313 1208.84,360.313 1208.84,359.483 1212.93,359.483 1212.93,358.654 \n  1214.29,358.654 1214.29,357.824 1217.02,357.824 1217.02,355.336 1219.75,355.336 1222.48,355.336 1225.2,355.336 1225.2,354.506 1226.57,354.506 1226.57,353.676 \n  1229.29,353.676 1229.29,352.847 1230.66,352.847 1230.66,347.04 1234.75,347.04 1234.75,346.21 1237.47,346.21 1237.47,345.381 1240.2,345.381 1240.2,344.551 \n  1241.56,344.551 1241.56,342.892 1242.93,342.892 1242.93,339.574 1244.29,339.574 1247.02,339.574 1248.38,339.574 1248.38,338.744 1255.2,338.744 1255.2,336.256 \n  1260.65,336.256 1260.65,334.596 1263.38,334.596 1263.38,333.767 1271.56,333.767 1274.29,333.767 1274.29,332.108 1279.74,332.108 1279.74,330.449 1282.47,330.449 \n  1286.56,330.449 1286.56,329.619 1287.92,329.619 1287.92,328.79 1289.29,328.79 1289.29,327.96 1290.65,327.96 1290.65,327.13 1294.74,327.13 1294.74,326.301 \n  1297.47,326.301 1297.47,324.642 1298.83,324.642 1298.83,323.812 1300.19,323.812 1300.19,322.153 1301.56,322.153 1301.56,321.323 1308.37,321.323 1308.37,319.664 \n  1309.74,319.664 1312.46,319.664 1315.19,319.664 1315.19,317.176 1324.74,317.176 1324.74,316.346 1326.1,316.346 1326.1,315.516 1331.55,315.516 1331.55,313.857 \n  1332.92,313.857 1332.92,310.539 1334.28,310.539 1334.28,308.88 1339.73,308.88 1342.46,308.88 1342.46,308.05 1345.19,308.05 1347.91,308.05 1349.28,308.05 \n  1349.28,307.221 1350.64,307.221 1350.64,306.391 1352.01,306.391 1352.01,303.903 1357.46,303.903 1357.46,302.243 1358.82,302.243 1358.82,301.414 1361.55,301.414 \n  1364.28,301.414 1373.82,301.414 1373.82,299.755 1377.91,299.755 1380.64,299.755 1382,299.755 1382,295.607 1384.73,295.607 1387.46,295.607 1387.46,292.289 \n  1392.91,292.289 1392.91,291.459 1394.27,291.459 1394.27,290.63 1402.45,290.63 1402.45,288.97 1403.82,288.97 1403.82,288.141 1414.73,288.141 1414.73,287.311 \n  1416.09,287.311 1416.09,286.482 1418.82,286.482 1420.18,286.482 1422.91,286.482 1424.27,286.482 1427,286.482 1427,284.823 1440.63,284.823 1440.63,283.993 \n  1443.36,283.993 1446.09,283.993 1447.45,283.993 1447.45,283.163 1448.81,283.163 1448.81,282.334 1452.9,282.334 1455.63,282.334 1455.63,281.504 1458.36,281.504 \n  1458.36,279.845 1462.45,279.845 1462.45,279.016 1469.26,279.016 1471.99,279.016 1474.72,279.016 1474.72,277.356 1480.17,277.356 1480.17,276.527 1482.9,276.527 \n  1484.26,276.527 1484.26,275.697 1489.72,275.697 1489.72,274.868 1497.9,274.868 1497.9,274.038 1499.26,274.038 1499.26,273.209 1501.99,273.209 1503.35,273.209 \n  1503.35,271.55 1504.71,271.55 1507.44,271.55 1508.81,271.55 1508.81,270.72 1511.53,270.72 1516.99,270.72 1516.99,269.89 1518.35,269.89 1518.35,269.061 \n  1519.71,269.061 1519.71,268.231 1521.08,268.231 1521.08,265.743 1527.89,265.743 1527.89,264.913 1533.35,264.913 1533.35,263.254 1537.44,263.254 1540.16,263.254 \n  1542.89,263.254 1545.62,263.254 1545.62,262.424 1548.35,262.424 1548.35,261.595 1560.62,261.595 1560.62,260.765 1563.34,260.765 1563.34,259.936 1566.07,259.936 \n  1566.07,259.106 1567.43,259.106 1567.43,258.276 1570.16,258.276 1571.52,258.276 1571.52,257.447 1572.89,257.447 1572.89,256.617 1574.25,256.617 1574.25,254.129 \n  1578.34,254.129 1578.34,253.299 1583.8,253.299 1583.8,252.47 1587.89,252.47 1587.89,251.64 1591.98,251.64 1591.98,250.81 1597.43,250.81 1600.16,250.81 \n  1600.16,249.151 1601.52,249.151 1601.52,247.492 1604.25,247.492 1606.98,247.492 1606.98,245.833 1612.43,245.833 1612.43,245.003 1620.61,245.003 1623.34,245.003 \n  1624.7,245.003 1624.7,244.174 1627.43,244.174 1627.43,242.515 1630.15,242.515 1632.88,242.515 1632.88,241.685 1647.88,241.685 1647.88,240.856 1658.79,240.856 \n  1658.79,239.196 1662.88,239.196 1662.88,237.537 1671.06,237.537 1671.06,236.708 1676.51,236.708 1676.51,235.049 1677.88,235.049 1677.88,233.39 1679.24,233.39 \n  1679.24,230.901 1687.42,230.901 1687.42,230.071 1688.78,230.071 1688.78,229.242 1691.51,229.242 1691.51,228.412 1692.87,228.412 1695.6,228.412 1699.69,228.412 \n  1699.69,227.583 1705.15,227.583 1705.15,226.753 1706.51,226.753 1706.51,225.923 1710.6,225.923 1710.6,224.264 1726.96,224.264 1729.69,224.264 1731.05,224.264 \n  1731.05,223.435 1733.78,223.435 1735.14,223.435 1735.14,222.605 1736.51,222.605 1739.23,222.605 1744.69,222.605 1744.69,221.776 1746.05,221.776 1748.78,221.776 \n  1752.87,221.776 1755.59,221.776 1763.78,221.776 1763.78,220.116 1765.14,220.116 1765.14,219.287 1770.59,219.287 1776.05,219.287 1776.05,218.457 1777.41,218.457 \n  1777.41,217.628 1781.5,217.628 1781.5,216.798 1782.86,216.798 1782.86,215.139 1784.23,215.139 1784.23,214.31 1786.95,214.31 1786.95,213.48 1788.32,213.48 \n  1788.32,210.991 1791.04,210.991 1793.77,210.991 1793.77,210.162 1795.14,210.162 1800.59,210.162 1803.32,210.162 1803.32,209.332 1808.77,209.332 1808.77,208.503 \n  1812.86,208.503 1812.86,207.673 1814.22,207.673 1814.22,206.014 1822.4,206.014 1822.4,205.184 1823.77,205.184 1823.77,204.355 1825.13,204.355 1827.86,204.355 \n  1833.31,204.355 1833.31,203.525 1838.77,203.525 1841.49,203.525 1851.04,203.525 1853.76,203.525 1853.76,202.696 1861.95,202.696 1861.95,201.866 1870.13,201.866 \n  1870.13,201.036 1871.49,201.036 1871.49,200.207 1874.22,200.207 1874.22,199.377 1882.4,199.377 1882.4,198.548 1885.12,198.548 1885.12,197.718 1887.85,197.718 \n  1890.58,197.718 1890.58,196.889 1897.4,196.889 1897.4,196.059 1901.49,196.059 1901.49,195.23 1917.85,195.23 1917.85,194.4 1920.57,194.4 1920.57,193.57 \n  1924.67,193.57 1927.39,193.57 1928.76,193.57 1928.76,192.741 1962.84,192.741 1962.84,191.911 1964.21,191.911 1966.93,191.911 1972.39,191.911 1972.39,191.082 \n  1973.75,191.082 1976.48,191.082 1977.84,191.082 1977.84,189.423 1986.02,189.423 1990.11,189.423 1996.93,189.423 1996.93,188.593 2002.38,188.593 2002.38,187.763 \n  2006.47,187.763 2006.47,186.934 2013.29,186.934 2013.29,184.445 2024.2,184.445 2024.2,182.786 2026.93,182.786 2026.93,181.956 2028.29,181.956 2028.29,181.127 \n  2029.65,181.127 2032.38,181.127 2032.38,180.297 2035.11,180.297 2035.11,179.468 2036.47,179.468 2036.47,178.638 2039.2,178.638 2039.2,176.979 2043.29,176.979 \n  2043.29,176.15 2056.92,176.15 2056.92,175.32 2061.01,175.32 2061.01,174.49 2065.1,174.49 2067.83,174.49 2071.92,174.49 2077.37,174.49 2088.28,174.49 \n  2088.28,173.661 2091.01,173.661 2091.01,172.831 2092.37,172.831 2092.37,172.002 2097.83,172.002 2099.19,172.002 2099.19,171.172 2101.92,171.172 2101.92,170.343 \n  2104.64,170.343 2104.64,169.513 2112.82,169.513 2112.82,167.854 2149.64,167.854 2152.37,167.854 2155.09,167.854 2157.82,167.854 2161.91,167.854 2161.91,167.024 \n  2164.64,167.024 2182.36,167.024 2185.09,167.024 2235.54,167.024 2238.26,167.024 2238.26,166.195 2243.72,166.195 2243.72,165.365 2246.45,165.365 2249.17,165.365 \n  2250.54,165.365 2253.26,165.365 2260.08,165.365 2260.08,164.536 2269.62,164.536 2269.62,163.706 2273.72,163.706 2273.72,162.876 2285.99,162.876 2288.71,162.876 \n  2290.08,162.876 2290.08,162.047 2291.44,162.047 \n  \"/>\n<path clip-path=\"url(#clip400)\" d=\"\nM1987.39 272.585 L2280.54 272.585 L2280.54 168.905 L1987.39 168.905  Z\n  \" fill=\"#ffffff\" fill-rule=\"evenodd\" fill-opacity=\"1\"/>\n<polyline clip-path=\"url(#clip400)\" style=\"stroke:#000000; stroke-linecap:butt; stroke-linejoin:round; stroke-width:4; stroke-opacity:1; fill:none\" points=\"\n  1987.39,272.585 2280.54,272.585 2280.54,168.905 1987.39,168.905 1987.39,272.585 \n  \"/>\n<polyline clip-path=\"url(#clip400)\" style=\"stroke:#009af9; stroke-linecap:butt; stroke-linejoin:round; stroke-width:4; stroke-opacity:1; fill:none\" points=\"\n  2011.46,220.745 2155.89,220.745 \n  \"/>\n<path clip-path=\"url(#clip400)\" d=\"M2193.81 240.432 Q2192 245.062 2190.29 246.474 Q2188.58 247.886 2185.71 247.886 L2182.3 247.886 L2182.3 244.321 L2184.8 244.321 Q2186.56 244.321 2187.53 243.488 Q2188.51 242.654 2189.69 239.552 L2190.45 237.608 L2179.97 212.099 L2184.48 212.099 L2192.58 232.377 L2200.68 212.099 L2205.2 212.099 L2193.81 240.432 Z\" fill=\"#000000\" fill-rule=\"evenodd\" fill-opacity=\"1\" /><path clip-path=\"url(#clip400)\" d=\"M2212.49 234.089 L2220.13 234.089 L2220.13 207.724 L2211.82 209.391 L2211.82 205.131 L2220.08 203.465 L2224.76 203.465 L2224.76 234.089 L2232.4 234.089 L2232.4 238.025 L2212.49 238.025 L2212.49 234.089 Z\" fill=\"#000000\" fill-rule=\"evenodd\" fill-opacity=\"1\" /></svg>\n"
     },
     "execution_count": 44,
     "metadata": {},
     "output_type": "execute_result"
    }
   ],
   "source": [
    "plot(fpr, tpr)\n",
    "title!(\"ROC curve\")"
   ]
  },
  {
   "cell_type": "markdown",
   "metadata": {},
   "source": [
    "## Final Discussion\n",
    "\n",
    "When accounting for class imbalance, the model accuracy is reduced to 71 percent from about 81 percent.  \n",
    "\n",
    "While this seems counterintutive, the second model is actually a better model overall.  \n",
    "\n",
    "The model with 81 percent accuracy is simply more accurate by chance.  The bin of exits to remains is far larger.  Thus, reported accuracy is higher. \n",
    "\n",
    "When the classes are normalized, we see a prediction of about 71 percent.  Confidently, I can say that this model would scale appropriately.  \n",
    "\n",
    "The first model on the other hand would scale to about 25-30 percent accuracy. "
   ]
  }
 ],
 "metadata": {
  "interpreter": {
   "hash": "31f2aee4e71d21fbe5cf8b01ff0e069b9275f58929596ceb00d14d90e3e16cd6"
  },
  "kernelspec": {
   "display_name": "Julia 1.7.2",
   "language": "julia",
   "name": "julia-1.7"
  },
  "language_info": {
   "file_extension": ".jl",
   "mimetype": "application/julia",
   "name": "julia",
   "version": "1.7.2"
  },
  "orig_nbformat": 4
 },
 "nbformat": 4,
 "nbformat_minor": 2
}
