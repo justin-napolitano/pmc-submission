{
 "cells": [
  {
   "cell_type": "markdown",
   "metadata": {},
   "source": [
    "# PMC Submission\n",
    "\n",
    "Justin Napolitano"
   ]
  },
  {
   "cell_type": "markdown",
   "metadata": {},
   "source": [
    "## Scope of this Project\n",
    "I have been given a technical test by PMC. The goal is to create a data pipeline from publicly available data sets. \n"
   ]
  },
  {
   "cell_type": "markdown",
   "metadata": {},
   "source": [
    "## The Prompt\n",
    "\n",
    "Technical Assessment:\n",
    "\n",
    "1) Use the publicly available BigQuery dataset named `nyc-tlc.green.trips_2015`, provide SQL queries to answer the following questions:\n",
    "\n",
    "What is the total amount and passenger counts for the months of February, March and April?\n",
    "What has been the average hourly passenger count throughout the year?\n",
    "What has been the change/delta in total amount billed over days? What we would like see is how much (positive or negative) difference we have seen, day over day, in terms of `total_amount`.\n",
    "What hour of the day has seen the longest rides in April?\n",
    "2) (a) Let's say you're tasked with using an API to record the weather. Specifically, we want to know the current temperature at our HQ in Los Angeles each day. We want it saved as a CSV file and then loaded into a database. \n",
    "\n",
    "Use: Open Weather API (https://openweathermap.org/current).\n",
    "\n",
    "Latitude: 34.047470\n",
    "\n",
    "Longitude: -118.445950\n",
    "\n",
    "Please share a few lines of code in Java or Python that shows how you would retrieve and load this data. This can be pseudocode, but please share the temperature value that results from your API call.\n",
    "\n",
    "Note: You'll need to register for Open Weather and confirm your email address to receive a personal API Key. No payment is required for this free key.\n",
    "\n",
    "(b) Now, assume we needed to make a similar call, but retrieving information about many locations and much more than just the temperature. Assume it will retrieve 500MB of data a day. Describe any alterations you would want to make to your code, where the code would run each day, where the data would be saved, and which database you'd prefer to store it in."
   ]
  },
  {
   "cell_type": "markdown",
   "metadata": {},
   "source": [
    "## What I intend to Submit"
   ]
  },
  {
   "cell_type": "markdown",
   "metadata": {},
   "source": [
    "### Part 1\n",
    "\n",
    "The Big query data is available via the big query api.  The prompt requests that I write SQL queries to request specific data and reports\n",
    "\n",
    "I intend to\n",
    "1. Create a Google Cloud Project\n",
    "2. Write a Python Script to interact with the Big Query Api\n",
    "3. Submit a query string\n",
    "4. Save the results to csv.  Probably line by line for computational efficiency \n",
    "5. Possibly transition the data another big query Nosql table.  Or a standard Postgre/marida/mysql/mongo.  IDK.  It depends on the workflow.  \n",
    "\n"
   ]
  },
  {
   "cell_type": "markdown",
   "metadata": {},
   "source": [
    "## Getting Started with the Google API"
   ]
  },
  {
   "cell_type": "markdown",
   "metadata": {},
   "source": [
    "### Creating the VirtualEnv\n",
    "\n",
    "```bash\n",
    "virtual env `<path/to/file>`\n",
    "```\n",
    "### Installing the Google Big Table APi\n",
    "\n",
    "```bash\n",
    "pip install google-cloud-bigtable \n",
    "```"
   ]
  },
  {
   "cell_type": "markdown",
   "metadata": {},
   "source": [
    "## Create a New Project in the Google Cloud Console\n",
    "\n",
    "Review the following [documentation link](https://cloud.google.com/resource-manager/docs/creating-managing-projects)\n"
   ]
  },
  {
   "cell_type": "markdown",
   "metadata": {},
   "source": [
    "### Create a Service Account for the Project\n",
    "\n",
    "```bash\n",
    " gcloud iam service-accounts create pmc-sub\n",
    " ```\n",
    "\n",
    " ### Grant roles to the Account\n",
    "\n",
    " ```bash\n",
    "\n",
    " gcloud projects add-iam-policy-binding PROJECT_ID --member=\"serviceAccount:SERVICE_ACCOUNT_NAME@PROJECT_ID.iam.gserviceaccount.com\" --role=ROLE\n",
    "\n",
    " ```\n",
    "\n",
    "### Generate the key file\n",
    "\n",
    "``` bash\n",
    "gcloud iam service-accounts keys create FILE_NAME.json --iam-account=SERVICE_ACCOUNT_NAME@PROJECT_ID.iam.gserviceaccount.com\n",
    "```\n",
    "\n",
    "### Set your Environmental Variable\n",
    "\n",
    "``` bash\n",
    "export GOOGLE_APPLICATION_CREDENTIALS=\"/path/to/keyfile.json\"\n",
    "```"
   ]
  },
  {
   "cell_type": "markdown",
   "metadata": {},
   "source": [
    "## Writing the Application"
   ]
  },
  {
   "cell_type": "code",
   "execution_count": 1,
   "metadata": {},
   "outputs": [
    {
     "name": "stdout",
     "output_type": "stream",
     "text": [
      "Collecting google-cloud-bigtable\n",
      "  Downloading google_cloud_bigtable-2.9.0-py2.py3-none-any.whl (237 kB)\n",
      "\u001b[2K     \u001b[90m━━━━━━━━━━━━━━━━━━━━━━━━━━━━━━━━━━━━━━━\u001b[0m \u001b[32m237.1/237.1 KB\u001b[0m \u001b[31m5.1 MB/s\u001b[0m eta \u001b[36m0:00:00\u001b[0m00:01\u001b[0m\n",
      "\u001b[?25hCollecting proto-plus>=1.18.0\n",
      "  Downloading proto_plus-1.20.4-py3-none-any.whl (46 kB)\n",
      "\u001b[2K     \u001b[90m━━━━━━━━━━━━━━━━━━━━━━━━━━━━━━━━━━━━━━━━\u001b[0m \u001b[32m46.4/46.4 KB\u001b[0m \u001b[31m4.5 MB/s\u001b[0m eta \u001b[36m0:00:00\u001b[0m\n",
      "\u001b[?25hCollecting grpc-google-iam-v1<1.0.0dev,>=0.12.4\n",
      "  Downloading grpc_google_iam_v1-0.12.4-py2.py3-none-any.whl (26 kB)\n",
      "Collecting google-api-core[grpc]!=2.0.*,!=2.1.*,!=2.2.*,!=2.3.0,<3.0.0dev,>=1.31.5\n",
      "  Downloading google_api_core-2.8.0-py3-none-any.whl (114 kB)\n",
      "\u001b[2K     \u001b[90m━━━━━━━━━━━━━━━━━━━━━━━━━━━━━━━━━━━━━━━\u001b[0m \u001b[32m114.7/114.7 KB\u001b[0m \u001b[31m5.7 MB/s\u001b[0m eta \u001b[36m0:00:00\u001b[0m\n",
      "\u001b[?25hCollecting google-cloud-core<3.0.0dev,>=1.4.1\n",
      "  Downloading google_cloud_core-2.3.0-py2.py3-none-any.whl (29 kB)\n",
      "Collecting protobuf>=3.12.0\n",
      "  Using cached protobuf-3.20.1-cp39-cp39-macosx_10_9_x86_64.whl (962 kB)\n",
      "Collecting google-auth<3.0dev,>=1.25.0\n",
      "  Using cached google_auth-2.6.6-py2.py3-none-any.whl (156 kB)\n",
      "Collecting googleapis-common-protos<2.0dev,>=1.52.0\n",
      "  Downloading googleapis_common_protos-1.56.1-py2.py3-none-any.whl (211 kB)\n",
      "\u001b[2K     \u001b[90m━━━━━━━━━━━━━━━━━━━━━━━━━━━━━━━━━━━━━━━\u001b[0m \u001b[32m211.7/211.7 KB\u001b[0m \u001b[31m7.3 MB/s\u001b[0m eta \u001b[36m0:00:00\u001b[0m\n",
      "\u001b[?25hRequirement already satisfied: requests<3.0.0dev,>=2.18.0 in /Users/jnapolitano/venvs/finance/lib/python3.9/site-packages (from google-api-core[grpc]!=2.0.*,!=2.1.*,!=2.2.*,!=2.3.0,<3.0.0dev,>=1.31.5->google-cloud-bigtable) (2.27.1)\n",
      "Collecting grpcio-status<2.0dev,>=1.33.2\n",
      "  Downloading grpcio_status-1.46.3-py3-none-any.whl (10.0 kB)\n",
      "Collecting grpcio<2.0dev,>=1.33.2\n",
      "  Downloading grpcio-1.46.3-cp39-cp39-macosx_10_10_x86_64.whl (4.4 MB)\n",
      "\u001b[2K     \u001b[90m━━━━━━━━━━━━━━━━━━━━━━━━━━━━━━━━━━━━━━━━\u001b[0m \u001b[32m4.4/4.4 MB\u001b[0m \u001b[31m6.2 MB/s\u001b[0m eta \u001b[36m0:00:00\u001b[0m00:01\u001b[0m00:01\u001b[0m\n",
      "\u001b[?25hCollecting rsa<5,>=3.1.4\n",
      "  Using cached rsa-4.8-py3-none-any.whl (39 kB)\n",
      "Requirement already satisfied: six>=1.9.0 in /Users/jnapolitano/venvs/finance/lib/python3.9/site-packages (from google-auth<3.0dev,>=1.25.0->google-api-core[grpc]!=2.0.*,!=2.1.*,!=2.2.*,!=2.3.0,<3.0.0dev,>=1.31.5->google-cloud-bigtable) (1.16.0)\n",
      "Collecting cachetools<6.0,>=2.0.0\n",
      "  Downloading cachetools-5.1.0-py3-none-any.whl (9.2 kB)\n",
      "Collecting pyasn1-modules>=0.2.1\n",
      "  Using cached pyasn1_modules-0.2.8-py2.py3-none-any.whl (155 kB)\n",
      "Requirement already satisfied: charset-normalizer~=2.0.0 in /Users/jnapolitano/venvs/finance/lib/python3.9/site-packages (from requests<3.0.0dev,>=2.18.0->google-api-core[grpc]!=2.0.*,!=2.1.*,!=2.2.*,!=2.3.0,<3.0.0dev,>=1.31.5->google-cloud-bigtable) (2.0.12)\n",
      "Requirement already satisfied: certifi>=2017.4.17 in /Users/jnapolitano/venvs/finance/lib/python3.9/site-packages (from requests<3.0.0dev,>=2.18.0->google-api-core[grpc]!=2.0.*,!=2.1.*,!=2.2.*,!=2.3.0,<3.0.0dev,>=1.31.5->google-cloud-bigtable) (2021.10.8)\n",
      "Requirement already satisfied: urllib3<1.27,>=1.21.1 in /Users/jnapolitano/venvs/finance/lib/python3.9/site-packages (from requests<3.0.0dev,>=2.18.0->google-api-core[grpc]!=2.0.*,!=2.1.*,!=2.2.*,!=2.3.0,<3.0.0dev,>=1.31.5->google-cloud-bigtable) (1.26.8)\n",
      "Requirement already satisfied: idna<4,>=2.5 in /Users/jnapolitano/venvs/finance/lib/python3.9/site-packages (from requests<3.0.0dev,>=2.18.0->google-api-core[grpc]!=2.0.*,!=2.1.*,!=2.2.*,!=2.3.0,<3.0.0dev,>=1.31.5->google-cloud-bigtable) (3.3)\n",
      "Collecting pyasn1<0.5.0,>=0.4.6\n",
      "  Using cached pyasn1-0.4.8-py2.py3-none-any.whl (77 kB)\n",
      "Installing collected packages: pyasn1, rsa, pyasn1-modules, protobuf, grpcio, cachetools, proto-plus, googleapis-common-protos, google-auth, grpcio-status, google-api-core, grpc-google-iam-v1, google-cloud-core, google-cloud-bigtable\n",
      "Successfully installed cachetools-5.1.0 google-api-core-2.8.0 google-auth-2.6.6 google-cloud-bigtable-2.9.0 google-cloud-core-2.3.0 googleapis-common-protos-1.56.1 grpc-google-iam-v1-0.12.4 grpcio-1.46.3 grpcio-status-1.46.3 proto-plus-1.20.4 protobuf-3.20.1 pyasn1-0.4.8 pyasn1-modules-0.2.8 rsa-4.8\n",
      "\u001b[33mWARNING: You are using pip version 22.0.4; however, version 22.1.1 is available.\n",
      "You should consider upgrading via the '/Users/jnapolitano/venvs/finance/bin/python -m pip install --upgrade pip' command.\u001b[0m\u001b[33m\n",
      "\u001b[0mNote: you may need to restart the kernel to use updated packages.\n"
     ]
    }
   ],
   "source": [
    "pip install google-cloud-bigtable\n",
    "pip install --upgrade google-cloud-bigquery"
   ]
  },
  {
   "cell_type": "code",
   "execution_count": 2,
   "metadata": {},
   "outputs": [
    {
     "ename": "DefaultCredentialsError",
     "evalue": "Could not automatically determine credentials. Please set GOOGLE_APPLICATION_CREDENTIALS or explicitly create credentials and re-run the application. For more information, please see https://cloud.google.com/docs/authentication/getting-started",
     "output_type": "error",
     "traceback": [
      "\u001b[0;31m---------------------------------------------------------------------------\u001b[0m",
      "\u001b[0;31mDefaultCredentialsError\u001b[0m                   Traceback (most recent call last)",
      "\u001b[1;32m/Users/jnapolitano/Projects/pmc-submission/documentation.ipynb Cell 12'\u001b[0m in \u001b[0;36m<cell line: 2>\u001b[0;34m()\u001b[0m\n\u001b[1;32m      <a href='vscode-notebook-cell:/Users/jnapolitano/Projects/pmc-submission/documentation.ipynb#ch0000011?line=0'>1</a>\u001b[0m \u001b[39mfrom\u001b[39;00m \u001b[39mgoogle\u001b[39;00m\u001b[39m.\u001b[39;00m\u001b[39mcloud\u001b[39;00m\u001b[39m.\u001b[39;00m\u001b[39mbigtable\u001b[39;00m\u001b[39m.\u001b[39;00m\u001b[39mclient\u001b[39;00m \u001b[39mimport\u001b[39;00m Client\n\u001b[0;32m----> <a href='vscode-notebook-cell:/Users/jnapolitano/Projects/pmc-submission/documentation.ipynb#ch0000011?line=1'>2</a>\u001b[0m client \u001b[39m=\u001b[39m Client()\n",
      "File \u001b[0;32m~/venvs/finance/lib/python3.9/site-packages/google/cloud/bigtable/client.py:195\u001b[0m, in \u001b[0;36mClient.__init__\u001b[0;34m(self, project, credentials, read_only, admin, client_info, client_options, admin_client_options, channel)\u001b[0m\n\u001b[1;32m    <a href='file:///Users/jnapolitano/venvs/finance/lib/python3.9/site-packages/google/cloud/bigtable/client.py?line=192'>193</a>\u001b[0m \u001b[39mself\u001b[39m\u001b[39m.\u001b[39m_channel \u001b[39m=\u001b[39m channel\n\u001b[1;32m    <a href='file:///Users/jnapolitano/venvs/finance/lib/python3.9/site-packages/google/cloud/bigtable/client.py?line=193'>194</a>\u001b[0m \u001b[39mself\u001b[39m\u001b[39m.\u001b[39mSCOPE \u001b[39m=\u001b[39m \u001b[39mself\u001b[39m\u001b[39m.\u001b[39m_get_scopes()\n\u001b[0;32m--> <a href='file:///Users/jnapolitano/venvs/finance/lib/python3.9/site-packages/google/cloud/bigtable/client.py?line=194'>195</a>\u001b[0m \u001b[39msuper\u001b[39;49m(Client, \u001b[39mself\u001b[39;49m)\u001b[39m.\u001b[39;49m\u001b[39m__init__\u001b[39;49m(\n\u001b[1;32m    <a href='file:///Users/jnapolitano/venvs/finance/lib/python3.9/site-packages/google/cloud/bigtable/client.py?line=195'>196</a>\u001b[0m     project\u001b[39m=\u001b[39;49mproject,\n\u001b[1;32m    <a href='file:///Users/jnapolitano/venvs/finance/lib/python3.9/site-packages/google/cloud/bigtable/client.py?line=196'>197</a>\u001b[0m     credentials\u001b[39m=\u001b[39;49mcredentials,\n\u001b[1;32m    <a href='file:///Users/jnapolitano/venvs/finance/lib/python3.9/site-packages/google/cloud/bigtable/client.py?line=197'>198</a>\u001b[0m     client_options\u001b[39m=\u001b[39;49mclient_options,\n\u001b[1;32m    <a href='file:///Users/jnapolitano/venvs/finance/lib/python3.9/site-packages/google/cloud/bigtable/client.py?line=198'>199</a>\u001b[0m )\n",
      "File \u001b[0;32m~/venvs/finance/lib/python3.9/site-packages/google/cloud/client/__init__.py:320\u001b[0m, in \u001b[0;36mClientWithProject.__init__\u001b[0;34m(self, project, credentials, client_options, _http)\u001b[0m\n\u001b[1;32m    <a href='file:///Users/jnapolitano/venvs/finance/lib/python3.9/site-packages/google/cloud/client/__init__.py?line=318'>319</a>\u001b[0m \u001b[39mdef\u001b[39;00m \u001b[39m__init__\u001b[39m(\u001b[39mself\u001b[39m, project\u001b[39m=\u001b[39m\u001b[39mNone\u001b[39;00m, credentials\u001b[39m=\u001b[39m\u001b[39mNone\u001b[39;00m, client_options\u001b[39m=\u001b[39m\u001b[39mNone\u001b[39;00m, _http\u001b[39m=\u001b[39m\u001b[39mNone\u001b[39;00m):\n\u001b[0;32m--> <a href='file:///Users/jnapolitano/venvs/finance/lib/python3.9/site-packages/google/cloud/client/__init__.py?line=319'>320</a>\u001b[0m     _ClientProjectMixin\u001b[39m.\u001b[39;49m\u001b[39m__init__\u001b[39;49m(\u001b[39mself\u001b[39;49m, project\u001b[39m=\u001b[39;49mproject, credentials\u001b[39m=\u001b[39;49mcredentials)\n\u001b[1;32m    <a href='file:///Users/jnapolitano/venvs/finance/lib/python3.9/site-packages/google/cloud/client/__init__.py?line=320'>321</a>\u001b[0m     Client\u001b[39m.\u001b[39m\u001b[39m__init__\u001b[39m(\n\u001b[1;32m    <a href='file:///Users/jnapolitano/venvs/finance/lib/python3.9/site-packages/google/cloud/client/__init__.py?line=321'>322</a>\u001b[0m         \u001b[39mself\u001b[39m, credentials\u001b[39m=\u001b[39mcredentials, client_options\u001b[39m=\u001b[39mclient_options, _http\u001b[39m=\u001b[39m_http\n\u001b[1;32m    <a href='file:///Users/jnapolitano/venvs/finance/lib/python3.9/site-packages/google/cloud/client/__init__.py?line=322'>323</a>\u001b[0m     )\n",
      "File \u001b[0;32m~/venvs/finance/lib/python3.9/site-packages/google/cloud/client/__init__.py:268\u001b[0m, in \u001b[0;36m_ClientProjectMixin.__init__\u001b[0;34m(self, project, credentials)\u001b[0m\n\u001b[1;32m    <a href='file:///Users/jnapolitano/venvs/finance/lib/python3.9/site-packages/google/cloud/client/__init__.py?line=264'>265</a>\u001b[0m     project \u001b[39m=\u001b[39m \u001b[39mgetattr\u001b[39m(credentials, \u001b[39m\"\u001b[39m\u001b[39mproject_id\u001b[39m\u001b[39m\"\u001b[39m, \u001b[39mNone\u001b[39;00m)\n\u001b[1;32m    <a href='file:///Users/jnapolitano/venvs/finance/lib/python3.9/site-packages/google/cloud/client/__init__.py?line=266'>267</a>\u001b[0m \u001b[39mif\u001b[39;00m project \u001b[39mis\u001b[39;00m \u001b[39mNone\u001b[39;00m:\n\u001b[0;32m--> <a href='file:///Users/jnapolitano/venvs/finance/lib/python3.9/site-packages/google/cloud/client/__init__.py?line=267'>268</a>\u001b[0m     project \u001b[39m=\u001b[39m \u001b[39mself\u001b[39;49m\u001b[39m.\u001b[39;49m_determine_default(project)\n\u001b[1;32m    <a href='file:///Users/jnapolitano/venvs/finance/lib/python3.9/site-packages/google/cloud/client/__init__.py?line=269'>270</a>\u001b[0m \u001b[39mif\u001b[39;00m project \u001b[39mis\u001b[39;00m \u001b[39mNone\u001b[39;00m:\n\u001b[1;32m    <a href='file:///Users/jnapolitano/venvs/finance/lib/python3.9/site-packages/google/cloud/client/__init__.py?line=270'>271</a>\u001b[0m     \u001b[39mraise\u001b[39;00m \u001b[39mEnvironmentError\u001b[39;00m(\n\u001b[1;32m    <a href='file:///Users/jnapolitano/venvs/finance/lib/python3.9/site-packages/google/cloud/client/__init__.py?line=271'>272</a>\u001b[0m         \u001b[39m\"\u001b[39m\u001b[39mProject was not passed and could not be \u001b[39m\u001b[39m\"\u001b[39m\n\u001b[1;32m    <a href='file:///Users/jnapolitano/venvs/finance/lib/python3.9/site-packages/google/cloud/client/__init__.py?line=272'>273</a>\u001b[0m         \u001b[39m\"\u001b[39m\u001b[39mdetermined from the environment.\u001b[39m\u001b[39m\"\u001b[39m\n\u001b[1;32m    <a href='file:///Users/jnapolitano/venvs/finance/lib/python3.9/site-packages/google/cloud/client/__init__.py?line=273'>274</a>\u001b[0m     )\n",
      "File \u001b[0;32m~/venvs/finance/lib/python3.9/site-packages/google/cloud/client/__init__.py:287\u001b[0m, in \u001b[0;36m_ClientProjectMixin._determine_default\u001b[0;34m(project)\u001b[0m\n\u001b[1;32m    <a href='file:///Users/jnapolitano/venvs/finance/lib/python3.9/site-packages/google/cloud/client/__init__.py?line=283'>284</a>\u001b[0m \u001b[39m@staticmethod\u001b[39m\n\u001b[1;32m    <a href='file:///Users/jnapolitano/venvs/finance/lib/python3.9/site-packages/google/cloud/client/__init__.py?line=284'>285</a>\u001b[0m \u001b[39mdef\u001b[39;00m \u001b[39m_determine_default\u001b[39m(project):\n\u001b[1;32m    <a href='file:///Users/jnapolitano/venvs/finance/lib/python3.9/site-packages/google/cloud/client/__init__.py?line=285'>286</a>\u001b[0m     \u001b[39m\"\"\"Helper:  use default project detection.\"\"\"\u001b[39;00m\n\u001b[0;32m--> <a href='file:///Users/jnapolitano/venvs/finance/lib/python3.9/site-packages/google/cloud/client/__init__.py?line=286'>287</a>\u001b[0m     \u001b[39mreturn\u001b[39;00m _determine_default_project(project)\n",
      "File \u001b[0;32m~/venvs/finance/lib/python3.9/site-packages/google/cloud/_helpers/__init__.py:152\u001b[0m, in \u001b[0;36m_determine_default_project\u001b[0;34m(project)\u001b[0m\n\u001b[1;32m    <a href='file:///Users/jnapolitano/venvs/finance/lib/python3.9/site-packages/google/cloud/_helpers/__init__.py?line=139'>140</a>\u001b[0m \u001b[39m\"\"\"Determine default project ID explicitly or implicitly as fall-back.\u001b[39;00m\n\u001b[1;32m    <a href='file:///Users/jnapolitano/venvs/finance/lib/python3.9/site-packages/google/cloud/_helpers/__init__.py?line=140'>141</a>\u001b[0m \n\u001b[1;32m    <a href='file:///Users/jnapolitano/venvs/finance/lib/python3.9/site-packages/google/cloud/_helpers/__init__.py?line=141'>142</a>\u001b[0m \u001b[39mSee :func:`google.auth.default` for details on how the default project\u001b[39;00m\n\u001b[0;32m   (...)\u001b[0m\n\u001b[1;32m    <a href='file:///Users/jnapolitano/venvs/finance/lib/python3.9/site-packages/google/cloud/_helpers/__init__.py?line=148'>149</a>\u001b[0m \u001b[39m:returns: Default project if it can be determined.\u001b[39;00m\n\u001b[1;32m    <a href='file:///Users/jnapolitano/venvs/finance/lib/python3.9/site-packages/google/cloud/_helpers/__init__.py?line=149'>150</a>\u001b[0m \u001b[39m\"\"\"\u001b[39;00m\n\u001b[1;32m    <a href='file:///Users/jnapolitano/venvs/finance/lib/python3.9/site-packages/google/cloud/_helpers/__init__.py?line=150'>151</a>\u001b[0m \u001b[39mif\u001b[39;00m project \u001b[39mis\u001b[39;00m \u001b[39mNone\u001b[39;00m:\n\u001b[0;32m--> <a href='file:///Users/jnapolitano/venvs/finance/lib/python3.9/site-packages/google/cloud/_helpers/__init__.py?line=151'>152</a>\u001b[0m     _, project \u001b[39m=\u001b[39m google\u001b[39m.\u001b[39;49mauth\u001b[39m.\u001b[39;49mdefault()\n\u001b[1;32m    <a href='file:///Users/jnapolitano/venvs/finance/lib/python3.9/site-packages/google/cloud/_helpers/__init__.py?line=152'>153</a>\u001b[0m \u001b[39mreturn\u001b[39;00m project\n",
      "File \u001b[0;32m~/venvs/finance/lib/python3.9/site-packages/google/auth/_default.py:579\u001b[0m, in \u001b[0;36mdefault\u001b[0;34m(scopes, request, quota_project_id, default_scopes)\u001b[0m\n\u001b[1;32m    <a href='file:///Users/jnapolitano/venvs/finance/lib/python3.9/site-packages/google/auth/_default.py?line=570'>571</a>\u001b[0m             _LOGGER\u001b[39m.\u001b[39mwarning(\n\u001b[1;32m    <a href='file:///Users/jnapolitano/venvs/finance/lib/python3.9/site-packages/google/auth/_default.py?line=571'>572</a>\u001b[0m                 \u001b[39m\"\u001b[39m\u001b[39mNo project ID could be determined. Consider running \u001b[39m\u001b[39m\"\u001b[39m\n\u001b[1;32m    <a href='file:///Users/jnapolitano/venvs/finance/lib/python3.9/site-packages/google/auth/_default.py?line=572'>573</a>\u001b[0m                 \u001b[39m\"\u001b[39m\u001b[39m`gcloud config set project` or setting the \u001b[39m\u001b[39m%s\u001b[39;00m\u001b[39m \u001b[39m\u001b[39m\"\u001b[39m\n\u001b[1;32m    <a href='file:///Users/jnapolitano/venvs/finance/lib/python3.9/site-packages/google/auth/_default.py?line=573'>574</a>\u001b[0m                 \u001b[39m\"\u001b[39m\u001b[39menvironment variable\u001b[39m\u001b[39m\"\u001b[39m,\n\u001b[1;32m    <a href='file:///Users/jnapolitano/venvs/finance/lib/python3.9/site-packages/google/auth/_default.py?line=574'>575</a>\u001b[0m                 environment_vars\u001b[39m.\u001b[39mPROJECT,\n\u001b[1;32m    <a href='file:///Users/jnapolitano/venvs/finance/lib/python3.9/site-packages/google/auth/_default.py?line=575'>576</a>\u001b[0m             )\n\u001b[1;32m    <a href='file:///Users/jnapolitano/venvs/finance/lib/python3.9/site-packages/google/auth/_default.py?line=576'>577</a>\u001b[0m         \u001b[39mreturn\u001b[39;00m credentials, effective_project_id\n\u001b[0;32m--> <a href='file:///Users/jnapolitano/venvs/finance/lib/python3.9/site-packages/google/auth/_default.py?line=578'>579</a>\u001b[0m \u001b[39mraise\u001b[39;00m exceptions\u001b[39m.\u001b[39mDefaultCredentialsError(_HELP_MESSAGE)\n",
      "\u001b[0;31mDefaultCredentialsError\u001b[0m: Could not automatically determine credentials. Please set GOOGLE_APPLICATION_CREDENTIALS or explicitly create credentials and re-run the application. For more information, please see https://cloud.google.com/docs/authentication/getting-started"
     ]
    }
   ],
   "source": [
    "from google.cloud.bigtable.client import Client\n",
    "client = Client()"
   ]
  },
  {
   "cell_type": "code",
   "execution_count": null,
   "metadata": {},
   "outputs": [],
   "source": []
  }
 ],
 "metadata": {
  "interpreter": {
   "hash": "767d51c1340bd893661ea55ea3124f6de3c7a262a8b4abca0554b478b1e2ff90"
  },
  "kernelspec": {
   "display_name": "venv",
   "language": "python",
   "name": "venv"
  },
  "language_info": {
   "codemirror_mode": {
    "name": "ipython",
    "version": 3
   },
   "file_extension": ".py",
   "mimetype": "text/x-python",
   "name": "python",
   "nbconvert_exporter": "python",
   "pygments_lexer": "ipython3",
   "version": "3.9.12"
  },
  "orig_nbformat": 4
 },
 "nbformat": 4,
 "nbformat_minor": 2
}
